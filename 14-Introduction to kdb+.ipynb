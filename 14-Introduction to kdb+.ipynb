{
 "cells": [
  {
   "cell_type": "markdown",
   "metadata": {},
   "source": [
    "Roughly speaking, kdb+ is what happens when q tables are persisted and then mapped back into memory for operations. "
   ]
  },
  {
   "cell_type": "markdown",
   "metadata": {},
   "source": [
    "### 14.1 Tables in Memory and Serialization"
   ]
  },
  {
   "cell_type": "markdown",
   "metadata": {},
   "source": [
    "It is possible to maintain a table entirely in memory, provided you have enough physical memory to hold it. There is one problem with this from a database perspective:\n",
    "\n",
    "An in-memory table is ephemeral – meaning that all modifications are lost if the q process dies.\n",
    "One solution is to serialize the table to persistent storage using set or similar mechanisms. In this section we recapitulate material from previous chapters from this perspective."
   ]
  },
  {
   "cell_type": "markdown",
   "metadata": {},
   "source": [
    "#### 14.1.1 Tables and Keyed Tables"
   ]
  },
  {
   "cell_type": "markdown",
   "metadata": {},
   "source": [
    "**A table is the flip of a column dictionary, in which address slots are reversed but no data is moved during the transpose.** For example, here is a table with two simple list columns."
   ]
  },
  {
   "cell_type": "code",
   "execution_count": 1,
   "metadata": {},
   "outputs": [
    {
     "data": {
      "text/plain": [
       "s v  \r\n",
       "-----\r\n",
       "a 100\r\n",
       "b 200\r\n",
       "c 300\r\n"
      ]
     },
     "execution_count": 1,
     "metadata": {},
     "output_type": "execute_result"
    }
   ],
   "source": [
    "flip `s`v!(`a`b`c;100 200 300)"
   ]
  },
  {
   "cell_type": "markdown",
   "metadata": {},
   "source": [
    "Table definition syntax permits tables to be defined in more readable format."
   ]
  },
  {
   "cell_type": "code",
   "execution_count": 2,
   "metadata": {},
   "outputs": [
    {
     "data": {
      "text/plain": [
       "s v  \r\n",
       "-----\r\n",
       "a 100\r\n",
       "b 200\r\n",
       "c 300\r\n"
      ]
     },
     "execution_count": 2,
     "metadata": {},
     "output_type": "execute_result"
    }
   ],
   "source": [
    "([] s:`a`b`c; v:100 200 300)"
   ]
  },
  {
   "cell_type": "markdown",
   "metadata": {},
   "source": [
    "The schema of a table has the same form but with empty columns – i.e., no rows."
   ]
  },
  {
   "cell_type": "code",
   "execution_count": 3,
   "metadata": {},
   "outputs": [
    {
     "data": {
      "text/plain": [
       "s v\r\n",
       "---\r\n"
      ]
     },
     "execution_count": 3,
     "metadata": {},
     "output_type": "execute_result"
    }
   ],
   "source": [
    "([] s:`symbol$(); v:`int$())"
   ]
  },
  {
   "cell_type": "markdown",
   "metadata": {},
   "source": [
    "It is good practice to prototype the empty lists in a schema; unfortunately, this is not possible if the corresponding columns are not simple lists."
   ]
  },
  {
   "cell_type": "markdown",
   "metadata": {},
   "source": [
    "The type of any table is **98h** and the function **meta** summarizes the column names, types and attributes in a result keyed table."
   ]
  },
  {
   "cell_type": "code",
   "execution_count": 4,
   "metadata": {},
   "outputs": [
    {
     "data": {
      "text/plain": [
       "c| t f a\r\n",
       "-| -----\r\n",
       "s| s    \r\n",
       "v| i    \r\n"
      ]
     },
     "execution_count": 4,
     "metadata": {},
     "output_type": "execute_result"
    }
   ],
   "source": [
    "meta ([] s:`symbol$(); v:`int$())"
   ]
  },
  {
   "cell_type": "markdown",
   "metadata": {},
   "source": [
    "**A keyed table** is a dictionary that establishes positional correspondence between a table of (presumably unique) keys and a table of values."
   ]
  },
  {
   "cell_type": "code",
   "execution_count": 5,
   "metadata": {},
   "outputs": [
    {
     "data": {
      "text/plain": [
       "id  | s v  \r\n",
       "----| -----\r\n",
       "1001| a 100\r\n",
       "1002| b 200\r\n",
       "1003| c 300\r\n"
      ]
     },
     "execution_count": 5,
     "metadata": {},
     "output_type": "execute_result"
    }
   ],
   "source": [
    "([] id:1001 1002 1003)!([] s:`a`b`c; v:100 200 300)"
   ]
  },
  {
   "cell_type": "markdown",
   "metadata": {},
   "source": [
    "Table definition syntax is more compact."
   ]
  },
  {
   "cell_type": "code",
   "execution_count": 6,
   "metadata": {},
   "outputs": [
    {
     "data": {
      "text/plain": [
       "id  | s v  \r\n",
       "----| -----\r\n",
       "1001| a 100\r\n",
       "1002| b 200\r\n",
       "1003| c 300\r\n"
      ]
     },
     "execution_count": 6,
     "metadata": {},
     "output_type": "execute_result"
    }
   ],
   "source": [
    "([id:1001 1002 1003] s:`a`b`c; v:100 200 300)"
   ]
  },
  {
   "cell_type": "markdown",
   "metadata": {},
   "source": [
    "The type of any keyed table is **99h**, since it is a dictionary and meta applies exactly as with tables."
   ]
  },
  {
   "cell_type": "markdown",
   "metadata": {},
   "source": [
    "#### 14.1.2 Foreign Keys and Link Columns"
   ]
  },
  {
   "cell_type": "markdown",
   "metadata": {},
   "source": [
    "**A foreign key** is one or more table columns that are enumerated over the key component of a keyed table. For example, the column ID in the table below is a foreign key over kt. Note that the foreign-key column is identified by the name of its target table in the result of meta."
   ]
  },
  {
   "cell_type": "code",
   "execution_count": 17,
   "metadata": {},
   "outputs": [
    {
     "data": {
      "text/plain": [
       "id   q  \r\n",
       "--------\r\n",
       "1002 100\r\n",
       "1001 101\r\n",
       "1003 102\r\n",
       "1001 103\r\n"
      ]
     },
     "execution_count": 17,
     "metadata": {},
     "output_type": "execute_result"
    }
   ],
   "source": [
    "kt:([id:1001 1002 1003] s:`a`b`c; v:100 200 300) / keyed\n",
    "t:([]; id:`kt$1002 1001 1003 1001; q:100 101 102 103)\n",
    "t"
   ]
  },
  {
   "cell_type": "code",
   "execution_count": 18,
   "metadata": {},
   "outputs": [
    {
     "data": {
      "text/plain": [
       "c | t f  a\r\n",
       "--| ------\r\n",
       "id| j kt  \r\n",
       "q | j     \r\n"
      ]
     },
     "execution_count": 18,
     "metadata": {},
     "output_type": "execute_result"
    }
   ],
   "source": [
    "meta t"
   ]
  },
  {
   "cell_type": "markdown",
   "metadata": {},
   "source": [
    "A query on a table having a foreign key can access columns in the keyed table via dot notation."
   ]
  },
  {
   "cell_type": "code",
   "execution_count": 9,
   "metadata": {},
   "outputs": [
    {
     "data": {
      "text/plain": [
       "v   q  \r\n",
       "-------\r\n",
       "200 100\r\n",
       "100 101\r\n",
       "300 102\r\n",
       "100 103\r\n"
      ]
     },
     "execution_count": 9,
     "metadata": {},
     "output_type": "execute_result"
    }
   ],
   "source": [
    "select id.v, q from t"
   ]
  },
  {
   "cell_type": "markdown",
   "metadata": {},
   "source": [
    "**A link column** is similar to a foreign key, in that its entries are indices of rows in a table, but you must perform the lookup manually. The advantages of link columns are:\n",
    "\n",
    "- The target can be a table or keyed table.\n",
    "- The target can be the table containing the link column.\n",
    "- Link columns can be splayed or partitioned, whereas foreign keys cannot.\n",
    "\n",
    "\n",
    "Here is the previous foreign-key example redone with a link column against a table."
   ]
  },
  {
   "cell_type": "code",
   "execution_count": 11,
   "metadata": {},
   "outputs": [],
   "source": [
    "tk:([] id:1001 1002 100; s:`a`b`c; v:100 200 300) / not keyed"
   ]
  },
  {
   "cell_type": "code",
   "execution_count": 19,
   "metadata": {},
   "outputs": [
    {
     "data": {
      "text/plain": [
       "id q  \r\n",
       "------\r\n",
       "1  100\r\n",
       "0  101\r\n",
       "3  102\r\n",
       "0  103\r\n"
      ]
     },
     "execution_count": 19,
     "metadata": {},
     "output_type": "execute_result"
    }
   ],
   "source": [
    "t:([]; id:`tk!(exec id from tk)?1002 1001 1003 1001; q:100 101 102 103)\n",
    "t"
   ]
  },
  {
   "cell_type": "code",
   "execution_count": 20,
   "metadata": {},
   "outputs": [
    {
     "data": {
      "text/plain": [
       "c | t f  a\r\n",
       "--| ------\r\n",
       "id| j tk  \r\n",
       "q | j     \r\n"
      ]
     },
     "execution_count": 20,
     "metadata": {},
     "output_type": "execute_result"
    }
   ],
   "source": [
    "meta t"
   ]
  },
  {
   "cell_type": "markdown",
   "metadata": {},
   "source": [
    "Here is an example that uses a link column to implement a **hierarchical structure in a table**. The column pid is a link column that relates a row to its parent row."
   ]
  },
  {
   "cell_type": "code",
   "execution_count": 22,
   "metadata": {},
   "outputs": [
    {
     "data": {
      "text/plain": [
       "id pid v  \r\n",
       "----------\r\n",
       "0      100\r\n",
       "1  0   200\r\n",
       "2  0   300\r\n",
       "3  1   400\r\n",
       "4  1   500\r\n"
      ]
     },
     "execution_count": 22,
     "metadata": {},
     "output_type": "execute_result"
    }
   ],
   "source": [
    "tree:([] id:0 1 2 3 4; pid:`tree!0N 0 0 1 1; v:100 200 300 400 500)\n",
    "tree"
   ]
  },
  {
   "cell_type": "code",
   "execution_count": 23,
   "metadata": {},
   "outputs": [
    {
     "data": {
      "text/plain": [
       "id pid v  \r\n",
       "----------\r\n",
       "1  0   200\r\n",
       "2  0   300\r\n"
      ]
     },
     "execution_count": 23,
     "metadata": {},
     "output_type": "execute_result"
    }
   ],
   "source": [
    "select from tree where pid=0 / find children of root"
   ]
  },
  {
   "cell_type": "markdown",
   "metadata": {},
   "source": [
    "#### 14.1.3 Serializing Tables"
   ]
  },
  {
   "cell_type": "markdown",
   "metadata": {},
   "source": [
    "It is possible to persist any table (or keyed table) using the general q serialization/deserialization capability of **set and get**. There is no restriction on table or column types."
   ]
  },
  {
   "cell_type": "code",
   "execution_count": 14,
   "metadata": {},
   "outputs": [
    {
     "data": {
      "text/plain": [
       "`:ex_tables/table1\r\n"
      ]
     },
     "execution_count": 14,
     "metadata": {},
     "output_type": "execute_result"
    }
   ],
   "source": [
    "`:ex_tables/table1 set ([] s:`a`b`c; v:100 200 300)"
   ]
  },
  {
   "cell_type": "code",
   "execution_count": 15,
   "metadata": {},
   "outputs": [
    {
     "name": "stdout",
     "output_type": "stream",
     "text": [
      "s v  \r\n",
      "-----\r\n",
      "a 100\r\n",
      "b 200\r\n",
      "c 300\r\n"
     ]
    }
   ],
   "source": [
    "show t2:get `:ex_tables/table1 / C:/Dev/kdb_q/notebooks/q_for_mortals/t1\n"
   ]
  },
  {
   "cell_type": "markdown",
   "metadata": {},
   "source": [
    "You can serialize foreign keys and link columns and bring them back into memory."
   ]
  },
  {
   "cell_type": "markdown",
   "metadata": {},
   "source": [
    "#### 14.1.4 Operating on Serialized Tables"
   ]
  },
  {
   "cell_type": "markdown",
   "metadata": {},
   "source": [
    "You operate on a serialized table by loading it into memory with get or \\l"
   ]
  },
  {
   "cell_type": "code",
   "execution_count": 16,
   "metadata": {},
   "outputs": [
    {
     "data": {
      "text/plain": [
       "`table1\r\n"
      ]
     },
     "execution_count": 16,
     "metadata": {},
     "output_type": "execute_result"
    },
    {
     "data": {
      "text/plain": [
       "s v  \r\n",
       "-----\r\n",
       "a 100\r\n",
       "b 200\r\n",
       "c 300\r\n"
      ]
     },
     "execution_count": 16,
     "metadata": {},
     "output_type": "execute_result"
    }
   ],
   "source": [
    "t1:0\n",
    "\\l ex_tables/table1\n",
    "table1"
   ]
  },
  {
   "cell_type": "code",
   "execution_count": 17,
   "metadata": {},
   "outputs": [
    {
     "data": {
      "text/plain": [
       "s v  \r\n",
       "-----\r\n",
       "a 100\r\n",
       "b 200\r\n",
       "c 300\r\n"
      ]
     },
     "execution_count": 17,
     "metadata": {},
     "output_type": "execute_result"
    }
   ],
   "source": [
    "t2: get `:ex_tables/table1\n",
    "t2"
   ]
  },
  {
   "cell_type": "markdown",
   "metadata": {},
   "source": [
    "Alternatively, you can perform a query on a serialized table by specifying its file handle as the table name."
   ]
  },
  {
   "cell_type": "code",
   "execution_count": 18,
   "metadata": {},
   "outputs": [
    {
     "data": {
      "text/plain": [
       "s v  \r\n",
       "-----\r\n",
       "a 100\r\n",
       "c 300\r\n"
      ]
     },
     "execution_count": 18,
     "metadata": {},
     "output_type": "execute_result"
    }
   ],
   "source": [
    "select from `:ex_tables/table1 where s in `a`c"
   ]
  },
  {
   "cell_type": "code",
   "execution_count": 19,
   "metadata": {},
   "outputs": [
    {
     "data": {
      "text/plain": [
       "`:ex_tables/table1\r\n"
      ]
     },
     "execution_count": 19,
     "metadata": {},
     "output_type": "execute_result"
    }
   ],
   "source": [
    "`:ex_tables/table1 upsert (`x;42)"
   ]
  },
  {
   "cell_type": "code",
   "execution_count": 20,
   "metadata": {},
   "outputs": [
    {
     "data": {
      "text/plain": [
       "s v  \r\n",
       "-----\r\n",
       "a 100\r\n",
       "b 200\r\n",
       "c 300\r\n",
       "x 42 \r\n"
      ]
     },
     "execution_count": 20,
     "metadata": {},
     "output_type": "execute_result"
    }
   ],
   "source": [
    "select from `:ex_tables/table1"
   ]
  },
  {
   "cell_type": "markdown",
   "metadata": {},
   "source": [
    "Similar operations are available on keyed tables."
   ]
  },
  {
   "cell_type": "markdown",
   "metadata": {},
   "source": [
    "The limitation to using a serialized table or keyed table is that, behind the scenes, the operations load it into memory and write it back out. Amongst other things, this means that anyone wanting to work with it must be able to fit it into memory in its entirety."
   ]
  },
  {
   "cell_type": "markdown",
   "metadata": {},
   "source": [
    "### 14.2 Splayed Tables"
   ]
  },
  {
   "cell_type": "markdown",
   "metadata": {},
   "source": [
    "In the previous section, we saw that it is possible to persist tables using serialization. From a database perspective there are (at least) two issues with operating on serialized tables due to the fact that the entire table is loaded into memory.\n",
    "\n",
    "- The entire table must fit into memory on each user’s machine.\n",
    "- Operations against the persisted table will be slow due to reloading the entire table each time."
   ]
  },
  {
   "cell_type": "markdown",
   "metadata": {},
   "source": [
    "When a table is too large to fit into memory as a single entity, we can persist its components into a directory. This is called **splaying** the table because the table is pulled apart into its constituent columns "
   ]
  },
  {
   "cell_type": "markdown",
   "metadata": {},
   "source": [
    "Splaying solves the memory/reload issue because a splayed table is mapped into memory; columns are loaded on demand then memory is released when no longer needed. Tables with many columns especially benefit from splaying since most queries refer to only a handful of columns and only those columns will actually be loaded.\n",
    "\n",
    "A splayed table corresponds to a directory whose name is the table name. Each column list of the table is serialized into a file whose name is the column name."
   ]
  },
  {
   "cell_type": "markdown",
   "metadata": {},
   "source": [
    "A list of the symbolic column names is serialized to the hidden file .din the directory to record column order. This is the only metadata stored by kdb+; all other metadata is read from directory and file names.\n",
    "\n",
    "Customarily the splayed directory is created one level down from a directory that serves as the root of the database.\n",
    "\n",
    "\n",
    "- /root\n",
    "- /tablename <- splayed table directory\n",
    "- .d <- file with column names\n",
    "- column1name <- column data file\n",
    "- column2name <- column data file\n",
    "…"
   ]
  },
  {
   "cell_type": "markdown",
   "metadata": {},
   "source": [
    "#### 14.2.1 Creating Splayed Tables"
   ]
  },
  {
   "cell_type": "markdown",
   "metadata": {},
   "source": [
    "**Make sure you include the trailing **/ **in the file handle; otherwise, you will serialize the table into a single file.**"
   ]
  },
  {
   "cell_type": "code",
   "execution_count": 1,
   "metadata": {},
   "outputs": [
    {
     "data": {
      "text/plain": [
       "`:ex_splayed/table2/\r\n"
      ]
     },
     "execution_count": 1,
     "metadata": {},
     "output_type": "execute_result"
    }
   ],
   "source": [
    "`:ex_splayed/table2/ set ([] v1:10 20 30; v2:1.1 2.2 3.3)"
   ]
  },
  {
   "cell_type": "markdown",
   "metadata": {},
   "source": [
    "It is also possible to create a splayed table with upsert, or with the equivalent generalized application, using the file handle as the table name. When the file does not exist, these act like set."
   ]
  },
  {
   "cell_type": "code",
   "execution_count": 3,
   "metadata": {},
   "outputs": [
    {
     "data": {
      "text/plain": [
       "`:ex_splayed/table3/\r\n"
      ]
     },
     "execution_count": 3,
     "metadata": {},
     "output_type": "execute_result"
    }
   ],
   "source": [
    "`:ex_splayed/table3/ upsert ([] v1:10 20 30; v2:1.1 2.2 3.3)"
   ]
  },
  {
   "cell_type": "markdown",
   "metadata": {},
   "source": [
    "Reading the constituents of the splayed directory with get demonstrates that they are simply serialized q entities."
   ]
  },
  {
   "cell_type": "code",
   "execution_count": 5,
   "metadata": {},
   "outputs": [
    {
     "data": {
      "text/plain": [
       "10 20 30\r\n"
      ]
     },
     "execution_count": 5,
     "metadata": {},
     "output_type": "execute_result"
    },
    {
     "data": {
      "text/plain": [
       "1.1 2.2 3.3\r\n"
      ]
     },
     "execution_count": 5,
     "metadata": {},
     "output_type": "execute_result"
    },
    {
     "data": {
      "text/plain": [
       "`v1`v2\r\n"
      ]
     },
     "execution_count": 5,
     "metadata": {},
     "output_type": "execute_result"
    }
   ],
   "source": [
    "get `:ex_splayed/table3/v1\n",
    "get `:ex_splayed/table3/v2\n",
    "get `:ex_splayed/table3/.d"
   ]
  },
  {
   "cell_type": "markdown",
   "metadata": {},
   "source": [
    "**Restrictions:**\n",
    "\n",
    "1) Tables can be splayed. Keyed tables cannot.\n",
    "   Hence, FK can't be splayed, but linked columns can be.\n",
    "   \n",
    "2) Only columns that are simple lists or compound lists can be splayed. By compound list we mean a list of simple lists of uniform type.\n",
    "\n",
    "3) All symbol columns must be enumerated."
   ]
  },
  {
   "cell_type": "markdown",
   "metadata": {},
   "source": [
    "#### 14.2.2 Splayed Tables with Symbol Columns"
   ]
  },
  {
   "cell_type": "markdown",
   "metadata": {},
   "source": [
    "The convention for symbol columns in splayed (and partitioned) tables is that all symbol columns in all tables are enumerated over the list **sym**, which is serialized into the root directory."
   ]
  },
  {
   "cell_type": "markdown",
   "metadata": {},
   "source": [
    "**.Q.en** utility can be used to enumerate symbols"
   ]
  },
  {
   "cell_type": "code",
   "execution_count": 17,
   "metadata": {},
   "outputs": [
    {
     "data": {
      "text/plain": [
       "`:ex_splayed/table4/\r\n"
      ]
     },
     "execution_count": 17,
     "metadata": {},
     "output_type": "execute_result"
    }
   ],
   "source": [
    "`:ex_splayed/table4/ set .Q.en[`:ex_splayed;] ([] s1:`a`b`c; v:10 20 30; s2:`x`y`z)"
   ]
  },
  {
   "cell_type": "code",
   "execution_count": 4,
   "metadata": {},
   "outputs": [],
   "source": [
    "\\l ex_splayed / loading entire db: sym file + tables"
   ]
  },
  {
   "cell_type": "code",
   "execution_count": 5,
   "metadata": {},
   "outputs": [
    {
     "data": {
      "text/plain": [
       "`a`b`c`x`y`z\r\n"
      ]
     },
     "execution_count": 5,
     "metadata": {},
     "output_type": "execute_result"
    }
   ],
   "source": [
    "sym"
   ]
  },
  {
   "cell_type": "code",
   "execution_count": 9,
   "metadata": {},
   "outputs": [
    {
     "data": {
      "text/plain": [
       "v1 v2 \r\n",
       "------\r\n",
       "10 1.1\r\n",
       "20 2.2\r\n",
       "30 3.3\r\n"
      ]
     },
     "execution_count": 9,
     "metadata": {},
     "output_type": "execute_result"
    }
   ],
   "source": [
    "select from table3"
   ]
  },
  {
   "cell_type": "code",
   "execution_count": 10,
   "metadata": {},
   "outputs": [
    {
     "data": {
      "text/plain": [
       "s1 v  s2\r\n",
       "--------\r\n",
       "a  10 x \r\n",
       "b  20 y \r\n",
       "c  30 z \r\n"
      ]
     },
     "execution_count": 10,
     "metadata": {},
     "output_type": "execute_result"
    }
   ],
   "source": [
    "select from table4"
   ]
  },
  {
   "cell_type": "markdown",
   "metadata": {},
   "source": [
    "#### 14.2.3 Splayed Tables with Nested Columns"
   ]
  },
  {
   "cell_type": "markdown",
   "metadata": {},
   "source": [
    "The only nested columns that can be splayed are what we call compound lists – i.e., **lists of simple lists of uniform type** - all elements in column are lists of the elements of the same type. **The most common example is a list of strings, which is a list of lists of char**. A compound column is indicated by an upper case letter in the result of meta. "
   ]
  },
  {
   "cell_type": "code",
   "execution_count": 4,
   "metadata": {},
   "outputs": [
    {
     "name": "stdout",
     "output_type": "stream",
     "text": [
      "ci    cstr \r\n",
      "-----------\r\n",
      "1 2 3 \"abc\"\r\n",
      ",4    ,\"d\" \r\n",
      "5 6   \"ef\" \r\n"
     ]
    },
    {
     "data": {
      "text/plain": [
       "c   | t f a\r\n",
       "----| -----\r\n",
       "ci  | J    \r\n",
       "cstr| C    \r\n"
      ]
     },
     "execution_count": 4,
     "metadata": {},
     "output_type": "execute_result"
    }
   ],
   "source": [
    "show cc:([] ci:(1 2 3; enlist 4; 5 6); cstr:(\"abc\";enlist\"d\";\"ef\"))\n",
    "meta cc"
   ]
  },
  {
   "cell_type": "code",
   "execution_count": 5,
   "metadata": {},
   "outputs": [
    {
     "data": {
      "text/plain": [
       "c| t f a\r\n",
       "-| -----\r\n",
       "c|      \r\n"
      ]
     },
     "execution_count": 5,
     "metadata": {},
     "output_type": "execute_result"
    }
   ],
   "source": [
    "cc1:([] c:(1;1,1;`1))\n",
    "meta cc1"
   ]
  },
  {
   "cell_type": "markdown",
   "metadata": {},
   "source": [
    "- One question that always arises when designing a kdb+ database is **whether to store text data as symbols or strings**. The advantage of symbols is that they have atomic semantics and, since they are integers under the covers once they are enumerated, processing is quite fast. The main issue with symbols is that if you make all text into symbols, your sym list gets enormous and the advantages of enumeration disappear.\n",
    "\n",
    "\n",
    "- In contrast, strings do not pollute the sym list with one-off instances and are reasonably fast. The disadvantage is that they are not first class and you must revert to teenage years by using like to match them.\n",
    "\n",
    "\n",
    "- Only make text columns into symbols when the fields will be drawn from a small, reasonably stable domain and there is significant repetition in their use. When in doubt, start with a string column. It is much easier to convert a string column to symbols that it is to remove symbols from the sym list.\n",
    "\n",
    "\n",
    "- A text column that is drawn from a fixed list or a lookup table is an ideal candidate. So are invariant keys, provided the key domain is small and will not grow unreasonably. On the other hand, fields such as comments or notes should always be strings."
   ]
  },
  {
   "cell_type": "markdown",
   "metadata": {},
   "source": [
    "#### 14.2.4 Basic Operations on Splayed Tables"
   ]
  },
  {
   "cell_type": "code",
   "execution_count": 27,
   "metadata": {},
   "outputs": [
    {
     "data": {
      "text/plain": [
       "`:ex_splayed14_2_4/table5/\r\n"
      ]
     },
     "execution_count": 27,
     "metadata": {},
     "output_type": "execute_result"
    }
   ],
   "source": [
    "`:ex_splayed14_2_4/table5/ set .Q.en[`:/ex_splayed14_2_4;] ([] s1:`a`b`cc; v:10 20 30; s2:`x`y`zz)"
   ]
  },
  {
   "cell_type": "markdown",
   "metadata": {},
   "source": [
    "To operate on a splayed table you can map it into memory in one of two ways:\n",
    "\n",
    "- You can specify a splayed table on the q startup command immediately after the q executable.\n",
    "- Alternatively, you can use \\l to map the table.\n",
    "\n",
    "**After that step table is not loaded, but mapped into memory** \n",
    "\n",
    "The illusion that the table is actually in memory after it is mapped is convincing. Many fundamental table operations work on splayed tables."
   ]
  },
  {
   "cell_type": "code",
   "execution_count": 28,
   "metadata": {},
   "outputs": [],
   "source": [
    "\\l ex_splayed14_2_4"
   ]
  },
  {
   "cell_type": "code",
   "execution_count": 29,
   "metadata": {
    "scrolled": true
   },
   "outputs": [
    {
     "data": {
      "text/plain": [
       "`a`b`c`x`y`z`cc`zz\r\n"
      ]
     },
     "execution_count": 29,
     "metadata": {},
     "output_type": "execute_result"
    },
    {
     "data": {
      "text/plain": [
       "s1 v  s2\r\n",
       "--------\r\n",
       "a  10 x \r\n",
       "b  20 y \r\n",
       "cc 30 zz\r\n"
      ]
     },
     "execution_count": 29,
     "metadata": {},
     "output_type": "execute_result"
    }
   ],
   "source": [
    "sym\n",
    "table5"
   ]
  },
  {
   "cell_type": "markdown",
   "metadata": {},
   "source": [
    "You cannot use dot notation to extract columns from a splayed table but you can extract a column with symbol indexing."
   ]
  },
  {
   "cell_type": "code",
   "execution_count": 30,
   "metadata": {},
   "outputs": [
    {
     "data": {
      "text/plain": [
       "`sym$`a`b`cc\r\n"
      ]
     },
     "execution_count": 30,
     "metadata": {},
     "output_type": "execute_result"
    }
   ],
   "source": [
    "table5 `s1"
   ]
  },
  {
   "cell_type": "code",
   "execution_count": 30,
   "metadata": {},
   "outputs": [
    {
     "ename": "\u001b[0;31ms1\u001b[0m",
     "evalue": "\u001b[0;31ms1\u001b[0m",
     "output_type": "error",
     "traceback": [
      "\u001b[0;31mevaluation error:\n\u001b[0m",
      "\u001b[0;31ms1\u001b[0m",
      "\u001b[0;31m\u001b[0m",
      "\u001b[0;31m  [0]  table5.s1\r\n       ^\r\n\u001b[0m"
     ]
    }
   ],
   "source": [
    "table5.s1"
   ]
  },
  {
   "cell_type": "markdown",
   "metadata": {},
   "source": [
    "- You can use both select and exec templates on a splayed table.\n",
    "- This contrasts with partitioned tables where you can only use select."
   ]
  },
  {
   "cell_type": "markdown",
   "metadata": {},
   "source": [
    "#### 14.2.5 Operations on a Splayed Directory"
   ]
  },
  {
   "cell_type": "markdown",
   "metadata": {},
   "source": [
    "As of this writing (Sep 2015), the table operations available against the file handle of a splayed table are:\n",
    "- select\n",
    "- exec\n",
    "- upsert\n",
    "- xasc\n",
    "- `attr# (apply an attribute)."
   ]
  },
  {
   "cell_type": "code",
   "execution_count": 30,
   "metadata": {
    "scrolled": true
   },
   "outputs": [
    {
     "ename": "\u001b[0;31mex_splayed14_2_4/table5. OS reports: The system cannot find the path specified.\u001b[0m",
     "evalue": "\u001b[0;31mex_splayed14_2_4/table5. OS reports: The system cannot find the path specified.\u001b[0m",
     "output_type": "error",
     "traceback": [
      "\u001b[0;31mevaluation error:\n\u001b[0m",
      "\u001b[0;31mex_splayed14_2_4/table5. OS reports: The system cannot find the path specified.\u001b[0m",
      "\u001b[0;31m\u001b[0m",
      "\u001b[0;31m  [0]  select from `:ex_splayed14_2_4/table5\r\n       ^\r\n\u001b[0m"
     ]
    }
   ],
   "source": [
    "select from `:ex_splayed14_2_4/table5"
   ]
  },
  {
   "cell_type": "code",
   "execution_count": 3,
   "metadata": {},
   "outputs": [
    {
     "data": {
      "text/plain": [
       "10 20 30\r\n"
      ]
     },
     "execution_count": 3,
     "metadata": {},
     "output_type": "execute_result"
    }
   ],
   "source": [
    "exec v from `:ex_splayed14_2_4/table5"
   ]
  },
  {
   "cell_type": "code",
   "execution_count": 10,
   "metadata": {},
   "outputs": [
    {
     "data": {
      "text/plain": [
       "`:ex_splayed14_2_6/table5\r\n"
      ]
     },
     "execution_count": 10,
     "metadata": {},
     "output_type": "execute_result"
    },
    {
     "data": {
      "text/plain": [
       "s1 v  s2\r\n",
       "--------\r\n",
       "cc 30 zz\r\n",
       "b  20 y \r\n",
       "a  10 x \r\n"
      ]
     },
     "execution_count": 10,
     "metadata": {},
     "output_type": "execute_result"
    }
   ],
   "source": [
    "`v xdesc `:ex_splayed14_2_4/table5\n",
    "select from `:ex_splayed14_2_4/table5"
   ]
  },
  {
   "cell_type": "markdown",
   "metadata": {},
   "source": [
    "We point out a source of confusion to qbies. Specifically, the behavior of **update on a splayed table that has been mapped into memory.** "
   ]
  },
  {
   "cell_type": "code",
   "execution_count": 31,
   "metadata": {},
   "outputs": [
    {
     "data": {
      "text/plain": [
       "`:C:/Dev/kdb_q/notebooks/q_for_mortals/ex_splayed14_2_5/table6/\r\n"
      ]
     },
     "execution_count": 31,
     "metadata": {},
     "output_type": "execute_result"
    }
   ],
   "source": [
    "`:C:/Dev/kdb_q/notebooks/q_for_mortals/ex_splayed14_2_5/table6/ set .Q.en[`:C:/Dev/kdb_q/notebooks/q_for_mortals/ex_splayed14_2_5;] ([] s1:`a`b`cc; v:10 20 30; s2:`x`y`zz)"
   ]
  },
  {
   "cell_type": "code",
   "execution_count": 32,
   "metadata": {},
   "outputs": [
    {
     "data": {
      "text/plain": [
       "s1 v  s2\r\n",
       "--------\r\n",
       "a  10 x \r\n",
       "b  20 y \r\n",
       "cc 30 zz\r\n"
      ]
     },
     "execution_count": 32,
     "metadata": {},
     "output_type": "execute_result"
    }
   ],
   "source": [
    "\\l C:\\Dev\\kdb_q\\notebooks\\q_for_mortals\\ex_splayed14_2_5\n",
    "table6"
   ]
  },
  {
   "cell_type": "code",
   "execution_count": 33,
   "metadata": {},
   "outputs": [
    {
     "data": {
      "text/plain": [
       "`table6\r\n"
      ]
     },
     "execution_count": 33,
     "metadata": {},
     "output_type": "execute_result"
    },
    {
     "data": {
      "text/plain": [
       "s1 v   s2\r\n",
       "---------\r\n",
       "a  10  x \r\n",
       "b  20  y \r\n",
       "cc 300 zz\r\n"
      ]
     },
     "execution_count": 33,
     "metadata": {},
     "output_type": "execute_result"
    }
   ],
   "source": [
    "update v:300 from `table6 where s1=`cc\n",
    "table6"
   ]
  },
  {
   "cell_type": "markdown",
   "metadata": {},
   "source": [
    "Update was not persisted!\n",
    "\n",
    "Updates applied to a mapped table are only visible in the workspace and are not reflected on disk. "
   ]
  },
  {
   "cell_type": "code",
   "execution_count": 34,
   "metadata": {},
   "outputs": [
    {
     "data": {
      "text/plain": [
       "s1 v  s2\r\n",
       "--------\r\n",
       "a  10 x \r\n",
       "b  20 y \r\n",
       "cc 30 zz\r\n"
      ]
     },
     "execution_count": 34,
     "metadata": {},
     "output_type": "execute_result"
    }
   ],
   "source": [
    "\\l C:\\Dev\\kdb_q\\notebooks\\q_for_mortals\\ex_splayed14_2_5\n",
    "table6"
   ]
  },
  {
   "cell_type": "markdown",
   "metadata": {},
   "source": [
    "###### fundamental limitation of kdb+."
   ]
  },
  {
   "cell_type": "markdown",
   "metadata": {},
   "source": [
    "It is not possible to use built-in operations to update data in persisted splayed tables.\n",
    "\n",
    "** Kdb+ is intended to store data that is not updated or deleted once it has been written.** We shall see in the next section how to append to a splayed table, which makes it possible to process updates and deletes in a bitemporal fashion, but this capability is not available out of the box.\n",
    "\n"
   ]
  },
  {
   "cell_type": "markdown",
   "metadata": {},
   "source": [
    "#### 14.2.6 Appending to a Splayed Table"
   ]
  },
  {
   "cell_type": "markdown",
   "metadata": {},
   "source": [
    "Since upsert acts as insert on regular (non-keyed) tables and only non-keyed tables can be splayed, **we use upsert with the splayed directory name in order to append records to a splayed table on disk**. This is a good thing, since insert doesn’t work on splayed tables. Also, because symbol columns must be enumerated for splayed tables, it is best to make rows into tables."
   ]
  },
  {
   "cell_type": "code",
   "execution_count": 1,
   "metadata": {},
   "outputs": [
    {
     "data": {
      "text/plain": [
       "`:C:/Dev/kdb_q/notebooks/q_for_mortals/ex_splayed14_2_6/table7/\r\n"
      ]
     },
     "execution_count": 1,
     "metadata": {},
     "output_type": "execute_result"
    },
    {
     "data": {
      "text/plain": [
       "s1 v  s2\r\n",
       "--------\r\n",
       "a  10 x \r\n",
       "b  20 y \r\n",
       "c  30 z \r\n"
      ]
     },
     "execution_count": 1,
     "metadata": {},
     "output_type": "execute_result"
    }
   ],
   "source": [
    "`:C:/Dev/kdb_q/notebooks/q_for_mortals/ex_splayed14_2_6/table7/ set .Q.en[`:C:/Dev/kdb_q/notebooks/q_for_mortals/ex_splayed14_2_6;] ([] s1:`a`b`c; v:10 20 30; s2:`x`y`z)\n",
    "select from `:C:/Dev/kdb_q/notebooks/q_for_mortals/ex_splayed14_2_6/table7/"
   ]
  },
  {
   "cell_type": "code",
   "execution_count": 2,
   "metadata": {},
   "outputs": [
    {
     "data": {
      "text/plain": [
       "`:C:/Dev/kdb_q/notebooks/q_for_mortals/ex_splayed14_2_6/table7\r\n"
      ]
     },
     "execution_count": 2,
     "metadata": {},
     "output_type": "execute_result"
    }
   ],
   "source": [
    "`:C:/Dev/kdb_q/notebooks/q_for_mortals/ex_splayed14_2_6/table7 upsert .Q.en[`:C:/Dev/kdb_q/notebooks/q_for_mortals/ex_splayed14_2_6;] ([] s1:`d`e; v:40 50; s2:`u`v)"
   ]
  },
  {
   "cell_type": "code",
   "execution_count": 3,
   "metadata": {},
   "outputs": [
    {
     "data": {
      "text/plain": [
       "s1 v  s2\r\n",
       "--------\r\n",
       "a  10 x \r\n",
       "b  20 y \r\n",
       "c  30 z \r\n",
       "d  40 u \r\n",
       "e  50 v \r\n"
      ]
     },
     "execution_count": 3,
     "metadata": {},
     "output_type": "execute_result"
    }
   ],
   "source": [
    "select from `:C:/Dev/kdb_q/notebooks/q_for_mortals/ex_splayed14_2_6/table7"
   ]
  },
  {
   "cell_type": "markdown",
   "metadata": {},
   "source": [
    "#### 14.2.7 Manual Operations on a Splayed Directory"
   ]
  },
  {
   "cell_type": "markdown",
   "metadata": {},
   "source": [
    "Although there are no built-in operations to update splayed tables on disk, you can perform such operations by manipulating the serialized files.\n",
    "\n",
    "\n",
    "\n",
    "The examples shown here should be used with caution, as none of the operations are atomic; they are simply file-system manipulation. Even read-only users could see inconsistent data, so things are best done when no other users are accessing the database."
   ]
  },
  {
   "cell_type": "code",
   "execution_count": null,
   "metadata": {},
   "outputs": [],
   "source": []
  },
  {
   "cell_type": "code",
   "execution_count": null,
   "metadata": {},
   "outputs": [],
   "source": []
  },
  {
   "cell_type": "markdown",
   "metadata": {},
   "source": [
    "#### 14.2.9 Splayed Tables with Link Columns"
   ]
  },
  {
   "cell_type": "markdown",
   "metadata": {},
   "source": [
    "We previously pointed out that you cannot splay a keyed table, and therefore cannot have a foreign-key relation between splayed tables. However, you can splay a link column and then use dot notation just as you would with a foreign key. You must do the work of creating the index yourself, just as with link columns with tables in memory.\n",
    "\n",
    "In our first example, we create the link at the same time as we splay the tables. This is the same as creating the link on in-memory tables and then splaying them."
   ]
  },
  {
   "cell_type": "code",
   "execution_count": 41,
   "metadata": {},
   "outputs": [
    {
     "data": {
      "text/plain": [
       "`t2\r\n"
      ]
     },
     "execution_count": 41,
     "metadata": {},
     "output_type": "execute_result"
    },
    {
     "data": {
      "text/plain": [
       "`:C:/Dev/kdb_q/notebooks/q_for_mortals/14_2_9/t1/\r\n"
      ]
     },
     "execution_count": 41,
     "metadata": {},
     "output_type": "execute_result"
    },
    {
     "data": {
      "text/plain": [
       "`:C:/Dev/kdb_q/notebooks/q_for_mortals/14_2_9/t2/\r\n"
      ]
     },
     "execution_count": 41,
     "metadata": {},
     "output_type": "execute_result"
    }
   ],
   "source": [
    "t1:([] c1:`c`b`a; c2: 10 20 30)\n",
    "t2:([] c3:`a`b`a`c; c4: 1. 2. 3. 4.)\n",
    "update t1lnk:`t1!t1[`c1]?t2[`c3] from `t2\n",
    "`:C:/Dev/kdb_q/notebooks/q_for_mortals/14_2_9/t1/ set `.Q.en[`:C:/Dev/kdb_q/notebooks/q_for_mortals/14_2_9;] t1\n",
    "`:C:/Dev/kdb_q/notebooks/q_for_mortals/14_2_9/t2/ set `.Q.en[`:C:/Dev/kdb_q/notebooks/q_for_mortals/14_2_9;] t2\n"
   ]
  },
  {
   "cell_type": "code",
   "execution_count": 42,
   "metadata": {},
   "outputs": [],
   "source": [
    "\\l C:/Dev/kdb_q/notebooks/q_for_mortals/14_2_9"
   ]
  },
  {
   "cell_type": "code",
   "execution_count": 43,
   "metadata": {},
   "outputs": [
    {
     "data": {
      "text/plain": [
       "c1 c2\r\n",
       "-----\r\n",
       "c  10\r\n",
       "b  20\r\n",
       "a  30\r\n"
      ]
     },
     "execution_count": 43,
     "metadata": {},
     "output_type": "execute_result"
    },
    {
     "data": {
      "text/plain": [
       "c3 c4 t1lnk\r\n",
       "-----------\r\n",
       "a  1  2    \r\n",
       "b  2  1    \r\n",
       "a  3  2    \r\n",
       "c  4  0    \r\n"
      ]
     },
     "execution_count": 43,
     "metadata": {},
     "output_type": "execute_result"
    },
    {
     "data": {
      "text/plain": [
       "c    | t f  a\r\n",
       "-----| ------\r\n",
       "c3   | s     \r\n",
       "c4   | f     \r\n",
       "t1lnk| j t1  \r\n"
      ]
     },
     "execution_count": 43,
     "metadata": {},
     "output_type": "execute_result"
    }
   ],
   "source": [
    "t1\n",
    "t2\n",
    "meta t2"
   ]
  },
  {
   "cell_type": "code",
   "execution_count": 44,
   "metadata": {},
   "outputs": [
    {
     "data": {
      "text/plain": [
       "c3 c2 c4\r\n",
       "--------\r\n",
       "a  30 1 \r\n",
       "b  20 2 \r\n",
       "a  30 3 \r\n",
       "c  10 4 \r\n"
      ]
     },
     "execution_count": 44,
     "metadata": {},
     "output_type": "execute_result"
    }
   ],
   "source": [
    "select c3,t1lnk.c2,c4 from t2"
   ]
  },
  {
   "cell_type": "markdown",
   "metadata": {},
   "source": [
    "**Example 2.**\n",
    "Now we redo this example, assuming that the tables have already been splayed. You could map the database into memory but let’s work directly with the files. We have the additional step of appending the link columns to the .d file for t2."
   ]
  },
  {
   "cell_type": "code",
   "execution_count": 46,
   "metadata": {},
   "outputs": [
    {
     "data": {
      "text/plain": [
       "`:C:/Dev/kdb_q/notebooks/q_for_mortals/14_2_9_0/t3/\r\n"
      ]
     },
     "execution_count": 46,
     "metadata": {},
     "output_type": "execute_result"
    },
    {
     "data": {
      "text/plain": [
       "`:C:/Dev/kdb_q/notebooks/q_for_mortals/14_2_9_0/t4/\r\n"
      ]
     },
     "execution_count": 46,
     "metadata": {},
     "output_type": "execute_result"
    }
   ],
   "source": [
    "`:C:/Dev/kdb_q/notebooks/q_for_mortals/14_2_9_0/t3/ set .Q.en[`:C:/Dev/kdb_q/notebooks/q_for_mortals/14_2_9_0;] ([] c1:`c`b`a; c2: 10 20 30)\n",
    "`:C:/Dev/kdb_q/notebooks/q_for_mortals/14_2_9_0/t4/ set .Q.en[`:C:/Dev/kdb_q/notebooks/q_for_mortals/14_2_9_0;] ([] c3:`a`b`a`c; c4: 1. 2. 3. 4.)"
   ]
  },
  {
   "cell_type": "code",
   "execution_count": 47,
   "metadata": {},
   "outputs": [
    {
     "data": {
      "text/plain": [
       "`:C:/Dev/kdb_q/notebooks/q_for_mortals/14_2_9_0/t4/t1link\r\n"
      ]
     },
     "execution_count": 47,
     "metadata": {},
     "output_type": "execute_result"
    }
   ],
   "source": [
    "`:C:/Dev/kdb_q/notebooks/q_for_mortals/14_2_9_0/t4/t1link set `t1!(get `:C:/Dev/kdb_q/notebooks/q_for_mortals/14_2_9_0/t3/c1)?get `:C:/Dev/kdb_q/notebooks/q_for_mortals/14_2_9_0/t4/c3"
   ]
  },
  {
   "cell_type": "code",
   "execution_count": 49,
   "metadata": {},
   "outputs": [
    {
     "data": {
      "text/plain": [
       "`:C:/Dev/kdb_q/notebooks/q_for_mortals/14_2_9_0/t4/.d\r\n"
      ]
     },
     "execution_count": 49,
     "metadata": {},
     "output_type": "execute_result"
    }
   ],
   "source": [
    ".[`:C:/Dev/kdb_q/notebooks/q_for_mortals/14_2_9_0/t4/.d;();,;`t1link]  / append link columns to .d"
   ]
  },
  {
   "cell_type": "code",
   "execution_count": 50,
   "metadata": {},
   "outputs": [],
   "source": [
    "\\l C:/Dev/kdb_q/notebooks/q_for_mortals/14_2_9_0"
   ]
  },
  {
   "cell_type": "code",
   "execution_count": 51,
   "metadata": {},
   "outputs": [
    {
     "data": {
      "text/plain": [
       "c     | t f  a\r\n",
       "------| ------\r\n",
       "c3    | s     \r\n",
       "c4    | f     \r\n",
       "t1link| j t1  \r\n"
      ]
     },
     "execution_count": 51,
     "metadata": {},
     "output_type": "execute_result"
    }
   ],
   "source": [
    "meta t4"
   ]
  },
  {
   "cell_type": "markdown",
   "metadata": {},
   "source": [
    "### 14.3 Partitioned Tables"
   ]
  },
  {
   "cell_type": "markdown",
   "metadata": {},
   "source": [
    "Some timeseries data is so large that even the individual columns may not fit into memory – for example, daily trades and quotes for an entire exchange. In this case, we can further decompose the table by slicing horizontally – called **partitioning in kdb+**. For example, the solution for trades and quotes is to slice into daily portions. The result is a collection of daily splayed directories, one for each day for which data exists.\n",
    "\n",
    "_Tip_ <br>\n",
    "**All partitioned tables are splayed but not all splayed tables are partitioned.**"
   ]
  },
  {
   "cell_type": "markdown",
   "metadata": {},
   "source": [
    "#### 14.3.1 Partitions"
   ]
  },
  {
   "cell_type": "markdown",
   "metadata": {},
   "source": [
    "**A partitioned table is a splayed table that is further decomposed by grouping records having common values along a column of special type.** The allowable special column types have the property that the underlying value is an **integer**: date, month, year and long.\n",
    "\n",
    "The slice of records having a given value is splayed into a directory, called a partition, whose name is that common value. In the canonical finance example, historical trades (or quotes) are stored in daily partition directories – remember a q date is an integer under the covers."
   ]
  },
  {
   "cell_type": "markdown",
   "metadata": {},
   "source": [
    "/root <br>\n",
    "    /partitionvalue1<br>\n",
    "        /tablename<br>\n",
    "            .d<br>\n",
    "            column1name<br>\n",
    "            column2name<br>\n",
    "            …<br>\n",
    "    /partitionvalue2<br>\n",
    "        /tablename<br>\n",
    "            .d<br>\n",
    "            column1name<br>\n",
    "            column2name<br>\n",
    "            …<br>\n",
    "        …<br>"
   ]
  },
  {
   "cell_type": "markdown",
   "metadata": {},
   "source": [
    "#### 14.3.2 Partition Domain"
   ]
  },
  {
   "cell_type": "markdown",
   "metadata": {},
   "source": [
    "We call the type of the virtual column for the partition the **partition domain**. As noted previously, the partition domain must have an underlying integral value.\n",
    "\n",
    "You cannot use a symbol column as a partition domain, even if the symbols are enumerated."
   ]
  },
  {
   "cell_type": "markdown",
   "metadata": {},
   "source": [
    "Date, month, year are fine.\n",
    "Any integer (bin) is fine."
   ]
  },
  {
   "cell_type": "markdown",
   "metadata": {},
   "source": [
    "Entire database has the same partition domain (as per folder structure).\n",
    "\n",
    "A kdb+ database can only have a single partition domain. This means that you must create separate databases if you need partitions of different granularity. For example, you cannot have daily and monthly partitions in one database."
   ]
  },
  {
   "cell_type": "markdown",
   "metadata": {},
   "source": [
    "#### 14.3.3 Creating Partitioned Tables"
   ]
  },
  {
   "cell_type": "markdown",
   "metadata": {},
   "source": [
    "Virtual column gets its name automatically based on partition domain.\n",
    "\n",
    "Creating partition after partition.\n"
   ]
  },
  {
   "cell_type": "code",
   "execution_count": 9,
   "metadata": {},
   "outputs": [
    {
     "data": {
      "text/plain": [
       "`:C:/Dev/kdb_q/notebooks/q_for_mortals/db/2015.01.01/t/\r\n"
      ]
     },
     "execution_count": 9,
     "metadata": {},
     "output_type": "execute_result"
    }
   ],
   "source": [
    "`:C:/Dev/kdb_q/notebooks/q_for_mortals/db/2015.01.01/t/ set ([] ti:09:30:00 09:31:00; p:101 102f)"
   ]
  },
  {
   "cell_type": "code",
   "execution_count": 11,
   "metadata": {},
   "outputs": [
    {
     "data": {
      "text/plain": [
       "`:C:/Dev/kdb_q/notebooks/q_for_mortals/db/2015.01.02/t/\r\n"
      ]
     },
     "execution_count": 11,
     "metadata": {},
     "output_type": "execute_result"
    }
   ],
   "source": [
    "`:C:/Dev/kdb_q/notebooks/q_for_mortals/db/2015.01.02/t/ set ([] ti:09:30:00 09:31:00; p:101.5 102.5)"
   ]
  },
  {
   "cell_type": "code",
   "execution_count": 14,
   "metadata": {},
   "outputs": [],
   "source": [
    "\\l C:/Dev/kdb_q/notebooks/q_for_mortals/db"
   ]
  },
  {
   "cell_type": "code",
   "execution_count": 15,
   "metadata": {},
   "outputs": [
    {
     "name": "stdout",
     "output_type": "stream",
     "text": [
      "date       ti       p    \r\n",
      "-------------------------\r\n",
      "2015.01.01 09:30:00 101  \r\n",
      "2015.01.01 09:31:00 102  \r\n",
      "2015.01.02 09:30:00 101.5\r\n",
      "2015.01.02 09:31:00 102.5\r\n"
     ]
    }
   ],
   "source": [
    "show t"
   ]
  },
  {
   "cell_type": "markdown",
   "metadata": {},
   "source": [
    "The table appears to be in the workspace, along with the virtual date columns, but this is an illusion. It is actually mapped into memory. **The request to display t forces all columns for all days to be loaded into memory.**\n",
    "\n",
    "**Always qualify the partition column in the first where sub-phrase in any query against a partitioned table. If you do not, you will cause all partitions to be loaded into memory and will probably live-lock the server. **"
   ]
  },
  {
   "cell_type": "code",
   "execution_count": 16,
   "metadata": {},
   "outputs": [
    {
     "data": {
      "text/plain": [
       "date       ti       p    \r\n",
       "-------------------------\r\n",
       "2015.01.01 09:30:00 101  \r\n",
       "2015.01.01 09:31:00 102  \r\n",
       "2015.01.02 09:30:00 101.5\r\n",
       "2015.01.02 09:31:00 102.5\r\n"
      ]
     },
     "execution_count": 16,
     "metadata": {},
     "output_type": "execute_result"
    }
   ],
   "source": [
    "select from t where date within 2015.01.01 2015.01.02"
   ]
  },
  {
   "cell_type": "markdown",
   "metadata": {},
   "source": [
    "#### 14.3.4 Working with Partitioned Tables"
   ]
  },
  {
   "cell_type": "markdown",
   "metadata": {},
   "source": [
    "exec doesn't work on partitioned tables\n",
    "\n",
    "workaround is, q exec … from select … from …"
   ]
  },
  {
   "cell_type": "markdown",
   "metadata": {},
   "source": [
    "**The select template, or the equivalent functional form, is the way to access data for a partitioned table.** We have already seen how to retrieve the records for consecutive days. Here is the query to retrieve a day’s slice."
   ]
  },
  {
   "cell_type": "code",
   "execution_count": 18,
   "metadata": {},
   "outputs": [
    {
     "data": {
      "text/plain": [
       "date       ti       p  \r\n",
       "-----------------------\r\n",
       "2015.01.01 09:30:00 101\r\n",
       "2015.01.01 09:31:00 102\r\n"
      ]
     },
     "execution_count": 18,
     "metadata": {},
     "output_type": "execute_result"
    },
    {
     "data": {
      "text/plain": [
       "date       ti       p  \r\n",
       "-----------------------\r\n",
       "2015.01.01 09:30:00 101\r\n",
       "2015.01.01 09:31:00 102\r\n"
      ]
     },
     "execution_count": 18,
     "metadata": {},
     "output_type": "execute_result"
    },
    {
     "data": {
      "text/plain": [
       "date       ti       p    \r\n",
       "-------------------------\r\n",
       "2015.01.02 09:30:00 101.5\r\n",
       "2015.01.02 09:31:00 102.5\r\n"
      ]
     },
     "execution_count": 18,
     "metadata": {},
     "output_type": "execute_result"
    }
   ],
   "source": [
    "select from t where date=2015.01.01\n",
    "select from t where date=first date\n",
    "select from t where date=max date"
   ]
  },
  {
   "cell_type": "markdown",
   "metadata": {},
   "source": [
    "**Always place the partition column constraint first.**"
   ]
  },
  {
   "cell_type": "code",
   "execution_count": 19,
   "metadata": {},
   "outputs": [
    {
     "data": {
      "text/plain": [
       "date       ti       p  \r\n",
       "-----------------------\r\n",
       "2015.01.01 09:30:00 101\r\n"
      ]
     },
     "execution_count": 19,
     "metadata": {},
     "output_type": "execute_result"
    }
   ],
   "source": [
    "select from t where date=2015.01.01, ti<09:30:30"
   ]
  },
  {
   "cell_type": "markdown",
   "metadata": {},
   "source": [
    "You can group by the partition column."
   ]
  },
  {
   "cell_type": "code",
   "execution_count": 20,
   "metadata": {},
   "outputs": [
    {
     "data": {
      "text/plain": [
       "date      | hi    lo   \r\n",
       "----------| -----------\r\n",
       "2015.01.01| 102   101  \r\n",
       "2015.01.02| 102.5 101.5\r\n"
      ]
     },
     "execution_count": 20,
     "metadata": {},
     "output_type": "execute_result"
    }
   ],
   "source": [
    "select hi:max p, lo:min p by date from t where date within 2015.01.01 2015.01.02"
   ]
  },
  {
   "cell_type": "code",
   "execution_count": 21,
   "metadata": {},
   "outputs": [
    {
     "data": {
      "text/plain": [
       "c   | t f a\r\n",
       "----| -----\r\n",
       "date| d    \r\n",
       "ti  | v    \r\n",
       "p   | f    \r\n"
      ]
     },
     "execution_count": 21,
     "metadata": {},
     "output_type": "execute_result"
    }
   ],
   "source": [
    "meta t / shows virtual column"
   ]
  },
  {
   "cell_type": "markdown",
   "metadata": {},
   "source": [
    "#### 14.3.5 The Virtual Column i in Partitioned Tables"
   ]
  },
  {
   "cell_type": "markdown",
   "metadata": {},
   "source": [
    "In a partitioned table, the **virtual column i** does not refer to absolute row number as it does with in-memory and splayed tables. \n",
    "\n",
    "Instead, **it refers to the relative row number within a partition**. Thus, a constraint on i alone would apply across all partitions and the result will contain that row in each partition slice – probably not what you want and almost certainly a bad idea "
   ]
  },
  {
   "cell_type": "code",
   "execution_count": 22,
   "metadata": {},
   "outputs": [
    {
     "data": {
      "text/plain": [
       "date       ti       p    \r\n",
       "-------------------------\r\n",
       "2015.01.01 09:30:00 101  \r\n",
       "2015.01.02 09:30:00 101.5\r\n"
      ]
     },
     "execution_count": 22,
     "metadata": {},
     "output_type": "execute_result"
    }
   ],
   "source": [
    "select from t where date in 2015.01.01 2015.01.02, i=0"
   ]
  },
  {
   "cell_type": "markdown",
   "metadata": {},
   "source": [
    "The following queries retrieve the first and last records in the table, respectively."
   ]
  },
  {
   "cell_type": "code",
   "execution_count": 23,
   "metadata": {},
   "outputs": [
    {
     "data": {
      "text/plain": [
       "date       ti       p  \r\n",
       "-----------------------\r\n",
       "2015.01.01 09:30:00 101\r\n"
      ]
     },
     "execution_count": 23,
     "metadata": {},
     "output_type": "execute_result"
    },
    {
     "data": {
      "text/plain": [
       "date       ti       p    \r\n",
       "-------------------------\r\n",
       "2015.01.02 09:31:00 102.5\r\n"
      ]
     },
     "execution_count": 23,
     "metadata": {},
     "output_type": "execute_result"
    }
   ],
   "source": [
    "select from t where date=first date, i=0 / first record in table\n",
    "select from t where date=max date, i=max i / last record in table"
   ]
  },
  {
   "cell_type": "markdown",
   "metadata": {},
   "source": [
    "#### 14.3.6 Query Execution on Partitioned Tables"
   ]
  },
  {
   "cell_type": "markdown",
   "metadata": {},
   "source": [
    "Recall that the motivation for partitions was to avoid loading entire columns into memory. Behind the scenes, kdb+ achieves this as follows.\n",
    "\n",
    "- Analyze the where phrase to determine which partition slices are targeted by the query\n",
    "- Process the remaining where sub-phrases to determine the column sub-domains that must be loaded.\n",
    "- Process the query separately against the requisite partition slices to obtain partial results. If q started with slaves then partitions will be processed concurrently, otherwise sequentially.\n",
    "- Combine the partial results to obtain the final result."
   ]
  },
  {
   "cell_type": "markdown",
   "metadata": {},
   "source": [
    "#### 14.3.7 Map-Reduce"
   ]
  },
  {
   "cell_type": "markdown",
   "metadata": {},
   "source": [
    "It is easy to see how map-reduce applies to a query against a partitioned table, since the table is a list of records sliced into sub-lists by the partitioning. The challenge is to decompose the query into a map step and a reduce step. The solution depends on whether the query involves **aggregation**."
   ]
  },
  {
   "cell_type": "markdown",
   "metadata": {},
   "source": [
    "**If there is no aggregation,** the result of the query on each partition is simply the computed columns for the list of the records in the partition slice matching the constraint. In other words, produce a partial result table by computing the columns of the query across partitions. Because all the partial result tables conform, union the partial result tables in order of their virtual partition column values. In summary: fan the query across the partitions and union the ordered results."
   ]
  },
  {
   "cell_type": "markdown",
   "metadata": {},
   "source": [
    "Things are more interesting **when the query contains aggregation**. For aggregates that kdb+ recognizes as map-reducible, it applies the map operation across partition slices to obtain partial results. It then applies the reduce operation across the partial result tables to obtain the final result table.\n",
    "\n",
    "\n",
    "At the time of this writing (Sep 2015), the aggregates that kdb+ can decompose with map-reduce are: **avg, cor, count, cov, dev, distinct, first, last, max, med, min, prd, sum, var, wavg, wsum.**"
   ]
  },
  {
   "cell_type": "markdown",
   "metadata": {},
   "source": [
    "#### 14.3.8 Multiple Partitioned Tables"
   ]
  },
  {
   "cell_type": "markdown",
   "metadata": {},
   "source": [
    "Recall that there can be only one partition domain in a given kdb+ root – i.e., daily, monthly, yearly or long. However, multiple tables can share this partitioning."
   ]
  },
  {
   "cell_type": "markdown",
   "metadata": {},
   "source": [
    "Although not all potential partition values need be populated, any value that is populated must contain slices for all tables."
   ]
  },
  {
   "cell_type": "markdown",
   "metadata": {},
   "source": [
    "Creation of 2 partitioned tables:"
   ]
  },
  {
   "cell_type": "code",
   "execution_count": 24,
   "metadata": {},
   "outputs": [
    {
     "data": {
      "text/plain": [
       "`:C:/Dev/kdb_q/notebooks/q_for_mortals/db2/2015.01.01/t/\r\n"
      ]
     },
     "execution_count": 24,
     "metadata": {},
     "output_type": "execute_result"
    },
    {
     "data": {
      "text/plain": [
       "`:C:/Dev/kdb_q/notebooks/q_for_mortals/db2/2015.01.02/t/\r\n"
      ]
     },
     "execution_count": 24,
     "metadata": {},
     "output_type": "execute_result"
    },
    {
     "data": {
      "text/plain": [
       "`:C:/Dev/kdb_q/notebooks/q_for_mortals/db2/2015.01.01/q/\r\n"
      ]
     },
     "execution_count": 24,
     "metadata": {},
     "output_type": "execute_result"
    },
    {
     "data": {
      "text/plain": [
       "`:C:/Dev/kdb_q/notebooks/q_for_mortals/db2/2015.01.02/q/\r\n"
      ]
     },
     "execution_count": 24,
     "metadata": {},
     "output_type": "execute_result"
    }
   ],
   "source": [
    "`:C:/Dev/kdb_q/notebooks/q_for_mortals/db2/2015.01.01/t/ set .Q.en[`:/db;] ([] ti:09:30:00 09:31:00; sym:`ibm`msft;p:101 33f)\n",
    "`:C:/Dev/kdb_q/notebooks/q_for_mortals/db2/2015.01.02/t/ set .Q.en[`:/db;] ([] ti:09:30:00 09:31:00; sym:`ibm`msft;p:101.5 33.5)\n",
    "`:C:/Dev/kdb_q/notebooks/q_for_mortals/db2/2015.01.01/q/ set .Q.en[`:/db;] ([] ti:09:30:00 09:31:00; sym:`ibm`msft;b:100.75 32.75; a:101.25 33.25f)\n",
    "`:C:/Dev/kdb_q/notebooks/q_for_mortals/db2/2015.01.02/q/ set .Q.en[`:/db;] ([] ti:09:30:00 09:30:00; sym:`ibm`msft;b:101.25 33.25; a:101.75 33.75)"
   ]
  },
  {
   "cell_type": "code",
   "execution_count": 25,
   "metadata": {},
   "outputs": [],
   "source": [
    "\\l C:/Dev/kdb_q/notebooks/q_for_mortals/db2"
   ]
  },
  {
   "cell_type": "code",
   "execution_count": 26,
   "metadata": {},
   "outputs": [
    {
     "data": {
      "text/plain": [
       "date       ti       sym  p    \r\n",
       "------------------------------\r\n",
       "2015.01.01 09:30:00 ibm  101  \r\n",
       "2015.01.01 09:31:00 msft 33   \r\n",
       "2015.01.02 09:30:00 ibm  101.5\r\n",
       "2015.01.02 09:31:00 msft 33.5 \r\n"
      ]
     },
     "execution_count": 26,
     "metadata": {},
     "output_type": "execute_result"
    },
    {
     "data": {
      "text/plain": [
       "date       ti       sym  b      a     \r\n",
       "--------------------------------------\r\n",
       "2015.01.01 09:30:00 ibm  100.75 101.25\r\n",
       "2015.01.01 09:31:00 msft 32.75  33.25 \r\n",
       "2015.01.02 09:30:00 ibm  101.25 101.75\r\n",
       "2015.01.02 09:30:00 msft 33.25  33.75 \r\n"
      ]
     },
     "execution_count": 26,
     "metadata": {},
     "output_type": "execute_result"
    }
   ],
   "source": [
    "select from t where date within 2015.01.01 2015.01.02\n",
    "select from q where date within 2015.01.01 2015.01.02"
   ]
  },
  {
   "cell_type": "markdown",
   "metadata": {},
   "source": [
    "Next we add a historical slice for q on 2014.12.31 but neglect to add the corresponding slice for t. Things seem fine when we map the root and query q on the newly added date."
   ]
  },
  {
   "cell_type": "code",
   "execution_count": 27,
   "metadata": {},
   "outputs": [
    {
     "data": {
      "text/plain": [
       "`:C:/Dev/kdb_q/notebooks/q_for_mortals/db2/2014.12.31/q/\r\n"
      ]
     },
     "execution_count": 27,
     "metadata": {},
     "output_type": "execute_result"
    },
    {
     "data": {
      "text/plain": [
       "date       ti       sym  b   a    \r\n",
       "----------------------------------\r\n",
       "2014.12.31 09:30:00 ibm  101 101.5\r\n",
       "2014.12.31 09:31:00 msft 33  33.5 \r\n"
      ]
     },
     "execution_count": 27,
     "metadata": {},
     "output_type": "execute_result"
    }
   ],
   "source": [
    "`:C:/Dev/kdb_q/notebooks/q_for_mortals/db2/2014.12.31/q/ set .Q.en[`:/db;] ([] ti:09:30:00 09:31:00; sym:`ibm`msft; b:101. 33.; a:101.5 33.5f)\n",
    "\\l C:/Dev/kdb_q/notebooks/q_for_mortals/db2\n",
    "select from q where date=2014.12.31"
   ]
  },
  {
   "cell_type": "code",
   "execution_count": 27,
   "metadata": {},
   "outputs": [
    {
     "ename": "\u001b[0;31m./2014.12.31/t/ti. OS reports: The system cannot find the path specified.\u001b[0m",
     "evalue": "\u001b[0;31m./2014.12.31/t/ti. OS reports: The system cannot find the path specified.\u001b[0m",
     "output_type": "error",
     "traceback": [
      "\u001b[0;31mevaluation error:\n\u001b[0m",
      "\u001b[0;31m./2014.12.31/t/ti. OS reports: The system cannot find the path specified.\u001b[0m",
      "\u001b[0;31m\u001b[0m",
      "\u001b[0;31m  [4]  (.Q.p2)\n\n\u001b[0m",
      "\u001b[0;31m  [3]  (.Q.p)\n\n\u001b[0m",
      "\u001b[0;31m  [2]  (.Q.foo)\n\n\u001b[0m",
      "\u001b[0;31m  [1]  (.Q.ps)\n\n\u001b[0m",
      "\u001b[0;31m  [0]  select from t where date=2014.12.31\r\n       ^\r\n\u001b[0m"
     ]
    }
   ],
   "source": [
    "select from t where date=2014.12.31 / no partition for t"
   ]
  },
  {
   "cell_type": "code",
   "execution_count": null,
   "metadata": {},
   "outputs": [],
   "source": [
    " we use the utility .Q.chk that fills all missing slices with empty tables from the most recent partition. We remap and find things are fine."
   ]
  },
  {
   "cell_type": "code",
   "execution_count": 28,
   "metadata": {},
   "outputs": [
    {
     "data": {
      "text/plain": [
       "()\r\n",
       "()\r\n",
       ",`:C:/Dev/kdb_q/notebooks/q_for_mortals/db2/2014.12.31\r\n"
      ]
     },
     "execution_count": 28,
     "metadata": {},
     "output_type": "execute_result"
    },
    {
     "data": {
      "text/plain": [
       "date ti sym p\r\n",
       "-------------\r\n"
      ]
     },
     "execution_count": 28,
     "metadata": {},
     "output_type": "execute_result"
    }
   ],
   "source": [
    ".Q.chk `:C:/Dev/kdb_q/notebooks/q_for_mortals/db2\n",
    "\\l C:/Dev/kdb_q/notebooks/q_for_mortals/db2\n",
    "select from t where date=2014.12.31"
   ]
  },
  {
   "cell_type": "markdown",
   "metadata": {},
   "source": [
    "If you neglect to place a table slice in the most recent partition, the table will effectively disappear from your database since kdb+ inspects only that partition to determine which tables are present."
   ]
  },
  {
   "cell_type": "markdown",
   "metadata": {},
   "source": [
    "### 14.4. Segmented tables"
   ]
  },
  {
   "cell_type": "markdown",
   "metadata": {},
   "source": [
    "**Segmentation** is an additional level of structure on top of partitioning. Segmentation spreads a partitioned table’s records across multiple directories that have the same structure as the root directory in a partitioned database. Each pseudo-root, called a segment, is thus a directory that contains a collection of partition directories. The segment directories are presumably on independent I/O channels so that data retrieval can occur in parallel.\n",
    "\n",
    "You can use any criteria to decompose partition slices, as long as the results are conforming record subsets that are disjoint and complete – i.e., they reconstitute the original table with no omissions or duplication. The decomposition can be along rows, along partitions or by some combination thereof, but it cannot occur only along columns since all records must conform across the decomposition.\n",
    "\n",
    "\n",
    "Big Picture (3): .We view a segmented table as a three-dimensional persisted form: the table is cut vertically by splaying, sliced horizontally by partitions and is additionally segmented across physical locations. **The primary purpose of the third dimension is to allow operations against the tables to take advantage of parallel I/O and concurrent processing.**"
   ]
  },
  {
   "cell_type": "markdown",
   "metadata": {},
   "source": [
    "In contrast to the partitioned table layout in which partitions reside under the root, the segment directories must not reside under the root. The only portion of a segmented table (other than the sym file for enumerated symbol columns) that lives in the root is a file called par.txt containing the paths of the physical locations of the segments, one segment path per line."
   ]
  },
  {
   "cell_type": "code",
   "execution_count": null,
   "metadata": {},
   "outputs": [],
   "source": []
  },
  {
   "cell_type": "code",
   "execution_count": null,
   "metadata": {},
   "outputs": [],
   "source": []
  },
  {
   "cell_type": "code",
   "execution_count": null,
   "metadata": {},
   "outputs": [],
   "source": []
  },
  {
   "cell_type": "code",
   "execution_count": null,
   "metadata": {},
   "outputs": [],
   "source": []
  },
  {
   "cell_type": "code",
   "execution_count": null,
   "metadata": {},
   "outputs": [],
   "source": []
  },
  {
   "cell_type": "code",
   "execution_count": null,
   "metadata": {},
   "outputs": [],
   "source": []
  },
  {
   "cell_type": "code",
   "execution_count": null,
   "metadata": {},
   "outputs": [],
   "source": []
  },
  {
   "cell_type": "code",
   "execution_count": null,
   "metadata": {},
   "outputs": [],
   "source": []
  },
  {
   "cell_type": "code",
   "execution_count": null,
   "metadata": {},
   "outputs": [],
   "source": []
  }
 ],
 "metadata": {
  "kernelspec": {
   "display_name": "Q (kdb+)",
   "language": "q",
   "name": "qpk"
  },
  "language_info": {
   "file_extension": ".q",
   "mimetype": "text/x-q",
   "name": "q",
   "version": "3.6.0"
  }
 },
 "nbformat": 4,
 "nbformat_minor": 2
}

{
 "cells": [
  {
   "cell_type": "markdown",
   "metadata": {},
   "source": [
    "### 8.1 Table Definition"
   ]
  },
  {
   "cell_type": "markdown",
   "metadata": {},
   "source": [
    "#### 8.1.1 Review of Table as Column Dictionary"
   ]
  },
  {
   "cell_type": "code",
   "execution_count": 1,
   "metadata": {},
   "outputs": [
    {
     "data": {
      "text/plain": [
       "name       iq \r\n",
       "--------------\r\n",
       "Dent       98 \r\n",
       "Beeblebrox 42 \r\n",
       "Prefect    126\r\n"
      ]
     },
     "execution_count": 1,
     "metadata": {},
     "output_type": "execute_result"
    },
    {
     "data": {
      "text/plain": [
       "name| `Prefect\r\n",
       "iq  | 126\r\n"
      ]
     },
     "execution_count": 1,
     "metadata": {},
     "output_type": "execute_result"
    },
    {
     "data": {
      "text/plain": [
       "98 42 126\r\n"
      ]
     },
     "execution_count": 1,
     "metadata": {},
     "output_type": "execute_result"
    },
    {
     "data": {
      "text/plain": [
       "98 42 126\r\n"
      ]
     },
     "execution_count": 1,
     "metadata": {},
     "output_type": "execute_result"
    },
    {
     "data": {
      "text/plain": [
       "126\r\n"
      ]
     },
     "execution_count": 1,
     "metadata": {},
     "output_type": "execute_result"
    },
    {
     "data": {
      "text/plain": [
       "98h\r\n"
      ]
     },
     "execution_count": 1,
     "metadata": {},
     "output_type": "execute_result"
    }
   ],
   "source": [
    "t:flip `name`iq!(`Dent`Beeblebrox`Prefect;98 42 126)\n",
    "t\n",
    "t[2;]    / extract row\n",
    "t[;`iq]  / extract column\n",
    "t[`iq]   / extract column works as well without semicolon\n",
    "t[2;`iq] / extract value\n",
    "type t   / 98h"
   ]
  },
  {
   "cell_type": "markdown",
   "metadata": {},
   "source": [
    "- A table is logically a list of section dictionaries.\n",
    "- The only effect of flipping the column dictionary is to reverse the order of its indices; no data is rearranged under the covers."
   ]
  },
  {
   "cell_type": "markdown",
   "metadata": {},
   "source": [
    "#### 8.1.3 Table-Definition Syntax"
   ]
  },
  {
   "cell_type": "code",
   "execution_count": 2,
   "metadata": {},
   "outputs": [
    {
     "data": {
      "text/plain": [
       "name       iq \r\n",
       "--------------\r\n",
       "Dent       98 \r\n",
       "Beeblebrox 42 \r\n",
       "Prefect    126\r\n"
      ]
     },
     "execution_count": 2,
     "metadata": {},
     "output_type": "execute_result"
    },
    {
     "data": {
      "text/plain": [
       "1b\r\n"
      ]
     },
     "execution_count": 2,
     "metadata": {},
     "output_type": "execute_result"
    }
   ],
   "source": [
    "t:([] name:`Dent`Beeblebrox`Prefect; iq:98 42 126)\n",
    "t\n",
    "t~flip `name`iq!(`Dent`Beeblebrox`Prefect;98 42 126)"
   ]
  },
  {
   "cell_type": "code",
   "execution_count": 3,
   "metadata": {},
   "outputs": [
    {
     "data": {
      "text/plain": [
       "name       iq  who  \r\n",
       "--------------------\r\n",
       "Dent       98  alien\r\n",
       "Beeblebrox 42  alien\r\n",
       "Prefect    126 alien\r\n"
      ]
     },
     "execution_count": 3,
     "metadata": {},
     "output_type": "execute_result"
    },
    {
     "data": {
      "text/plain": [
       "c1 c2 c3 \r\n",
       "---------\r\n",
       "a  42 1.1\r\n",
       "b  42 1.1\r\n",
       "c  42 1.1\r\n"
      ]
     },
     "execution_count": 3,
     "metadata": {},
     "output_type": "execute_result"
    }
   ],
   "source": [
    "t1:([] name:`Dent`Beeblebrox`Prefect; iq:98 42 126; who:`alien) / some columns can be atoms, but at least one should be list\n",
    "t1\n",
    "flip `c1`c2`c3!(`a`b`c;42;1.1)"
   ]
  },
  {
   "cell_type": "markdown",
   "metadata": {},
   "source": [
    "The value lists in table-definition syntax can originate from variables, which is useful for programmatic table definition. In this case the column names are the variable names."
   ]
  },
  {
   "cell_type": "code",
   "execution_count": 4,
   "metadata": {},
   "outputs": [
    {
     "data": {
      "text/plain": [
       "c1         c2 \r\n",
       "--------------\r\n",
       "Dent       98 \r\n",
       "Beeblebrox 42 \r\n",
       "Prefect    126\r\n"
      ]
     },
     "execution_count": 4,
     "metadata": {},
     "output_type": "execute_result"
    }
   ],
   "source": [
    "c1:`Dent`Beeblebrox`Prefect\n",
    "c2:98 42 126\n",
    "c:([] c1; c2)\n",
    "c"
   ]
  },
  {
   "cell_type": "code",
   "execution_count": 5,
   "metadata": {},
   "outputs": [
    {
     "data": {
      "text/plain": [
       "c1 c2\r\n",
       "-----\r\n",
       "1  42\r\n",
       "2  42\r\n",
       "3  42\r\n",
       "4  42\r\n",
       "5  42\r\n"
      ]
     },
     "execution_count": 5,
     "metadata": {},
     "output_type": "execute_result"
    }
   ],
   "source": [
    "([] c1:1+til 5; c2:5#42) / any valid q expression can appear in columns definitions"
   ]
  },
  {
   "cell_type": "code",
   "execution_count": 6,
   "metadata": {},
   "outputs": [
    {
     "data": {
      "text/plain": [
       "x c2 \r\n",
       "-----\r\n",
       "a 100\r\n"
      ]
     },
     "execution_count": 6,
     "metadata": {},
     "output_type": "execute_result"
    }
   ],
   "source": [
    "([] enlist `a; c2:100)    / single row table\n"
   ]
  },
  {
   "cell_type": "markdown",
   "metadata": {},
   "source": [
    "#### 8.1.4 Table Metadata"
   ]
  },
  {
   "cell_type": "code",
   "execution_count": 7,
   "metadata": {},
   "outputs": [
    {
     "data": {
      "text/plain": [
       "`name`iq\r\n"
      ]
     },
     "execution_count": 7,
     "metadata": {},
     "output_type": "execute_result"
    }
   ],
   "source": [
    "cols t"
   ]
  },
  {
   "cell_type": "code",
   "execution_count": 8,
   "metadata": {},
   "outputs": [
    {
     "data": {
      "text/plain": [
       "c   | t f a\r\n",
       "----| -----\r\n",
       "name| s    \r\n",
       "iq  | j    \r\n"
      ]
     },
     "execution_count": 8,
     "metadata": {},
     "output_type": "execute_result"
    }
   ],
   "source": [
    "meta t"
   ]
  },
  {
   "cell_type": "markdown",
   "metadata": {},
   "source": [
    "- The key column c of the result contains the column names.\n",
    "- The column t contains a symbol denoting the type char of the column.\n",
    "- The column f contains the domains of any foreign key or link columns.\n",
    "- The column a contains any attributes associated with the column."
   ]
  },
  {
   "cell_type": "markdown",
   "metadata": {},
   "source": [
    "When meta displays an upper-case type char for a column, this indicates that column is a compound list in which all fields are simple lists of the indicated type. Such tables arise, for example, when you group without aggregating in a query. Here is one created manually. Observe the upper case 'J' in the t column for column c2."
   ]
  },
  {
   "cell_type": "code",
   "execution_count": 9,
   "metadata": {},
   "outputs": [
    {
     "data": {
      "text/plain": [
       "c | t f a\r\n",
       "--| -----\r\n",
       "c1| j    \r\n",
       "c2| J    \r\n"
      ]
     },
     "execution_count": 9,
     "metadata": {},
     "output_type": "execute_result"
    }
   ],
   "source": [
    "meta ([] c1:1 2 3; c2:(1 2; enlist 3; 4 5 6))"
   ]
  },
  {
   "cell_type": "code",
   "execution_count": 9,
   "metadata": {},
   "outputs": [
    {
     "data": {
      "text/plain": [
       "`c`t`t1\r\n"
      ]
     },
     "execution_count": 10,
     "metadata": {},
     "output_type": "execute_result"
    },
    {
     "ename": "\u001b[0;31m         / same as above\u001b[0m",
     "evalue": "\u001b[0;31m         / same as above\u001b[0m",
     "output_type": "error",
     "traceback": [
      "\u001b[0;31mevaluation error:\n\u001b[0m",
      "\u001b[0;31m         / same as above\u001b[0m",
      "\u001b[0;31m\u001b[0m"
     ]
    }
   ],
   "source": [
    "tables `.   / list of tables in symbolic namespace ( root context here)\n",
    "\\a          / same as above"
   ]
  },
  {
   "cell_type": "markdown",
   "metadata": {},
   "source": [
    "#### 8.1.5 Records"
   ]
  },
  {
   "cell_type": "code",
   "execution_count": 10,
   "metadata": {},
   "outputs": [
    {
     "data": {
      "text/plain": [
       "3\r\n"
      ]
     },
     "execution_count": 10,
     "metadata": {},
     "output_type": "execute_result"
    }
   ],
   "source": [
    "count t"
   ]
  },
  {
   "cell_type": "code",
   "execution_count": 11,
   "metadata": {},
   "outputs": [
    {
     "data": {
      "text/plain": [
       "name| `Beeblebrox\r\n",
       "iq  | 42\r\n"
      ]
     },
     "execution_count": 11,
     "metadata": {},
     "output_type": "execute_result"
    }
   ],
   "source": [
    "t[1]   / record dictionary"
   ]
  },
  {
   "cell_type": "code",
   "execution_count": 12,
   "metadata": {},
   "outputs": [
    {
     "data": {
      "text/plain": [
       "`Beeblebrox\r\n",
       "42\r\n"
      ]
     },
     "execution_count": 12,
     "metadata": {},
     "output_type": "execute_result"
    }
   ],
   "source": [
    "value t[1]   / to retrieve just values, without column names"
   ]
  },
  {
   "cell_type": "markdown",
   "metadata": {},
   "source": [
    "#### 8.1.6 Flipped Column Dictionary vs. List of Records"
   ]
  },
  {
   "cell_type": "markdown",
   "metadata": {},
   "source": [
    "Is a table a flipped column dictionary or a list of records? Logically it is both, but physically it is stored as a column dictionary. In fact, **q dynamically recognizes a conforming list of dictionaries that could be formed into a table and reorganizes the data into columnar form automatically**. It doesn't ask for permission or seek forgiveness."
   ]
  },
  {
   "cell_type": "code",
   "execution_count": 13,
   "metadata": {},
   "outputs": [
    {
     "data": {
      "text/plain": [
       "0h\r\n"
      ]
     },
     "execution_count": 13,
     "metadata": {},
     "output_type": "execute_result"
    },
    {
     "data": {
      "text/plain": [
       "98h\r\n"
      ]
     },
     "execution_count": 13,
     "metadata": {},
     "output_type": "execute_result"
    }
   ],
   "source": [
    "type (`name`iq!(`Dent;98); `nome`iq!(`Beeblebrox;42))   / not a table as keys are not conforming\n",
    "type (`name`iq!(`Dent;98); `name`iq!(`Beeblebrox;42))   / table as keys are conforming"
   ]
  },
  {
   "cell_type": "code",
   "execution_count": 14,
   "metadata": {},
   "outputs": [
    {
     "data": {
      "text/plain": [
       "a  b \r\n",
       "-----\r\n",
       "10 20\r\n"
      ]
     },
     "execution_count": 14,
     "metadata": {},
     "output_type": "execute_result"
    },
    {
     "data": {
      "text/plain": [
       "98h\r\n"
      ]
     },
     "execution_count": 14,
     "metadata": {},
     "output_type": "execute_result"
    }
   ],
   "source": [
    "p:enlist `a`b!10 20\n",
    "p\n",
    "type p  / p is a table with 1 record"
   ]
  },
  {
   "cell_type": "markdown",
   "metadata": {},
   "source": [
    "### 8.2 Empty Tables and Schema"
   ]
  },
  {
   "cell_type": "markdown",
   "metadata": {},
   "source": [
    "Fully listing columns with literals is usually done only with smaller tables – e.g., lookup tables. Large tables are usually created programmatically from computed data or data read from files or received over the wire.\n",
    "\n",
    "In these circumstances, it is useful to create an empty table initially and then populate it later by appending in place. You could do this with general empty lists."
   ]
  },
  {
   "cell_type": "code",
   "execution_count": null,
   "metadata": {},
   "outputs": [],
   "source": []
  },
  {
   "cell_type": "markdown",
   "metadata": {},
   "source": [
    "A downside of tables being stored as columns is that **row deletion is an expensive operation because all the column lists must be compressed to close the resulting gap**. The best way to deal with this in large tables is not to do it. Instead of deleting a row, use a separate column that holds a flag indicating whether the row has been deleted and then exclude the \"deleted\" rows. Then compress this column to save space since it will be sparse"
   ]
  },
  {
   "cell_type": "code",
   "execution_count": 15,
   "metadata": {},
   "outputs": [
    {
     "data": {
      "text/plain": [
       "name iq\r\n",
       "-------\r\n"
      ]
     },
     "execution_count": 15,
     "metadata": {},
     "output_type": "execute_result"
    }
   ],
   "source": [
    "([] name:(); iq:())"
   ]
  },
  {
   "cell_type": "markdown",
   "metadata": {},
   "source": [
    "It is good practice to specify the types of all columns in an empty table. In the table definition, cast an empty list to the appropriate type."
   ]
  },
  {
   "cell_type": "code",
   "execution_count": 16,
   "metadata": {},
   "outputs": [
    {
     "data": {
      "text/plain": [
       "name iq\r\n",
       "-------\r\n"
      ]
     },
     "execution_count": 16,
     "metadata": {},
     "output_type": "execute_result"
    }
   ],
   "source": [
    "([] name:`symbol$(); iq:`int$())"
   ]
  },
  {
   "cell_type": "markdown",
   "metadata": {},
   "source": [
    "Shorter technique, but less readable"
   ]
  },
  {
   "cell_type": "code",
   "execution_count": 17,
   "metadata": {},
   "outputs": [
    {
     "data": {
      "text/plain": [
       "1b\r\n"
      ]
     },
     "execution_count": 17,
     "metadata": {},
     "output_type": "execute_result"
    }
   ],
   "source": [
    "([] name:0#`; iq:0#0)~ ([] name:`symbol$(); iq:`long$())"
   ]
  },
  {
   "cell_type": "markdown",
   "metadata": {},
   "source": [
    "### 8.3 Basic select and update"
   ]
  },
  {
   "cell_type": "code",
   "execution_count": 18,
   "metadata": {},
   "outputs": [
    {
     "data": {
      "text/plain": [
       "name       iq \r\n",
       "--------------\r\n",
       "Dent       98 \r\n",
       "Beeblebrox 42 \r\n",
       "Prefect    126\r\n"
      ]
     },
     "execution_count": 18,
     "metadata": {},
     "output_type": "execute_result"
    }
   ],
   "source": [
    "select from t"
   ]
  },
  {
   "cell_type": "code",
   "execution_count": 19,
   "metadata": {},
   "outputs": [
    {
     "data": {
      "text/plain": [
       "name      \r\n",
       "----------\r\n",
       "Dent      \r\n",
       "Beeblebrox\r\n",
       "Prefect   \r\n"
      ]
     },
     "execution_count": 19,
     "metadata": {},
     "output_type": "execute_result"
    }
   ],
   "source": [
    "select name from t"
   ]
  },
  {
   "cell_type": "code",
   "execution_count": 20,
   "metadata": {},
   "outputs": [
    {
     "data": {
      "text/plain": [
       "newname    newiq\r\n",
       "----------------\r\n",
       "Dent       98   \r\n",
       "Beeblebrox 42   \r\n",
       "Prefect    126  \r\n"
      ]
     },
     "execution_count": 20,
     "metadata": {},
     "output_type": "execute_result"
    }
   ],
   "source": [
    "select newname:name,newiq:iq from t"
   ]
  },
  {
   "cell_type": "markdown",
   "metadata": {},
   "source": [
    "The syntax of update is the same as select, but named columns represent replacement by the values to the right of the colon. In our example,"
   ]
  },
  {
   "cell_type": "code",
   "execution_count": 21,
   "metadata": {},
   "outputs": [
    {
     "data": {
      "text/plain": [
       "name       iq   iq1\r\n",
       "-------------------\r\n",
       "Dent       0.98 198\r\n",
       "Beeblebrox 0.42 142\r\n",
       "Prefect    1.26 226\r\n"
      ]
     },
     "execution_count": 21,
     "metadata": {},
     "output_type": "execute_result"
    }
   ],
   "source": [
    "update iq:iq%100,iq1:iq+100 from t / iq - existing column, iq1 - new column"
   ]
  },
  {
   "cell_type": "markdown",
   "metadata": {},
   "source": [
    "### 8.4 Primary Keys and Keyed Tables"
   ]
  },
  {
   "cell_type": "markdown",
   "metadata": {},
   "source": [
    "#### 8.4.1 Keyed Table"
   ]
  },
  {
   "cell_type": "markdown",
   "metadata": {},
   "source": [
    "The approach is to place the key column in a separate table parallel to a table containing the remaining columns to obtain a table of keys and a table of values. \n",
    "\n",
    "**A keyed table is a dictionary mapping a table of key records to a table of value records.** This represents a mapping from each row in a table of (presumably unique) keys to a corresponding row in a table of values – i.e., a positional correspondence of key rows to value rows. "
   ]
  },
  {
   "cell_type": "markdown",
   "metadata": {},
   "source": [
    "A keyed table is not a table – it is a dictionary and so has type 99h."
   ]
  },
  {
   "cell_type": "markdown",
   "metadata": {},
   "source": [
    "Keys should be unique but (sadly) this is not enforced. As we have already noted, dictionary creation does not enforce key uniqueness. A value row associated with a duplicate key is not accessible via key lookup, but it can be retrieved via a select on the key column."
   ]
  },
  {
   "cell_type": "code",
   "execution_count": 22,
   "metadata": {},
   "outputs": [
    {
     "data": {
      "text/plain": [
       "name       iq \r\n",
       "--------------\r\n",
       "Dent       98 \r\n",
       "Beeblebrox 42 \r\n",
       "Prefect    126\r\n"
      ]
     },
     "execution_count": 22,
     "metadata": {},
     "output_type": "execute_result"
    },
    {
     "data": {
      "text/plain": [
       "eid \r\n",
       "----\r\n",
       "1001\r\n",
       "1002\r\n",
       "1003\r\n"
      ]
     },
     "execution_count": 22,
     "metadata": {},
     "output_type": "execute_result"
    },
    {
     "data": {
      "text/plain": [
       "eid | name       iq \r\n",
       "----| --------------\r\n",
       "1001| Dent       98 \r\n",
       "1002| Beeblebrox 42 \r\n",
       "1003| Prefect    126\r\n"
      ]
     },
     "execution_count": 22,
     "metadata": {},
     "output_type": "execute_result"
    }
   ],
   "source": [
    "v:flip `name`iq!(`Dent`Beeblebrox`Prefect;98 42 126) / values table\n",
    "v\n",
    "k:flip (enlist `eid)!enlist 1001 1002 1003           / keys table\n",
    "k\n",
    "kt:k!v                                               / keyed table\n",
    "kt"
   ]
  },
  {
   "cell_type": "markdown",
   "metadata": {},
   "source": [
    "#### 8.4.3 Keyed-Table Definition Syntax"
   ]
  },
  {
   "cell_type": "code",
   "execution_count": 23,
   "metadata": {},
   "outputs": [],
   "source": [
    "/ flipped dictionaries form\n",
    "kt:(flip (enlist `eid)!enlist 1001 1002 1003)!flip `name`iq!(`Dent`Beeblebrox`Prefect;98 42 126)  "
   ]
  },
  {
   "cell_type": "code",
   "execution_count": 24,
   "metadata": {},
   "outputs": [
    {
     "data": {
      "text/plain": [
       "eid | name       iq \r\n",
       "----| --------------\r\n",
       "1001| Dent       98 \r\n",
       "1002| Beeblebrox 42 \r\n",
       "1003| Prefect    126\r\n"
      ]
     },
     "execution_count": 24,
     "metadata": {},
     "output_type": "execute_result"
    }
   ],
   "source": [
    "/ table syntax\n",
    "kt:([eid:1001 1002 1003] name:`Dent`Beeblebrox`Prefect; iq:98 42 126)\n",
    "kt"
   ]
  },
  {
   "cell_type": "code",
   "execution_count": 25,
   "metadata": {},
   "outputs": [
    {
     "data": {
      "text/plain": [
       "eid| name iq\r\n",
       "---| -------\r\n"
      ]
     },
     "execution_count": 25,
     "metadata": {},
     "output_type": "execute_result"
    }
   ],
   "source": [
    "ktempty:([eid:()] name:(); iq:())  / empty keyed table\n",
    "ktempty"
   ]
  },
  {
   "cell_type": "markdown",
   "metadata": {},
   "source": [
    "#### 8.4.4 Accessing Records of a Keyed Table"
   ]
  },
  {
   "cell_type": "code",
   "execution_count": 26,
   "metadata": {},
   "outputs": [
    {
     "data": {
      "text/plain": [
       "name| `Beeblebrox\r\n",
       "iq  | 42\r\n"
      ]
     },
     "execution_count": 26,
     "metadata": {},
     "output_type": "execute_result"
    },
    {
     "data": {
      "text/plain": [
       "name| `Beeblebrox\r\n",
       "iq  | 42\r\n"
      ]
     },
     "execution_count": 26,
     "metadata": {},
     "output_type": "execute_result"
    }
   ],
   "source": [
    "kt[(enlist `eid)!enlist 1002]  / horrible\n",
    "kt[1002]                       / better"
   ]
  },
  {
   "cell_type": "code",
   "execution_count": 27,
   "metadata": {},
   "outputs": [
    {
     "data": {
      "text/plain": [
       "42\r\n"
      ]
     },
     "execution_count": 27,
     "metadata": {},
     "output_type": "execute_result"
    }
   ],
   "source": [
    "kt[1002][`iq]"
   ]
  },
  {
   "cell_type": "markdown",
   "metadata": {},
   "source": [
    "After the customary moment of q Zen, we realize that the net effect of \"placing a key on a table\" is to convert indexing of the rows from row number to key value."
   ]
  },
  {
   "cell_type": "markdown",
   "metadata": {},
   "source": [
    "#### 8.4.5 Retrieving Multiple Records"
   ]
  },
  {
   "cell_type": "code",
   "execution_count": 28,
   "metadata": {},
   "outputs": [
    {
     "data": {
      "text/plain": [
       "name       iq\r\n",
       "-------------\r\n",
       "Dent       98\r\n",
       "Beeblebrox 42\r\n"
      ]
     },
     "execution_count": 28,
     "metadata": {},
     "output_type": "execute_result"
    },
    {
     "data": {
      "text/plain": [
       "name       iq\r\n",
       "-------------\r\n",
       "Dent       98\r\n",
       "Beeblebrox 42\r\n"
      ]
     },
     "execution_count": 28,
     "metadata": {},
     "output_type": "execute_result"
    },
    {
     "data": {
      "text/plain": [
       "name       iq\r\n",
       "-------------\r\n",
       "Dent       98\r\n",
       "Beeblebrox 42\r\n"
      ]
     },
     "execution_count": 28,
     "metadata": {},
     "output_type": "execute_result"
    },
    {
     "data": {
      "text/plain": [
       "eid | name       iq\r\n",
       "----| -------------\r\n",
       "1001| Dent       98\r\n",
       "1002| Beeblebrox 42\r\n"
      ]
     },
     "execution_count": 28,
     "metadata": {},
     "output_type": "execute_result"
    }
   ],
   "source": [
    "/kt 1001 1002 / not working\n",
    "kt[(enlist 1001;enlist 1002)]\n",
    "kt[flip enlist 1001 1002]\n",
    "kt ([] eid:1001 1002)\n",
    "([] eid:1001 1002)#kt"
   ]
  },
  {
   "cell_type": "markdown",
   "metadata": {},
   "source": [
    "#### 8.4.6 Reverse Lookup"
   ]
  },
  {
   "cell_type": "code",
   "execution_count": 29,
   "metadata": {},
   "outputs": [
    {
     "data": {
      "text/plain": [
       "eid | name      \r\n",
       "----| ----------\r\n",
       "1001| Dent      \r\n",
       "1002| Beeblebrox\r\n",
       "1003| Prefect   \r\n"
      ]
     },
     "execution_count": 29,
     "metadata": {},
     "output_type": "execute_result"
    },
    {
     "data": {
      "text/plain": [
       "eid \r\n",
       "----\r\n",
       "1003\r\n",
       "1001\r\n"
      ]
     },
     "execution_count": 29,
     "metadata": {},
     "output_type": "execute_result"
    }
   ],
   "source": [
    "kts:([eid:1001 1002 1003] name:`Dent`Beeblebrox`Prefect)\n",
    "kts\n",
    "kts?([] name:`Prefect`Dent)"
   ]
  },
  {
   "cell_type": "markdown",
   "metadata": {},
   "source": [
    "#### 8.4.7 Components of a Keyed Table"
   ]
  },
  {
   "cell_type": "markdown",
   "metadata": {},
   "source": [
    "Since a keyed table is a dictionary mapping the table of keys to the table of values, the functions **key** and **value** extract the constituents."
   ]
  },
  {
   "cell_type": "code",
   "execution_count": 30,
   "metadata": {},
   "outputs": [
    {
     "data": {
      "text/plain": [
       "eid \r\n",
       "----\r\n",
       "1001\r\n",
       "1002\r\n",
       "1003\r\n"
      ]
     },
     "execution_count": 30,
     "metadata": {},
     "output_type": "execute_result"
    },
    {
     "data": {
      "text/plain": [
       "name       iq \r\n",
       "--------------\r\n",
       "Dent       98 \r\n",
       "Beeblebrox 42 \r\n",
       "Prefect    126\r\n"
      ]
     },
     "execution_count": 30,
     "metadata": {},
     "output_type": "execute_result"
    }
   ],
   "source": [
    "key kt    / key table\n",
    "value kt  / values table"
   ]
  },
  {
   "cell_type": "code",
   "execution_count": 31,
   "metadata": {},
   "outputs": [
    {
     "data": {
      "text/plain": [
       ",`eid\r\n"
      ]
     },
     "execution_count": 31,
     "metadata": {},
     "output_type": "execute_result"
    },
    {
     "data": {
      "text/plain": [
       "`eid`name`iq\r\n"
      ]
     },
     "execution_count": 31,
     "metadata": {},
     "output_type": "execute_result"
    }
   ],
   "source": [
    "keys kt   / list of key columns\n",
    "cols kt   / list of all columns "
   ]
  },
  {
   "cell_type": "markdown",
   "metadata": {},
   "source": [
    "#### 8.4.8 Tables vs. Keyed Tables"
   ]
  },
  {
   "cell_type": "markdown",
   "metadata": {},
   "source": [
    "It is possible to convert dynamically between a regular table having a column of potential key values and the corresponding keyed table using dyadic primitive **xkey**. The right operand is the source table/keyed table and the left operand is a symbol (or list of symbols) with the column name(s) to be used as the key."
   ]
  },
  {
   "cell_type": "code",
   "execution_count": 32,
   "metadata": {},
   "outputs": [
    {
     "data": {
      "text/plain": [
       "eid  name       iq \r\n",
       "-------------------\r\n",
       "1001 Dent       98 \r\n",
       "1002 Beeblebrox 42 \r\n",
       "1003 Prefect    126\r\n"
      ]
     },
     "execution_count": 32,
     "metadata": {},
     "output_type": "execute_result"
    }
   ],
   "source": [
    "t:([] eid:1001 1002 1003; name:`Dent`Beeblebrox`Prefect; iq:98 42 126)\n",
    "t"
   ]
  },
  {
   "cell_type": "code",
   "execution_count": 33,
   "metadata": {},
   "outputs": [
    {
     "data": {
      "text/plain": [
       "eid | name       iq \r\n",
       "----| --------------\r\n",
       "1001| Dent       98 \r\n",
       "1002| Beeblebrox 42 \r\n",
       "1003| Prefect    126\r\n"
      ]
     },
     "execution_count": 33,
     "metadata": {},
     "output_type": "execute_result"
    }
   ],
   "source": [
    "`eid xkey t"
   ]
  },
  {
   "cell_type": "markdown",
   "metadata": {},
   "source": [
    "Conversely, to convert a keyed table to a regular table, use xkey with an empty general list as the left operand."
   ]
  },
  {
   "cell_type": "code",
   "execution_count": 34,
   "metadata": {},
   "outputs": [
    {
     "data": {
      "text/plain": [
       "eid  name       iq \r\n",
       "-------------------\r\n",
       "1001 Dent       98 \r\n",
       "1002 Beeblebrox 42 \r\n",
       "1003 Prefect    126\r\n"
      ]
     },
     "execution_count": 34,
     "metadata": {},
     "output_type": "execute_result"
    }
   ],
   "source": [
    "kt:([eid:1001 1002 1003] name:`Dent`Beeblebrox`Prefect; iq:98 42 126)\n",
    "() xkey kt"
   ]
  },
  {
   "cell_type": "markdown",
   "metadata": {},
   "source": [
    "You can also use an overload of ! to key/unkey tables. The left operand is a non-negative integer that specifies the number of left-most columns to include in the key, where 0 indicates none – i.e., no keys. With t and kt as above,\n",
    "While these forms are terse, the first makes your code less obvious since the new key column(s) are only implicit."
   ]
  },
  {
   "cell_type": "code",
   "execution_count": 35,
   "metadata": {},
   "outputs": [
    {
     "data": {
      "text/plain": [
       "eid | name       iq \r\n",
       "----| --------------\r\n",
       "1001| Dent       98 \r\n",
       "1002| Beeblebrox 42 \r\n",
       "1003| Prefect    126\r\n"
      ]
     },
     "execution_count": 35,
     "metadata": {},
     "output_type": "execute_result"
    },
    {
     "data": {
      "text/plain": [
       "eid  name       iq \r\n",
       "-------------------\r\n",
       "1001 Dent       98 \r\n",
       "1002 Beeblebrox 42 \r\n",
       "1003 Prefect    126\r\n"
      ]
     },
     "execution_count": 35,
     "metadata": {},
     "output_type": "execute_result"
    }
   ],
   "source": [
    "1!t\n",
    "0!kt"
   ]
  },
  {
   "cell_type": "markdown",
   "metadata": {},
   "source": [
    "If xkey is applied with a column that does not contain unique values, the result is not a error but rather a keyed table that does not have a true primary key."
   ]
  },
  {
   "cell_type": "code",
   "execution_count": 36,
   "metadata": {},
   "outputs": [
    {
     "data": {
      "text/plain": [
       "eid | name      \r\n",
       "----| ----------\r\n",
       "1001| Dent      \r\n",
       "1002| Beeblebrox\r\n",
       "1003| Prefect   \r\n",
       "1001| Dup       \r\n"
      ]
     },
     "execution_count": 36,
     "metadata": {},
     "output_type": "execute_result"
    }
   ],
   "source": [
    "t:([] eid:1001 1002 1003 1001; name:`Dent`Beeblebrox`Prefect`Dup)\n",
    "ktdup:`eid xkey t\n",
    "ktdup"
   ]
  },
  {
   "cell_type": "markdown",
   "metadata": {},
   "source": [
    "Duplicate key values are not accessible via key lookup."
   ]
  },
  {
   "cell_type": "markdown",
   "metadata": {},
   "source": [
    "#### 8.4.9 Compound Primary Key"
   ]
  },
  {
   "cell_type": "code",
   "execution_count": 37,
   "metadata": {},
   "outputs": [
    {
     "data": {
      "text/plain": [
       "lname      fname | iq \r\n",
       "-----------------| ---\r\n",
       "Dent       Arthur| 98 \r\n",
       "Beeblebrox Zaphod| 42 \r\n",
       "Prefect    Ford  | 126\r\n"
      ]
     },
     "execution_count": 37,
     "metadata": {},
     "output_type": "execute_result"
    }
   ],
   "source": [
    "ktc:([lname:`Dent`Beeblebrox`Prefect; fname:`Arthur`Zaphod`Ford]; iq:98 42 126)\n",
    "ktc"
   ]
  },
  {
   "cell_type": "markdown",
   "metadata": {},
   "source": [
    "Lookup"
   ]
  },
  {
   "cell_type": "code",
   "execution_count": 38,
   "metadata": {},
   "outputs": [
    {
     "data": {
      "text/plain": [
       "iq| 42\r\n"
      ]
     },
     "execution_count": 38,
     "metadata": {},
     "output_type": "execute_result"
    },
    {
     "data": {
      "text/plain": [
       "iq| 98\r\n"
      ]
     },
     "execution_count": 38,
     "metadata": {},
     "output_type": "execute_result"
    }
   ],
   "source": [
    "ktc[`lname`fname!`Beeblebrox`Zaphod]\n",
    "ktc[`Dent`Arthur]"
   ]
  },
  {
   "cell_type": "markdown",
   "metadata": {},
   "source": [
    "#### 8.4.10 Retrieving Records with a Compound Primary Key"
   ]
  },
  {
   "cell_type": "markdown",
   "metadata": {},
   "source": [
    "Unlike a simple key, we can lookup multiple value records with a list of compound keys."
   ]
  },
  {
   "cell_type": "code",
   "execution_count": 39,
   "metadata": {},
   "outputs": [
    {
     "data": {
      "text/plain": [
       "iq \r\n",
       "---\r\n",
       "98 \r\n",
       "126\r\n"
      ]
     },
     "execution_count": 39,
     "metadata": {},
     "output_type": "execute_result"
    }
   ],
   "source": [
    "ktc (`Dent`Arthur; `Prefect`Ford)"
   ]
  },
  {
   "cell_type": "markdown",
   "metadata": {},
   "source": [
    "Of course the nifty construct with an anonymous table works with compound keys too."
   ]
  },
  {
   "cell_type": "code",
   "execution_count": 40,
   "metadata": {},
   "outputs": [
    {
     "data": {
      "text/plain": [
       "iq \r\n",
       "---\r\n",
       "98 \r\n",
       "126\r\n"
      ]
     },
     "execution_count": 40,
     "metadata": {},
     "output_type": "execute_result"
    }
   ],
   "source": [
    "ktc ([] lname:`Dent`Prefect; fname:`Arthur`Ford)"
   ]
  },
  {
   "cell_type": "markdown",
   "metadata": {},
   "source": [
    "As does the use of # to retrieve a sub keyed table from a list of keys."
   ]
  },
  {
   "cell_type": "code",
   "execution_count": 41,
   "metadata": {},
   "outputs": [
    {
     "data": {
      "text/plain": [
       "lname   fname | iq \r\n",
       "--------------| ---\r\n",
       "Dent    Arthur| 98 \r\n",
       "Prefect Ford  | 126\r\n"
      ]
     },
     "execution_count": 41,
     "metadata": {},
     "output_type": "execute_result"
    }
   ],
   "source": [
    "K:([] lname:`Dent`Prefect; fname:`Arthur`Ford)\n",
    "K#ktc"
   ]
  },
  {
   "cell_type": "markdown",
   "metadata": {},
   "source": [
    "#### 8.4.11 Extracting Column Data"
   ]
  },
  {
   "cell_type": "code",
   "execution_count": 42,
   "metadata": {},
   "outputs": [],
   "source": [
    "kts:([k:101 102 103] v1:`a`b`c; v2:1.1 2.2 3.3)\n",
    "ktc:([k1:`a`b`c;k2:`x`y`z] v1:`a`b`c; v2:1.1 2.2 3.3)"
   ]
  },
  {
   "cell_type": "code",
   "execution_count": 43,
   "metadata": {},
   "outputs": [
    {
     "data": {
      "text/plain": [
       "`a`c\r\n"
      ]
     },
     "execution_count": 43,
     "metadata": {},
     "output_type": "execute_result"
    },
    {
     "data": {
      "text/plain": [
       "v1 v2 \r\n",
       "------\r\n",
       "a  1.1\r\n",
       "c  3.3\r\n"
      ]
     },
     "execution_count": 43,
     "metadata": {},
     "output_type": "execute_result"
    },
    {
     "data": {
      "text/plain": [
       "a   c  \r\n",
       "1.1 3.3\r\n"
      ]
     },
     "execution_count": 43,
     "metadata": {},
     "output_type": "execute_result"
    }
   ],
   "source": [
    "kts[([] k:101 103)][`v1]\n",
    "ktc[([] k1:`a`c;k2:`x`z)]\n",
    "ktc[([] k1:`a`c;k2:`x`z)][`v1`v2]"
   ]
  },
  {
   "cell_type": "markdown",
   "metadata": {},
   "source": [
    "indexing-at-depth"
   ]
  },
  {
   "cell_type": "code",
   "execution_count": 44,
   "metadata": {},
   "outputs": [
    {
     "data": {
      "text/plain": [
       "`a`c\r\n"
      ]
     },
     "execution_count": 44,
     "metadata": {},
     "output_type": "execute_result"
    },
    {
     "data": {
      "text/plain": [
       "v1 v2 \r\n",
       "------\r\n",
       "a  1.1\r\n",
       "c  3.3\r\n"
      ]
     },
     "execution_count": 44,
     "metadata": {},
     "output_type": "execute_result"
    },
    {
     "data": {
      "text/plain": [
       "`a 1.1\r\n",
       "`c 3.3\r\n"
      ]
     },
     "execution_count": 44,
     "metadata": {},
     "output_type": "execute_result"
    }
   ],
   "source": [
    "kts[([] k:101 103); `v1]\n",
    "ktc[([] k1:`a`c;k2:`x`z)]\n",
    "ktc[([] k1:`a`c;k2:`x`z); `v1`v2]"
   ]
  },
  {
   "cell_type": "markdown",
   "metadata": {},
   "source": [
    "### 8.5 Foreign Keys and Virtual Columns"
   ]
  },
  {
   "cell_type": "markdown",
   "metadata": {},
   "source": [
    "#### 8.5.1 Definition of Foreign Key`"
   ]
  },
  {
   "cell_type": "markdown",
   "metadata": {},
   "source": [
    "**A foreign key** is one or more table columns whose values are defined as an enumeration over the key column(s) of a keyed table. As in the case of symbol enumeration `sym$, the enumeration restricts foreign key values to be in the list of primary key values."
   ]
  },
  {
   "cell_type": "markdown",
   "metadata": {},
   "source": [
    "#### 8.5.2 Example of Simple Foreign Key"
   ]
  },
  {
   "cell_type": "code",
   "execution_count": 45,
   "metadata": {},
   "outputs": [],
   "source": [
    "kt:([eid:1001 1002 1003] name:`Dent`Beeblebrox`Prefect; iq:98 42 126)\n"
   ]
  },
  {
   "cell_type": "markdown",
   "metadata": {},
   "source": [
    "This table has no restriction on eid other than it be a long. To ensure that only eid values for actual travelers can be entered, we make the eid column in this table a foreign key related to the eid column in kt. This is done by enumerating over the name of the keyed table – i.e., **`kt$.**\n",
    "\n",
    "When q sees the name of a keyed table in an enumeration domain it knows to use the list of key records."
   ]
  },
  {
   "cell_type": "code",
   "execution_count": 46,
   "metadata": {},
   "outputs": [
    {
     "data": {
      "text/plain": [
       "eid  sc \r\n",
       "--------\r\n",
       "1003 126\r\n",
       "1001 36 \r\n",
       "1002 92 \r\n",
       "1001 39 \r\n",
       "1002 98 \r\n",
       "1001 42 \r\n"
      ]
     },
     "execution_count": 46,
     "metadata": {},
     "output_type": "execute_result"
    }
   ],
   "source": [
    "([] eid:1003 1001 1002 1001 1002 1001; sc:126 36 92 39 98 42)"
   ]
  },
  {
   "cell_type": "markdown",
   "metadata": {},
   "source": [
    "As in the case of symbol enumeration, q looks up the index of each foreign key value in the list of key records and, under the covers, replaces the field value with that index. Also as with symbols, the enumeration is displayed in reconstituted form instead of as the underlying indices. To see the underlying indices, cast to an integer."
   ]
  },
  {
   "cell_type": "markdown",
   "metadata": {},
   "source": [
    "Attempting to enumerate a value that is not in the primary key column causes an error."
   ]
  },
  {
   "cell_type": "markdown",
   "metadata": {},
   "source": [
    "We put this together with table-definition syntax to define a details table with a foreign key over kt."
   ]
  },
  {
   "cell_type": "code",
   "execution_count": 47,
   "metadata": {},
   "outputs": [
    {
     "data": {
      "text/plain": [
       "eid  sc \r\n",
       "--------\r\n",
       "1003 126\r\n",
       "1001 36 \r\n",
       "1002 92 \r\n",
       "1001 39 \r\n",
       "1002 98 \r\n",
       "1001 42 \r\n"
      ]
     },
     "execution_count": 47,
     "metadata": {},
     "output_type": "execute_result"
    }
   ],
   "source": [
    "tdetails:([] eid:`kt$1003 1001 1002 1001 1002 1001; sc:126 36 92 39 98 42)\n",
    "tdetails"
   ]
  },
  {
   "cell_type": "markdown",
   "metadata": {},
   "source": [
    "Observe that a foreign key is denoted by the name of the target keyed table in the f column in the output of meta.\n"
   ]
  },
  {
   "cell_type": "code",
   "execution_count": 48,
   "metadata": {},
   "outputs": [
    {
     "data": {
      "text/plain": [
       "c  | t f  a\r\n",
       "---| ------\r\n",
       "eid| j kt  \r\n",
       "sc | j     \r\n"
      ]
     },
     "execution_count": 48,
     "metadata": {},
     "output_type": "execute_result"
    }
   ],
   "source": [
    "meta tdetails"
   ]
  },
  {
   "cell_type": "markdown",
   "metadata": {},
   "source": [
    "The built-in function **fkeys** applied to a table (or keyed table) returns a dictionary in which each foreign key column name is mapped to its primary key table name."
   ]
  },
  {
   "cell_type": "code",
   "execution_count": 49,
   "metadata": {},
   "outputs": [
    {
     "data": {
      "text/plain": [
       "eid| kt\r\n"
      ]
     },
     "execution_count": 49,
     "metadata": {},
     "output_type": "execute_result"
    }
   ],
   "source": [
    "fkeys tdetails"
   ]
  },
  {
   "cell_type": "markdown",
   "metadata": {},
   "source": [
    "#### 8.5.3 Resolving a Foreign Key"
   ]
  },
  {
   "cell_type": "markdown",
   "metadata": {},
   "source": [
    "When you wish to resolve a foreign key – i.e., get the actual values instead of enumerated values – apply **value** to the enumerated column."
   ]
  },
  {
   "cell_type": "code",
   "execution_count": 50,
   "metadata": {},
   "outputs": [
    {
     "data": {
      "text/plain": [
       "eid  sc \r\n",
       "--------\r\n",
       "1003 126\r\n",
       "1001 36 \r\n",
       "1002 92 \r\n",
       "1001 39 \r\n",
       "1002 98 \r\n",
       "1001 42 \r\n"
      ]
     },
     "execution_count": 50,
     "metadata": {},
     "output_type": "execute_result"
    }
   ],
   "source": [
    "tdetails1:update value eid from tdetails\n",
    "tdetails1"
   ]
  },
  {
   "cell_type": "markdown",
   "metadata": {},
   "source": [
    "#### 8.5.4 Foreign Keys and Relations"
   ]
  },
  {
   "cell_type": "markdown",
   "metadata": {},
   "source": [
    "Let tf be a table having a foreign key column f enumerated over a keyed table kt. All columns in kt are available via dot notation in a select expression whose from domain is tf. To access a column c in kt, use the notation f.c in the select expression. This column takes the name c by default in the result."
   ]
  },
  {
   "cell_type": "code",
   "execution_count": 51,
   "metadata": {},
   "outputs": [
    {
     "data": {
      "text/plain": [
       "name       sc \r\n",
       "--------------\r\n",
       "Prefect    126\r\n",
       "Dent       36 \r\n",
       "Beeblebrox 92 \r\n",
       "Dent       39 \r\n",
       "Beeblebrox 98 \r\n",
       "Dent       42 \r\n"
      ]
     },
     "execution_count": 51,
     "metadata": {},
     "output_type": "execute_result"
    }
   ],
   "source": [
    "select eid.name, sc from tdetails"
   ]
  },
  {
   "cell_type": "code",
   "execution_count": 51,
   "metadata": {},
   "outputs": [
    {
     "ename": "\u001b[0;31mhere.\u001b[0m",
     "evalue": "\u001b[0;31mhere.\u001b[0m",
     "output_type": "error",
     "traceback": [
      "\u001b[0;31mevaluation error:\n\u001b[0m",
      "\u001b[0;31mhere.\u001b[0m",
      "\u001b[0;31m\u001b[0m",
      "\u001b[0;31m  [0]  There is an implicit left join between tdetails and kt here.\r\n                                                              ^\r\n\u001b[0m"
     ]
    }
   ],
   "source": [
    "There is an implicit left join between tdetails and kt here."
   ]
  },
  {
   "cell_type": "markdown",
   "metadata": {},
   "source": [
    "The implicit join with dot notation is powerful and convenient when your tables are in normal form and there are multiple foreign key relations. For example, a query could retrieve\n",
    "\n",
    "select name.street.city.zip.country from residents where …\n",
    "\n",
    "in a single select with no explicit joins."
   ]
  },
  {
   "cell_type": "markdown",
   "metadata": {},
   "source": [
    "### 8.6 Working with Tables and Keyed Tables"
   ]
  },
  {
   "cell_type": "code",
   "execution_count": 52,
   "metadata": {},
   "outputs": [],
   "source": [
    "t:([] name:`Dent`Beeblebrox`Prefect; iq:98 42 126)\n",
    "kt:([eid:1001 1002 1003] name:`Dent`Beeblebrox`Prefect; iq:98 42 126)"
   ]
  },
  {
   "cell_type": "markdown",
   "metadata": {},
   "source": [
    "#### 8.6.1 Appending Records (,:)"
   ]
  },
  {
   "cell_type": "markdown",
   "metadata": {},
   "source": [
    "The fundamental way to append a record to a table is to view the table as a list of records and join with **,:**. Note that the fields in the record do not need to be in column order."
   ]
  },
  {
   "cell_type": "code",
   "execution_count": 53,
   "metadata": {},
   "outputs": [
    {
     "data": {
      "text/plain": [
       "name       iq \r\n",
       "--------------\r\n",
       "Dent       98 \r\n",
       "Beeblebrox 42 \r\n",
       "Prefect    126\r\n",
       "W          26 \r\n",
       "Albert     200\r\n"
      ]
     },
     "execution_count": 53,
     "metadata": {},
     "output_type": "execute_result"
    }
   ],
   "source": [
    "t,:`name`iq!(`W; 26)\n",
    "t,:`iq`name!(200; `Albert)\n",
    "t"
   ]
  },
  {
   "cell_type": "code",
   "execution_count": 54,
   "metadata": {},
   "outputs": [
    {
     "data": {
      "text/plain": [
       "name       iq \r\n",
       "--------------\r\n",
       "Dent       98 \r\n",
       "Beeblebrox 42 \r\n",
       "Prefect    126\r\n",
       "W          26 \r\n",
       "Albert     200\r\n",
       "H          142\r\n"
      ]
     },
     "execution_count": 54,
     "metadata": {},
     "output_type": "execute_result"
    }
   ],
   "source": [
    "t,:(`H; 142) / if names are ignored than values should be in order of columns\n",
    "t"
   ]
  },
  {
   "cell_type": "markdown",
   "metadata": {},
   "source": [
    "#### 8.6.2 First and Last Records"
   ]
  },
  {
   "cell_type": "markdown",
   "metadata": {},
   "source": [
    "Because a table is logically a list of records, the functions first and last retrieve the initial and final records, respectively."
   ]
  },
  {
   "cell_type": "code",
   "execution_count": 55,
   "metadata": {},
   "outputs": [
    {
     "data": {
      "text/plain": [
       "name| `Dent\r\n",
       "iq  | 98\r\n"
      ]
     },
     "execution_count": 55,
     "metadata": {},
     "output_type": "execute_result"
    },
    {
     "data": {
      "text/plain": [
       "name| `H\r\n",
       "iq  | 142\r\n"
      ]
     },
     "execution_count": 55,
     "metadata": {},
     "output_type": "execute_result"
    }
   ],
   "source": [
    "first t\n",
    "last t"
   ]
  },
  {
   "cell_type": "markdown",
   "metadata": {},
   "source": [
    "A keyed table is a dictionary so functions apply to the value table."
   ]
  },
  {
   "cell_type": "code",
   "execution_count": 56,
   "metadata": {},
   "outputs": [
    {
     "data": {
      "text/plain": [
       "name| `Dent\r\n",
       "iq  | 98\r\n"
      ]
     },
     "execution_count": 56,
     "metadata": {},
     "output_type": "execute_result"
    },
    {
     "data": {
      "text/plain": [
       "name| `Prefect\r\n",
       "iq  | 126\r\n"
      ]
     },
     "execution_count": 56,
     "metadata": {},
     "output_type": "execute_result"
    }
   ],
   "source": [
    "first kt\n",
    "last kt"
   ]
  },
  {
   "cell_type": "markdown",
   "metadata": {},
   "source": [
    "You can retrieve the **first or last n records of a table or keyed table using the take operator #**. Why does this work? Tables are lists and keyed tables are dictionaries and # works on both. Since # always returns a list and the extracted records conform, q recognizes the result of # as a table or keyed table with the same schema as the input."
   ]
  },
  {
   "cell_type": "code",
   "execution_count": 57,
   "metadata": {},
   "outputs": [
    {
     "data": {
      "text/plain": [
       "name       iq\r\n",
       "-------------\r\n",
       "Dent       98\r\n",
       "Beeblebrox 42\r\n"
      ]
     },
     "execution_count": 57,
     "metadata": {},
     "output_type": "execute_result"
    }
   ],
   "source": [
    "2#t"
   ]
  },
  {
   "cell_type": "code",
   "execution_count": 58,
   "metadata": {},
   "outputs": [
    {
     "data": {
      "text/plain": [
       "eid | name       iq \r\n",
       "----| --------------\r\n",
       "1001| Dent       98 \r\n",
       "1002| Beeblebrox 42 \r\n",
       "1003| Prefect    126\r\n"
      ]
     },
     "execution_count": 58,
     "metadata": {},
     "output_type": "execute_result"
    }
   ],
   "source": [
    "-3#kt"
   ]
  },
  {
   "cell_type": "markdown",
   "metadata": {},
   "source": [
    "#### 8.6.3 Find"
   ]
  },
  {
   "cell_type": "markdown",
   "metadata": {},
   "source": [
    "The find operator ? used with a table returns the index of a record – i.e., its row number."
   ]
  },
  {
   "cell_type": "code",
   "execution_count": 59,
   "metadata": {},
   "outputs": [
    {
     "data": {
      "text/plain": [
       "0\r\n"
      ]
     },
     "execution_count": 59,
     "metadata": {},
     "output_type": "execute_result"
    },
    {
     "data": {
      "text/plain": [
       "0\r\n"
      ]
     },
     "execution_count": 59,
     "metadata": {},
     "output_type": "execute_result"
    },
    {
     "data": {
      "text/plain": [
       "0 2\r\n"
      ]
     },
     "execution_count": 59,
     "metadata": {},
     "output_type": "execute_result"
    }
   ],
   "source": [
    "t?`name`iq!(`Dent;98) / all columns should be used\n",
    "t?(`Dent;98) / can be abbreviated, provided values are in right type and order\n",
    "t?((`Dent;98);(`Prefect;126)) / find atomic"
   ]
  },
  {
   "cell_type": "markdown",
   "metadata": {},
   "source": [
    "Since a keyed table is a dictionary, find ? performs a reverse lookup of a value record/row and returns the first associated key record."
   ]
  },
  {
   "cell_type": "code",
   "execution_count": 60,
   "metadata": {},
   "outputs": [
    {
     "data": {
      "text/plain": [
       "eid| 1001\r\n"
      ]
     },
     "execution_count": 60,
     "metadata": {},
     "output_type": "execute_result"
    },
    {
     "data": {
      "text/plain": [
       "eid| 1001\r\n"
      ]
     },
     "execution_count": 60,
     "metadata": {},
     "output_type": "execute_result"
    }
   ],
   "source": [
    "kt?`name`iq!(`Dent;98)\n",
    "kt?(`Dent;98)"
   ]
  },
  {
   "cell_type": "markdown",
   "metadata": {},
   "source": [
    "As with key lookup, a single column must have enlisted values, or you can use the anonymous table construct."
   ]
  },
  {
   "cell_type": "code",
   "execution_count": 61,
   "metadata": {},
   "outputs": [
    {
     "data": {
      "text/plain": [
       "0 1\r\n"
      ]
     },
     "execution_count": 61,
     "metadata": {},
     "output_type": "execute_result"
    },
    {
     "data": {
      "text/plain": [
       "0 1\r\n"
      ]
     },
     "execution_count": 61,
     "metadata": {},
     "output_type": "execute_result"
    }
   ],
   "source": [
    "t1:([] eid:1001 1002 1003)\n",
    "t1?enlist each 1001 1002\n",
    "t1?([] eid:1001 1002)"
   ]
  },
  {
   "cell_type": "markdown",
   "metadata": {},
   "source": [
    "#### 8.6.4 Union with ,"
   ]
  },
  {
   "cell_type": "markdown",
   "metadata": {},
   "source": [
    "The join operator , is defined for tables and keyed tables since they both comprise lists of records. It is essentially the same as UNION in SQL.\n",
    "\n",
    "You can use , to append a record to (a copy of) a table, but no type checking will be performed."
   ]
  },
  {
   "cell_type": "code",
   "execution_count": 62,
   "metadata": {},
   "outputs": [
    {
     "data": {
      "text/plain": [
       "name            iq  \r\n",
       "--------------------\r\n",
       "Dent            98  \r\n",
       "Beeblebrox      42  \r\n",
       "Prefect         126 \r\n",
       "W               26  \r\n",
       "Albert          200 \r\n",
       "H               142 \r\n",
       "Slaartibartfast `123\r\n"
      ]
     },
     "execution_count": 62,
     "metadata": {},
     "output_type": "execute_result"
    }
   ],
   "source": [
    "t,`name`iq!(`Slaartibartfast; `123)"
   ]
  },
  {
   "cell_type": "markdown",
   "metadata": {},
   "source": [
    "Tables having exactly the same meta result can be joined to form a table. Since a table is a list of records, the result is obtained by appending the records of the right operand to those of the left."
   ]
  },
  {
   "cell_type": "code",
   "execution_count": 63,
   "metadata": {},
   "outputs": [
    {
     "data": {
      "text/plain": [
       "name       iq \r\n",
       "--------------\r\n",
       "Dent       98 \r\n",
       "Beeblebrox 42 \r\n",
       "Prefect    126\r\n",
       "W          26 \r\n",
       "Albert     200\r\n",
       "H          142\r\n",
       "W          26 \r\n"
      ]
     },
     "execution_count": 63,
     "metadata": {},
     "output_type": "execute_result"
    }
   ],
   "source": [
    "t,([] name:1#`W; iq:1#26)"
   ]
  },
  {
   "cell_type": "code",
   "execution_count": 64,
   "metadata": {},
   "outputs": [
    {
     "data": {
      "text/plain": [
       "name       iq \r\n",
       "--------------\r\n",
       "Dent       98 \r\n",
       "Beeblebrox 42 \r\n",
       "Prefect    126\r\n",
       "W          26 \r\n",
       "Albert     200\r\n",
       "H          142\r\n",
       "Dent       98 \r\n",
       "Beeblebrox 42 \r\n",
       "Prefect    126\r\n",
       "W          26 \r\n",
       "Albert     200\r\n",
       "H          142\r\n"
      ]
     },
     "execution_count": 64,
     "metadata": {},
     "output_type": "execute_result"
    }
   ],
   "source": [
    "t,t"
   ]
  },
  {
   "cell_type": "markdown",
   "metadata": {},
   "source": [
    "Two keyed tables with the same meta result can be joined with ,. Because a keyed table is a dictionary whose keys and values are record lists, the operation has upsert semantics. Keys in the right operand that are not in the left operand are treated as append (i.e., insert), whereas the right operand acts as an update on common key values. In other words, the right operand is upserted into the left."
   ]
  },
  {
   "cell_type": "code",
   "execution_count": 65,
   "metadata": {},
   "outputs": [
    {
     "data": {
      "text/plain": [
       "eid | name       iq \r\n",
       "----| --------------\r\n",
       "1001| Dent       98 \r\n",
       "1002| Beeblebrox 42 \r\n",
       "1003| Prefect    150\r\n",
       "1004| W          26 \r\n"
      ]
     },
     "execution_count": 65,
     "metadata": {},
     "output_type": "execute_result"
    }
   ],
   "source": [
    "kt,([eid:1003 1004] name:`Prefect`W; iq:150 26)"
   ]
  },
  {
   "cell_type": "markdown",
   "metadata": {},
   "source": [
    "#### 8.6.5 Coalesce ^"
   ]
  },
  {
   "cell_type": "markdown",
   "metadata": {},
   "source": [
    "**Coalesce ^** can be used to merge two keyed tables having the same columns. Its behavior derives from its behavior on dictionaries. For a common key value and a common column, the value of the column in the right keyed table prevails over that of column in the left keyed table, except where the right column is null, in which case the left column value survives. On non-common keys the individual values carry thru.\n",
    "\n",
    "The behavior of ^ is the same as , when there are no nulls in a column in the right table."
   ]
  },
  {
   "cell_type": "code",
   "execution_count": 66,
   "metadata": {},
   "outputs": [
    {
     "data": {
      "text/plain": [
       "k| v  \r\n",
       "-| ---\r\n",
       "a| 100\r\n",
       "b| 200\r\n",
       "c| 30 \r\n"
      ]
     },
     "execution_count": 66,
     "metadata": {},
     "output_type": "execute_result"
    },
    {
     "data": {
      "text/plain": [
       "k| v  \r\n",
       "-| ---\r\n",
       "a| 100\r\n",
       "b| 200\r\n",
       "c| 30 \r\n",
       "x| 40 \r\n",
       "y|    \r\n"
      ]
     },
     "execution_count": 66,
     "metadata": {},
     "output_type": "execute_result"
    }
   ],
   "source": [
    "([k:`a`b`c] v:10 0N 30)^([k:`a`b`c] v:100 200 0N)\n",
    "([k:`a`b`c`x] v:10 0N 30 40)^([k:`a`b`c`y]; v:100 200 0N 0N)"
   ]
  },
  {
   "cell_type": "markdown",
   "metadata": {},
   "source": [
    "The performance of ^ is slower than that of , since fields of the right operand must be checked for null."
   ]
  },
  {
   "cell_type": "markdown",
   "metadata": {},
   "source": [
    "#### 8.6.6 Column Join"
   ]
  },
  {
   "cell_type": "markdown",
   "metadata": {},
   "source": [
    "Two tables with the same number of records can be joined sideways with join-each (,') to create a column join in which the columns are aligned in parallel"
   ]
  },
  {
   "cell_type": "code",
   "execution_count": 67,
   "metadata": {},
   "outputs": [
    {
     "data": {
      "text/plain": [
       "c1 c2 \r\n",
       "------\r\n",
       "a  100\r\n",
       "b  200\r\n",
       "c  300\r\n"
      ]
     },
     "execution_count": 67,
     "metadata": {},
     "output_type": "execute_result"
    }
   ],
   "source": [
    "([] c1:`a`b`c),'([] c2:100 200 300)"
   ]
  },
  {
   "cell_type": "markdown",
   "metadata": {},
   "source": [
    "When the column lists of the tables are not disjoint ( have same columns ), the operation on the common columns has upsert semantics because each record is a dictionary."
   ]
  },
  {
   "cell_type": "code",
   "execution_count": 68,
   "metadata": {},
   "outputs": [
    {
     "data": {
      "text/plain": [
       "c1 c2 \r\n",
       "------\r\n",
       "a  100\r\n",
       "b  200\r\n",
       "c  300\r\n"
      ]
     },
     "execution_count": 68,
     "metadata": {},
     "output_type": "execute_result"
    }
   ],
   "source": [
    "([] c1:`a`b`c; c2:1 2 3),'([] c2:100 200 300)"
   ]
  },
  {
   "cell_type": "markdown",
   "metadata": {},
   "source": [
    "A sideways join on keyed tables requires that the key records conform, meaning that the key columns must have identical meta. The columns from the right operand are aligned along common keys and appended elsewhere."
   ]
  },
  {
   "cell_type": "code",
   "execution_count": 69,
   "metadata": {},
   "outputs": [
    {
     "data": {
      "text/plain": [
       "k| v1 v2  \r\n",
       "-| -------\r\n",
       "1| 10     \r\n",
       "2| 20     \r\n",
       "3| 30 1000\r\n",
       "4|    2000\r\n",
       "5|    3000\r\n"
      ]
     },
     "execution_count": 69,
     "metadata": {},
     "output_type": "execute_result"
    }
   ],
   "source": [
    "([k:1 2 3] v1:10 20 30),'([k:3 4 5] v2:1000 2000 3000)"
   ]
  },
  {
   "cell_type": "markdown",
   "metadata": {},
   "source": [
    "### 8.8 Attributes"
   ]
  },
  {
   "cell_type": "markdown",
   "metadata": {},
   "source": [
    "Attributes are metadata that you attach to lists of special forms. They are also used on a dictionary domain or a table column to speed retrieval for some operations. The q interpreter can make certain optimizations based on the structure of the list implied by the attribute.\n",
    "\n",
    "Attributes (other than `g#) are descriptive rather than prescriptive. By this we mean that by applying an attribute you are asserting that the list has a special form, which q will check. It does not instruct q to (re)make the list into the special form; that is your job. \n",
    "\n",
    "The attribute is applied to the target list in place, not on a copy."
   ]
  },
  {
   "cell_type": "markdown",
   "metadata": {},
   "source": [
    "A list operation that respects the form specified by the attribute leaves the attribute intact (other than `p#), while an operation that breaks the form results in the attribute being removed in the result."
   ]
  },
  {
   "cell_type": "markdown",
   "metadata": {},
   "source": [
    "#### 8.8.1 Sorted `s#"
   ]
  },
  {
   "cell_type": "markdown",
   "metadata": {},
   "source": [
    "Applying the sorted attribute `s# to a simple list indicates that the items of the list are sorted in ascending order; there is no way to indicate a descending sort. When a list has the sorted attribute, linear search is replaced with binary search, which makes certain operations faster – for example, find ?, equality =, in and within."
   ]
  },
  {
   "cell_type": "code",
   "execution_count": 70,
   "metadata": {},
   "outputs": [
    {
     "data": {
      "text/plain": [
       "`s#1 2 4 8\r\n"
      ]
     },
     "execution_count": 70,
     "metadata": {},
     "output_type": "execute_result"
    },
    {
     "data": {
      "text/plain": [
       "`s#1 2 4 8\r\n"
      ]
     },
     "execution_count": 70,
     "metadata": {},
     "output_type": "execute_result"
    }
   ],
   "source": [
    "`s#1 2 4 8\n",
    "/ `s#2 1 4 8 / error s-fail\n",
    "asc 2 1 8 4 / automatically applies `s#"
   ]
  },
  {
   "cell_type": "code",
   "execution_count": 75,
   "metadata": {},
   "outputs": [
    {
     "data": {
      "text/plain": [
       "`s#1 2 3 4 5 6\r\n"
      ]
     },
     "execution_count": 75,
     "metadata": {},
     "output_type": "execute_result"
    },
    {
     "data": {
      "text/plain": [
       "1 2 3 4 5 6 0\r\n"
      ]
     },
     "execution_count": 75,
     "metadata": {},
     "output_type": "execute_result"
    }
   ],
   "source": [
    "L:`s#1 2 3 4 5\n",
    "L,:6  / `s# still valid\n",
    "L\n",
    "L,:0  /  `s# not valid anymore\n",
    "L"
   ]
  },
  {
   "cell_type": "markdown",
   "metadata": {},
   "source": [
    "**Tip** One place to apply the sorted attribute is on the date or time column of a simple time series."
   ]
  },
  {
   "cell_type": "markdown",
   "metadata": {},
   "source": [
    "Applying the sorted attribute to a table unintuitively applies the parted attribute (see next section) to the first column.\n",
    "\n",
    "Applying the sorted attribute to a dictionary applies the attribute to the key list. Lookup is faster because binary search is used. A side effect of the way binary search is implemented is that the mapping given by the dictionary is now a step function, meaning that values between successive key values are \"filled in.\""
   ]
  },
  {
   "cell_type": "markdown",
   "metadata": {},
   "source": [
    "#### 8.8.2 Unique `u#"
   ]
  },
  {
   "cell_type": "markdown",
   "metadata": {},
   "source": [
    "Applying the unique attribute `u# to a list indicates that the items of the list are distinct. "
   ]
  },
  {
   "cell_type": "markdown",
   "metadata": {},
   "source": [
    "Applying `u# essentially causes q to create a hash table, which uses storage and adds overhead. It is best to apply the attribute after the list has been created, if possible. If you have a column that will always have unique values and your large table does not change often, you can get a significant performance speedup with `u#."
   ]
  },
  {
   "cell_type": "code",
   "execution_count": 76,
   "metadata": {},
   "outputs": [
    {
     "data": {
      "text/plain": [
       "`u#2 1 4 8\r\n"
      ]
     },
     "execution_count": 76,
     "metadata": {},
     "output_type": "execute_result"
    }
   ],
   "source": [
    "`u#2 1 4 8"
   ]
  },
  {
   "cell_type": "code",
   "execution_count": 76,
   "metadata": {},
   "outputs": [
    {
     "ename": "\u001b[0;31mu-fail\u001b[0m",
     "evalue": "\u001b[0;31mu-fail\u001b[0m",
     "output_type": "error",
     "traceback": [
      "\u001b[0;31mevaluation error:\n\u001b[0m",
      "\u001b[0;31mu-fail\u001b[0m",
      "\u001b[0;31m\u001b[0m",
      "\u001b[0;31m  [0]  `u#2 1 4 8 2\r\n         ^\r\n\u001b[0m"
     ]
    }
   ],
   "source": [
    "/ `u#2 1 4 8 2 - fails"
   ]
  },
  {
   "cell_type": "code",
   "execution_count": 79,
   "metadata": {},
   "outputs": [
    {
     "data": {
      "text/plain": [
       "`u#2 1 4 8\r\n"
      ]
     },
     "execution_count": 79,
     "metadata": {},
     "output_type": "execute_result"
    },
    {
     "data": {
      "text/plain": [
       "`u#2 1 4 8 3\r\n"
      ]
     },
     "execution_count": 79,
     "metadata": {},
     "output_type": "execute_result"
    },
    {
     "data": {
      "text/plain": [
       "2 1 4 8 3 1\r\n"
      ]
     },
     "execution_count": 79,
     "metadata": {},
     "output_type": "execute_result"
    }
   ],
   "source": [
    "L:`u#2 1 4 8\n",
    "L\n",
    "L,:3  / attribute preserved\n",
    "L\n",
    "L,:1  / attribute lost\n",
    "L"
   ]
  },
  {
   "cell_type": "markdown",
   "metadata": {},
   "source": [
    "#### 8.8.3 Parted `p#"
   ]
  },
  {
   "cell_type": "markdown",
   "metadata": {},
   "source": [
    "The parted attribute `p# indicates that all common occurrences of any value in a list are adjacent. Viewing the list as a map, the parted attribute says that its graph is a step function with distinct steps. The parted attribute can be applied to a simple list of any type whose underlying value is integral – e.g., the integer types, dates, times, timestamps, timespans. You can also apply parted on a list of enumerated symbols since the underlying index values are integral."
   ]
  },
  {
   "cell_type": "markdown",
   "metadata": {},
   "source": [
    "The parted attribute causes q to create an underlying structure that keeps track of the steps. Because the attribute is not preserved under most operations you should apply it only after the list is fully created. One exception is that when two lists have `p# and their values are disjoint, the attribute will be preserved when the lists are joined with ,."
   ]
  },
  {
   "cell_type": "code",
   "execution_count": 80,
   "metadata": {},
   "outputs": [
    {
     "data": {
      "text/plain": [
       "`p#2 2 2 1 1 4 4 4 4 3 3\r\n"
      ]
     },
     "execution_count": 80,
     "metadata": {},
     "output_type": "execute_result"
    }
   ],
   "source": [
    "`p#2 2 2 1 1 4 4 4 4 3 3"
   ]
  },
  {
   "cell_type": "code",
   "execution_count": 80,
   "metadata": {},
   "outputs": [
    {
     "ename": "\u001b[0;31mu-fail\u001b[0m",
     "evalue": "\u001b[0;31mu-fail\u001b[0m",
     "output_type": "error",
     "traceback": [
      "\u001b[0;31mevaluation error:\n\u001b[0m",
      "\u001b[0;31mu-fail\u001b[0m",
      "\u001b[0;31m\u001b[0m",
      "\u001b[0;31m  [1]  (<q>)\n\n\u001b[0m",
      "\u001b[0;31m  [0]  `p#2 2 2 1 1 4 4 4 4 3 3 2\r\n         ^\r\n\u001b[0m"
     ]
    }
   ],
   "source": [
    "/ `p#2 2 2 1 1 4 4 4 4 3 3 2  / fails"
   ]
  },
  {
   "cell_type": "markdown",
   "metadata": {},
   "source": [
    "With the exception in the note above, the parted attribute is not preserved under any operation on the list, even if the operation preserves the property."
   ]
  },
  {
   "cell_type": "code",
   "execution_count": 83,
   "metadata": {},
   "outputs": [
    {
     "data": {
      "text/plain": [
       "`p#1 1 2 3 3\r\n"
      ]
     },
     "execution_count": 83,
     "metadata": {},
     "output_type": "execute_result"
    },
    {
     "data": {
      "text/plain": [
       "1 1 2 3 3 3\r\n"
      ]
     },
     "execution_count": 83,
     "metadata": {},
     "output_type": "execute_result"
    }
   ],
   "source": [
    "L:`p#1 1 2 3 3\n",
    "L\n",
    "L,:3\n",
    "L"
   ]
  },
  {
   "cell_type": "markdown",
   "metadata": {},
   "source": [
    "#### 8.8.4 Grouped `g#"
   ]
  },
  {
   "cell_type": "markdown",
   "metadata": {},
   "source": [
    "The grouped attribute `g# differs from other attributes in that it can be applied to any list. It causes q to create and maintain an index – essentially a hash table. Grouped can be applied to a list when no other assumptions about its structure can be made."
   ]
  },
  {
   "cell_type": "code",
   "execution_count": 84,
   "metadata": {},
   "outputs": [
    {
     "data": {
      "text/plain": [
       "`g#1 2 3 2 3 4 3 4 5 2 3 4 5 4 3 5 6\r\n"
      ]
     },
     "execution_count": 84,
     "metadata": {},
     "output_type": "execute_result"
    }
   ],
   "source": [
    "`g#1 2 3 2 3 4 3 4 5 2 3 4 5 4 3 5 6"
   ]
  },
  {
   "cell_type": "markdown",
   "metadata": {},
   "source": [
    "The grouped attribute is maintained as operations are performed on the list, which can cause significant processing overhead in addition to the storage required. Best to apply it after the entire list has been created, if possible.\n",
    "\n",
    "Applying the grouped attribute to a table column roughly corresponds to placing an index on a column in an RDBMS. "
   ]
  },
  {
   "cell_type": "markdown",
   "metadata": {},
   "source": [
    "#### 8.8.5 Remove Attribute `#"
   ]
  },
  {
   "cell_type": "markdown",
   "metadata": {},
   "source": [
    "The operations `# removes any attribute that may currently be applied"
   ]
  },
  {
   "cell_type": "code",
   "execution_count": 85,
   "metadata": {},
   "outputs": [
    {
     "data": {
      "text/plain": [
       "`s#0 1 2 3 4 5 6 7 8 9\r\n"
      ]
     },
     "execution_count": 85,
     "metadata": {},
     "output_type": "execute_result"
    }
   ],
   "source": [
    "L:`s#til 10\n",
    "L"
   ]
  },
  {
   "cell_type": "code",
   "execution_count": 86,
   "metadata": {},
   "outputs": [
    {
     "data": {
      "text/plain": [
       "0 1 2 3 4 5 6 7 8 9\r\n"
      ]
     },
     "execution_count": 86,
     "metadata": {},
     "output_type": "execute_result"
    }
   ],
   "source": [
    "`#L"
   ]
  },
  {
   "cell_type": "code",
   "execution_count": null,
   "metadata": {},
   "outputs": [],
   "source": []
  },
  {
   "cell_type": "code",
   "execution_count": null,
   "metadata": {},
   "outputs": [],
   "source": []
  },
  {
   "cell_type": "code",
   "execution_count": null,
   "metadata": {},
   "outputs": [],
   "source": []
  },
  {
   "cell_type": "code",
   "execution_count": null,
   "metadata": {},
   "outputs": [],
   "source": []
  }
 ],
 "metadata": {
  "kernelspec": {
   "display_name": "Q (kdb+)",
   "language": "q",
   "name": "qpk"
  },
  "language_info": {
   "file_extension": ".q",
   "mimetype": "text/x-q",
   "name": "q",
   "version": "3.6.0"
  }
 },
 "nbformat": 4,
 "nbformat_minor": 2
}

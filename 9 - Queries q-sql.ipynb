{
 "cells": [
  {
   "cell_type": "markdown",
   "metadata": {},
   "source": [
    "### 9.0 Overview"
   ]
  },
  {
   "cell_type": "markdown",
   "metadata": {},
   "source": [
    "q-sql vs SQL\n",
    "\n",
    "The first important difference is that a q table has ordered rows and columns. This is particularly useful when dealing with the situation where records arrive in time order. Appending them to a table ensures that they enter – and stay – in order. Subsequent select operations always retrieve the records in order without any need for sorting.\n",
    "\n",
    "\n",
    "A second difference is that a q table is stored physically as a collection of column lists. This means that operations on column data are vector operations. Moreover, for simple column lists, atomic, aggregate and uniform functions applied to columns are especially simple and fast since they reduce to direct memory addressing.\n",
    "\n",
    "\n",
    "A third difference is that q-sql provides upsert semantics. Recall that upsert semantics on a dictionary mean that when a key-value pair is applied with , and the key is present, the value is updated; otherwise the pair is inserted. In the context of tables and keyed tables, which are both dictionaries, this has far-reaching consequences for many common operations, including joins. Upsert semantics permeate q-sql."
   ]
  },
  {
   "cell_type": "code",
   "execution_count": null,
   "metadata": {},
   "outputs": [],
   "source": []
  },
  {
   "cell_type": "markdown",
   "metadata": {},
   "source": [
    "#### 9.1 Inserting Records"
   ]
  },
  {
   "cell_type": "markdown",
   "metadata": {},
   "source": [
    "The upsert function is superior to insert and is to be preferred. We include insert for nostalgia only."
   ]
  },
  {
   "cell_type": "markdown",
   "metadata": {},
   "source": [
    "#### 9.1.0 Append Using Amend"
   ]
  },
  {
   "cell_type": "markdown",
   "metadata": {},
   "source": [
    "Since a table is (logically) a list of records, it is possible to append records in place using ,:. "
   ]
  },
  {
   "cell_type": "code",
   "execution_count": 1,
   "metadata": {},
   "outputs": [],
   "source": [
    "t:([] name:`symbol$(); iq:`int$())\n",
    "t,:`name`iq!(`Beeblebrox; 42)"
   ]
  },
  {
   "cell_type": "markdown",
   "metadata": {},
   "source": [
    "Amend can also be used with a row of naked field values provided the fields align exactly with the target columns. ( no column names)"
   ]
  },
  {
   "cell_type": "code",
   "execution_count": 2,
   "metadata": {},
   "outputs": [
    {
     "data": {
      "text/plain": [
       "name       iq \r\n",
       "--------------\r\n",
       "Beeblebrox 42 \r\n",
       "Prefect    126\r\n"
      ]
     },
     "execution_count": 2,
     "metadata": {},
     "output_type": "execute_result"
    }
   ],
   "source": [
    "t,:(`Prefect; 126)\n",
    "t"
   ]
  },
  {
   "cell_type": "markdown",
   "metadata": {},
   "source": [
    "**Append into keyed table**"
   ]
  },
  {
   "cell_type": "code",
   "execution_count": 3,
   "metadata": {},
   "outputs": [],
   "source": [
    "kt:([eid:`long$()] name:`symbol$(); iq:`long$())  / keyed table"
   ]
  },
  {
   "cell_type": "code",
   "execution_count": 4,
   "metadata": {},
   "outputs": [],
   "source": [
    "kt,:(enlist (enlist `eid)!enlist 1001)!enlist `name`iq!(`Beeblebrox; 42)  / full form - unreadable"
   ]
  },
  {
   "cell_type": "code",
   "execution_count": 5,
   "metadata": {},
   "outputs": [
    {
     "data": {
      "text/plain": [
       "eid | name       iq\r\n",
       "----| -------------\r\n",
       "1001| Beeblebrox 42\r\n",
       "1002| Dent       98\r\n"
      ]
     },
     "execution_count": 5,
     "metadata": {},
     "output_type": "execute_result"
    }
   ],
   "source": [
    "kt,:(1002; `Dent; 98) / naked values are much cleaner\n",
    "kt"
   ]
  },
  {
   "cell_type": "markdown",
   "metadata": {},
   "source": [
    "Amend has upsert semantics on keyed tables, so repeated operation on the same key will retain only the last values."
   ]
  },
  {
   "cell_type": "code",
   "execution_count": 6,
   "metadata": {},
   "outputs": [
    {
     "data": {
      "text/plain": [
       "eid | name       iq\r\n",
       "----| -------------\r\n",
       "1001| Beeblebrox 42\r\n",
       "1002| Dent       99\r\n"
      ]
     },
     "execution_count": 6,
     "metadata": {},
     "output_type": "execute_result"
    }
   ],
   "source": [
    "kt,:(1002; `Dent; 99)\n",
    "kt"
   ]
  },
  {
   "cell_type": "markdown",
   "metadata": {},
   "source": [
    "#### 9.1.1 Basic insert"
   ]
  },
  {
   "cell_type": "markdown",
   "metadata": {},
   "source": [
    "sql-like insert"
   ]
  },
  {
   "cell_type": "code",
   "execution_count": 7,
   "metadata": {},
   "outputs": [
    {
     "data": {
      "text/plain": [
       "name       iq \r\n",
       "--------------\r\n",
       "Dent       42 \r\n",
       "Beeblebrox 98 \r\n",
       "Prefect    126\r\n"
      ]
     },
     "execution_count": 7,
     "metadata": {},
     "output_type": "execute_result"
    },
    {
     "data": {
      "text/plain": [
       ",3\r\n"
      ]
     },
     "execution_count": 7,
     "metadata": {},
     "output_type": "execute_result"
    },
    {
     "data": {
      "text/plain": [
       "name           iq \r\n",
       "------------------\r\n",
       "Dent           42 \r\n",
       "Beeblebrox     98 \r\n",
       "Prefect        126\r\n",
       "Slartibartfast 134\r\n"
      ]
     },
     "execution_count": 7,
     "metadata": {},
     "output_type": "execute_result"
    },
    {
     "data": {
      "text/plain": [
       ",4\r\n"
      ]
     },
     "execution_count": 7,
     "metadata": {},
     "output_type": "execute_result"
    },
    {
     "data": {
      "text/plain": [
       "name           iq \r\n",
       "------------------\r\n",
       "Dent           42 \r\n",
       "Beeblebrox     98 \r\n",
       "Prefect        126\r\n",
       "Slartibartfast 134\r\n",
       "Marvin         150\r\n"
      ]
     },
     "execution_count": 7,
     "metadata": {},
     "output_type": "execute_result"
    }
   ],
   "source": [
    "t:([] name:`Dent`Beeblebrox`Prefect; iq:42 98 126)\n",
    "t\n",
    "`t insert (`name`iq)!(`Slartibartfast; 134) / full form, returns row numbers\n",
    "t\n",
    "`t insert (`Marvin; 150)    / naked values\n",
    "t"
   ]
  },
  {
   "cell_type": "markdown",
   "metadata": {},
   "source": [
    "Repeatedly applying insert to a table with the same argument results in duplicate records."
   ]
  },
  {
   "cell_type": "code",
   "execution_count": 8,
   "metadata": {},
   "outputs": [],
   "source": [
    "t:3#t  / taking only first 3 records, removing last 2"
   ]
  },
  {
   "cell_type": "code",
   "execution_count": 9,
   "metadata": {},
   "outputs": [
    {
     "data": {
      "text/plain": [
       "3 4\r\n"
      ]
     },
     "execution_count": 9,
     "metadata": {},
     "output_type": "execute_result"
    },
    {
     "data": {
      "text/plain": [
       "name           iq \r\n",
       "------------------\r\n",
       "Dent           42 \r\n",
       "Beeblebrox     98 \r\n",
       "Prefect        126\r\n",
       "Slartibartfast 134\r\n",
       "Marvin         200\r\n"
      ]
     },
     "execution_count": 9,
     "metadata": {},
     "output_type": "execute_result"
    },
    {
     "data": {
      "text/plain": [
       "name       iq \r\n",
       "--------------\r\n",
       "Dent       42 \r\n",
       "Beeblebrox 98 \r\n",
       "Prefect    126\r\n"
      ]
     },
     "execution_count": 9,
     "metadata": {},
     "output_type": "execute_result"
    },
    {
     "data": {
      "text/plain": [
       "3 4\r\n"
      ]
     },
     "execution_count": 9,
     "metadata": {},
     "output_type": "execute_result"
    },
    {
     "data": {
      "text/plain": [
       "name           iq \r\n",
       "------------------\r\n",
       "Dent           42 \r\n",
       "Beeblebrox     98 \r\n",
       "Prefect        126\r\n",
       "Slartibartfast 134\r\n",
       "Marvin         200\r\n"
      ]
     },
     "execution_count": 9,
     "metadata": {},
     "output_type": "execute_result"
    }
   ],
   "source": [
    "`t insert (`name`iq!(`Slartibartfast; 134); (`name`iq!(`Marvin; 200))) / multiple records in one insert\n",
    "t\n",
    "t:3#t\n",
    "t\n",
    "`t insert ([] name:`Slartibartfast`Marvin; iq:134 200)\n",
    "t"
   ]
  },
  {
   "cell_type": "code",
   "execution_count": 10,
   "metadata": {},
   "outputs": [
    {
     "data": {
      "text/plain": [
       ",5\r\n"
      ]
     },
     "execution_count": 10,
     "metadata": {},
     "output_type": "execute_result"
    },
    {
     "data": {
      "text/plain": [
       ",6\r\n"
      ]
     },
     "execution_count": 10,
     "metadata": {},
     "output_type": "execute_result"
    }
   ],
   "source": [
    "insert[`t; (`Slartibartfast; 134)] / prefix form\n",
    "insert[`t;] (`Slartibartfast; 134) / prefix form, table name projected"
   ]
  },
  {
   "cell_type": "markdown",
   "metadata": {},
   "source": [
    "#### 9.1.2 Bulk Columnar Insert"
   ]
  },
  {
   "cell_type": "code",
   "execution_count": 11,
   "metadata": {},
   "outputs": [
    {
     "data": {
      "text/plain": [
       ",2\r\n"
      ]
     },
     "execution_count": 11,
     "metadata": {},
     "output_type": "execute_result"
    },
    {
     "data": {
      "text/plain": [
       "name       iq \r\n",
       "--------------\r\n",
       "Dent       98 \r\n",
       "Beeblebrox 42 \r\n",
       "Prefect    126\r\n"
      ]
     },
     "execution_count": 11,
     "metadata": {},
     "output_type": "execute_result"
    }
   ],
   "source": [
    "t:([] name:`Dent`Beeblebrox; iq:98 42)\n",
    "`t insert (`Prefect; 126)  / naked single-row insert\n",
    "t"
   ]
  },
  {
   "cell_type": "markdown",
   "metadata": {},
   "source": [
    "How to insert multiple naked records in one go"
   ]
  },
  {
   "cell_type": "code",
   "execution_count": 12,
   "metadata": {},
   "outputs": [],
   "source": [
    "/ `t insert ((`Prefect; 126);(`Slartibartfast; 134))  / naked multiple-row insert NOT WORKING"
   ]
  },
  {
   "cell_type": "markdown",
   "metadata": {},
   "source": [
    "To bulk insert naked field values, you provide a list of columns not a list of rows."
   ]
  },
  {
   "cell_type": "code",
   "execution_count": 13,
   "metadata": {},
   "outputs": [
    {
     "data": {
      "text/plain": [
       "3 4\r\n"
      ]
     },
     "execution_count": 13,
     "metadata": {},
     "output_type": "execute_result"
    },
    {
     "data": {
      "text/plain": [
       "name           iq \r\n",
       "------------------\r\n",
       "Dent           98 \r\n",
       "Beeblebrox     42 \r\n",
       "Prefect        126\r\n",
       "Prefect        126\r\n",
       "Slartibartfast 134\r\n"
      ]
     },
     "execution_count": 13,
     "metadata": {},
     "output_type": "execute_result"
    }
   ],
   "source": [
    "`t insert (`Prefect`Slartibartfast; 126 134)\n",
    "t"
   ]
  },
  {
   "cell_type": "markdown",
   "metadata": {},
   "source": [
    "#### 9.1.3 Insert into Empty Tables"
   ]
  },
  {
   "cell_type": "markdown",
   "metadata": {},
   "source": [
    "Inserting into a table that has been initialized with empty lists of general type causes the result table to take the type of the first record inserted. In particular, an atomic field in the inserted record results in a simple column with its type."
   ]
  },
  {
   "cell_type": "code",
   "execution_count": 14,
   "metadata": {},
   "outputs": [
    {
     "data": {
      "text/plain": [
       ",0\r\n"
      ]
     },
     "execution_count": 14,
     "metadata": {},
     "output_type": "execute_result"
    },
    {
     "data": {
      "text/plain": [
       "c   | t f a\r\n",
       "----| -----\r\n",
       "name| s    \r\n",
       "iq  | j    \r\n"
      ]
     },
     "execution_count": 14,
     "metadata": {},
     "output_type": "execute_result"
    }
   ],
   "source": [
    "t:([] name:(); iq:())\n",
    "`t insert (`Dent;98)\n",
    "meta t"
   ]
  },
  {
   "cell_type": "markdown",
   "metadata": {},
   "source": [
    "It is good practice to type all columns in an empty table. This will ensure that incorrect types are rejected and correct ones accepted."
   ]
  },
  {
   "cell_type": "markdown",
   "metadata": {},
   "source": [
    "It is also possible to insert a list of conforming records (i.e., a table) into a table that does not exist. This is the same as assigning the table to a variable of the specified name."
   ]
  },
  {
   "cell_type": "code",
   "execution_count": 15,
   "metadata": {},
   "outputs": [
    {
     "data": {
      "text/plain": [
       ",0\r\n"
      ]
     },
     "execution_count": 15,
     "metadata": {},
     "output_type": "execute_result"
    },
    {
     "data": {
      "text/plain": [
       "c1 c2\r\n",
       "-----\r\n",
       "a  10\r\n"
      ]
     },
     "execution_count": 15,
     "metadata": {},
     "output_type": "execute_result"
    }
   ],
   "source": [
    "`tnew insert enlist `c1`c2!(`a; 10)\n",
    "tnew"
   ]
  },
  {
   "cell_type": "markdown",
   "metadata": {},
   "source": [
    "#### 9.1.4 Insert and Foreign Keys"
   ]
  },
  {
   "cell_type": "markdown",
   "metadata": {},
   "source": [
    "When inserting data into a table that has foreign key(s), the values destined for the foreign key column(s) are checked to ensure that they appear in the primary key column(s) pointed to by the foreign key(s). This is referential integrity (well, half of it)."
   ]
  },
  {
   "cell_type": "code",
   "execution_count": 16,
   "metadata": {},
   "outputs": [],
   "source": [
    "kt:([eid:1001 1002 1003] name:`Dent`Beeblebrox`Prefect; iq:98 42 126)\n",
    "tdetails:([] eid:`kt$1003 1002 1001 1002 1001; sc:126 36 92 39 98)"
   ]
  },
  {
   "cell_type": "code",
   "execution_count": 17,
   "metadata": {},
   "outputs": [
    {
     "data": {
      "text/plain": [
       ",5\r\n"
      ]
     },
     "execution_count": 17,
     "metadata": {},
     "output_type": "execute_result"
    }
   ],
   "source": [
    "`tdetails insert (1002;42)"
   ]
  },
  {
   "cell_type": "code",
   "execution_count": 18,
   "metadata": {},
   "outputs": [],
   "source": [
    "/ `tdetails insert (1062;82)   FK violation"
   ]
  },
  {
   "cell_type": "markdown",
   "metadata": {},
   "source": [
    "#### 9.1.5 Insert into Keyed Tables"
   ]
  },
  {
   "cell_type": "markdown",
   "metadata": {},
   "source": [
    "You can use insert to append data to a keyed table, but this probably does not have the desired semantics. Specifically, you can insert into a keyed table only if the key value is not already in the table. For this and other reasons, upsert should normally be preferred over insert.\n"
   ]
  },
  {
   "cell_type": "code",
   "execution_count": 19,
   "metadata": {},
   "outputs": [],
   "source": [
    "kt:([eid:1001 1002] name:`Dent`Beeblebrox; iq:98 42)"
   ]
  },
  {
   "cell_type": "code",
   "execution_count": 20,
   "metadata": {},
   "outputs": [
    {
     "data": {
      "text/plain": [
       ",2\r\n"
      ]
     },
     "execution_count": 20,
     "metadata": {},
     "output_type": "execute_result"
    }
   ],
   "source": [
    "`kt insert (1005; `Marvin; 200)"
   ]
  },
  {
   "cell_type": "code",
   "execution_count": 21,
   "metadata": {},
   "outputs": [],
   "source": [
    "/ `kt insert (1005; `Marvin; 200)  - ERROR: duplicate"
   ]
  },
  {
   "cell_type": "markdown",
   "metadata": {},
   "source": [
    "### 9.2 Upsert"
   ]
  },
  {
   "cell_type": "markdown",
   "metadata": {},
   "source": [
    "The upsert template is like insert, only better. "
   ]
  },
  {
   "cell_type": "markdown",
   "metadata": {},
   "source": [
    "#### 9.2.1 Upsert Replacing insert"
   ]
  },
  {
   "cell_type": "code",
   "execution_count": 22,
   "metadata": {},
   "outputs": [
    {
     "data": {
      "text/plain": [
       "`t\r\n"
      ]
     },
     "execution_count": 22,
     "metadata": {},
     "output_type": "execute_result"
    },
    {
     "data": {
      "text/plain": [
       "name           iq \r\n",
       "------------------\r\n",
       "Dent           42 \r\n",
       "Beeblebrox     98 \r\n",
       "Prefect        126\r\n",
       "Slartibartfast 134\r\n"
      ]
     },
     "execution_count": 22,
     "metadata": {},
     "output_type": "execute_result"
    },
    {
     "data": {
      "text/plain": [
       "`t\r\n"
      ]
     },
     "execution_count": 22,
     "metadata": {},
     "output_type": "execute_result"
    },
    {
     "data": {
      "text/plain": [
       "name           iq \r\n",
       "------------------\r\n",
       "Dent           42 \r\n",
       "Beeblebrox     98 \r\n",
       "Prefect        126\r\n",
       "Slartibartfast 134\r\n",
       "Marvin         150\r\n"
      ]
     },
     "execution_count": 22,
     "metadata": {},
     "output_type": "execute_result"
    },
    {
     "data": {
      "text/plain": [
       "`t\r\n"
      ]
     },
     "execution_count": 22,
     "metadata": {},
     "output_type": "execute_result"
    },
    {
     "data": {
      "text/plain": [
       "name           iq \r\n",
       "------------------\r\n",
       "Dent           42 \r\n",
       "Beeblebrox     98 \r\n",
       "Prefect        126\r\n",
       "Slartibartfast 134\r\n",
       "Marvin         150\r\n",
       "Slartibartfast 134\r\n",
       "Marvin         200\r\n"
      ]
     },
     "execution_count": 22,
     "metadata": {},
     "output_type": "execute_result"
    },
    {
     "data": {
      "text/plain": [
       "name       iq \r\n",
       "--------------\r\n",
       "Dent       42 \r\n",
       "Beeblebrox 98 \r\n",
       "Prefect    126\r\n"
      ]
     },
     "execution_count": 22,
     "metadata": {},
     "output_type": "execute_result"
    },
    {
     "data": {
      "text/plain": [
       "`t\r\n"
      ]
     },
     "execution_count": 22,
     "metadata": {},
     "output_type": "execute_result"
    },
    {
     "data": {
      "text/plain": [
       "name           iq \r\n",
       "------------------\r\n",
       "Dent           42 \r\n",
       "Beeblebrox     98 \r\n",
       "Prefect        126\r\n",
       "Slartibartfast 134\r\n"
      ]
     },
     "execution_count": 22,
     "metadata": {},
     "output_type": "execute_result"
    }
   ],
   "source": [
    "t:([] name:`Dent`Beeblebrox`Prefect; iq:42 98 126);\n",
    "`t upsert (`name`iq)!(`Slartibartfast; 134)\n",
    "t\n",
    "`t upsert (`Marvin; 150)\n",
    "t\n",
    "`t upsert ([] name:`Slartibartfast`Marvin; iq:134 200)\n",
    "t\n",
    "t:3#t\n",
    "t\n",
    "upsert[`t; (`Slartibartfast; 134)]\n",
    "t"
   ]
  },
  {
   "cell_type": "markdown",
   "metadata": {},
   "source": [
    "To bulk upsert naked field values, use rows instead of columns. ( for insert we used columns instead of rows)"
   ]
  },
  {
   "cell_type": "code",
   "execution_count": 23,
   "metadata": {},
   "outputs": [
    {
     "data": {
      "text/plain": [
       "name           iq \r\n",
       "------------------\r\n",
       "Dent           42 \r\n",
       "Beeblebrox     98 \r\n",
       "Prefect        126\r\n",
       "Slartibartfast 134\r\n",
       "Prefect        126\r\n",
       "Marvin         200\r\n"
      ]
     },
     "execution_count": 23,
     "metadata": {},
     "output_type": "execute_result"
    }
   ],
   "source": [
    "t upsert ((`Prefect; 126); (`Marvin; 200))"
   ]
  },
  {
   "cell_type": "markdown",
   "metadata": {},
   "source": [
    "#### 9.2.2 Upsert by Name"
   ]
  },
  {
   "cell_type": "markdown",
   "metadata": {},
   "source": [
    "A limitation of insert is that it uses pass-by-name, so it can only operate against global tables. In contrast, upsert supports both pass-by-name and pass-by-value. Thus it can be used with anonymous or local tables."
   ]
  },
  {
   "cell_type": "code",
   "execution_count": 24,
   "metadata": {},
   "outputs": [
    {
     "data": {
      "text/plain": [
       "c1 c2\r\n",
       "-----\r\n",
       "a  10\r\n",
       "b  20\r\n",
       "c  30\r\n"
      ]
     },
     "execution_count": 24,
     "metadata": {},
     "output_type": "execute_result"
    }
   ],
   "source": [
    "([] c1:`a`b; c2:10 20) upsert (`c; 30)"
   ]
  },
  {
   "cell_type": "code",
   "execution_count": 25,
   "metadata": {},
   "outputs": [
    {
     "data": {
      "text/plain": [
       "c1 c2\r\n",
       "-----\r\n",
       "a  10\r\n",
       "b  20\r\n",
       "c  30\r\n"
      ]
     },
     "execution_count": 25,
     "metadata": {},
     "output_type": "execute_result"
    }
   ],
   "source": [
    "f:{t:([] c1:`a`b; c2:10 20); t upsert x}\n",
    "f (`c; 30)"
   ]
  },
  {
   "cell_type": "markdown",
   "metadata": {},
   "source": [
    "#### 9.2.3 Upsert on Keyed Tables"
   ]
  },
  {
   "cell_type": "markdown",
   "metadata": {},
   "source": [
    "We have seen that insert has undesirable semantics on keyed tables – i.e., it rejects “duplicate” keys. What we really want is, well, upsert semantics.\n",
    "This is the second reason to use upsert instead of insert."
   ]
  },
  {
   "cell_type": "code",
   "execution_count": 26,
   "metadata": {},
   "outputs": [
    {
     "data": {
      "text/plain": [
       "eid | name       iq\r\n",
       "----| -------------\r\n",
       "1001| Dent       98\r\n",
       "1002| Beeblebrox 42\r\n"
      ]
     },
     "execution_count": 26,
     "metadata": {},
     "output_type": "execute_result"
    },
    {
     "data": {
      "text/plain": [
       "`kt\r\n"
      ]
     },
     "execution_count": 26,
     "metadata": {},
     "output_type": "execute_result"
    },
    {
     "data": {
      "text/plain": [
       "eid | name       iq\r\n",
       "----| -------------\r\n",
       "1001| Dent       98\r\n",
       "1002| Beeblebrox 42\r\n"
      ]
     },
     "execution_count": 26,
     "metadata": {},
     "output_type": "execute_result"
    },
    {
     "data": {
      "text/plain": [
       "`kt\r\n"
      ]
     },
     "execution_count": 26,
     "metadata": {},
     "output_type": "execute_result"
    },
    {
     "data": {
      "text/plain": [
       "eid | name       iq\r\n",
       "----| -------------\r\n",
       "1001| Dent       98\r\n",
       "1002| Beeblebrox 43\r\n"
      ]
     },
     "execution_count": 26,
     "metadata": {},
     "output_type": "execute_result"
    }
   ],
   "source": [
    "kt:([eid:1001 1002] name:`Dent`Beeblebrox; iq:98 42)\n",
    "kt\n",
    "`kt upsert (1002; `Beeblebrox; 42)\n",
    "kt\n",
    "`kt upsert (1002; `Beeblebrox; 43)\n",
    "kt"
   ]
  },
  {
   "cell_type": "markdown",
   "metadata": {},
   "source": [
    "#### 9.2.4 Upsert on Persisted Tables"
   ]
  },
  {
   "cell_type": "markdown",
   "metadata": {},
   "source": [
    "You can use upsert to append records to serialized and splayed tables. Simply pass the handle of the file or splayed directory as the name of the table. This is the final strike against insert, since it cannot do this."
   ]
  },
  {
   "cell_type": "markdown",
   "metadata": {},
   "source": [
    "**We serialize a table and then append a row to it.**"
   ]
  },
  {
   "cell_type": "code",
   "execution_count": 27,
   "metadata": {},
   "outputs": [
    {
     "data": {
      "text/plain": [
       "`:C:/Dev/kdb_q/notebooks/q_for_mortals/tser\r\n"
      ]
     },
     "execution_count": 27,
     "metadata": {},
     "output_type": "execute_result"
    }
   ],
   "source": [
    "`:C:/Dev/kdb_q/notebooks/q_for_mortals/tser set ([] c1:`a`b; c2:1.1 2.2)"
   ]
  },
  {
   "cell_type": "code",
   "execution_count": 28,
   "metadata": {},
   "outputs": [
    {
     "data": {
      "text/plain": [
       "`:C:/Dev/kdb_q/notebooks/q_for_mortals/tser\r\n"
      ]
     },
     "execution_count": 28,
     "metadata": {},
     "output_type": "execute_result"
    }
   ],
   "source": [
    "`:C:/Dev/kdb_q/notebooks/q_for_mortals/tser upsert (`c; 3.3)\n"
   ]
  },
  {
   "cell_type": "code",
   "execution_count": 29,
   "metadata": {},
   "outputs": [
    {
     "data": {
      "text/plain": [
       "c1 c2 \r\n",
       "------\r\n",
       "a  1.1\r\n",
       "b  2.2\r\n",
       "c  3.3\r\n"
      ]
     },
     "execution_count": 29,
     "metadata": {},
     "output_type": "execute_result"
    }
   ],
   "source": [
    "get `:C:/Dev/kdb_q/notebooks/q_for_mortals/tser"
   ]
  },
  {
   "cell_type": "markdown",
   "metadata": {},
   "source": [
    "Upserting to a serialized table reads the entire table into memory, updates it and writes out the result."
   ]
  },
  {
   "cell_type": "markdown",
   "metadata": {},
   "source": [
    "**Splayed**"
   ]
  },
  {
   "cell_type": "markdown",
   "metadata": {},
   "source": [
    "to be added.."
   ]
  },
  {
   "cell_type": "markdown",
   "metadata": {},
   "source": [
    "### 9.3 The select Template"
   ]
  },
  {
   "cell_type": "markdown",
   "metadata": {},
   "source": [
    "The template is converted by the interpreter into a functional form and is applied against the table to produce a result table.\n",
    "The result of select is always a table."
   ]
  },
  {
   "cell_type": "markdown",
   "metadata": {},
   "source": [
    "#### 9.3.1 Syntax"
   ]
  },
  {
   "cell_type": "markdown",
   "metadata": {},
   "source": [
    "The select template has the following form, where elements enclosed in matching angle brackets <...> are optional.\n",
    "\n",
    "select <ps> <by pb> from texp <where pw>\n",
    "    \n",
    "Each phrase in the select template is a comma-separated list of subphrases. A subphrase is an arbitrary q expression (presumably) involving columns of texp or columns of another table accessed via foreign key. The evaluation of subphrases within a phrase is sequenced left-to-right by the commas, but each subphrase expression is evaluated right-to-left, like any q expression."
   ]
  },
  {
   "cell_type": "markdown",
   "metadata": {},
   "source": [
    "#### 9.3.2 The select Phrase"
   ]
  },
  {
   "cell_type": "code",
   "execution_count": 30,
   "metadata": {},
   "outputs": [],
   "source": [
    "t:([] c1:`a`b`c; c2:10 20 30; c3:1.1 2.2 3.3)"
   ]
  },
  {
   "cell_type": "markdown",
   "metadata": {},
   "source": [
    "- The colon used to specify a name is not assignment; it is simply part of the syntax of the template.\n",
    "\n",
    "- Just as with the use of colon in a variable assignment, the column name is part of the syntactic sugar. It is not a symbol and cannot be parameterized. Use functional form if you need this – see §9.12.\n",
    "\n",
    "- Unlike in SQL, columns in the select phrase do not actually exist until the final result table is returned. Thus a computed column cannot be used in other column expressions."
   ]
  },
  {
   "cell_type": "markdown",
   "metadata": {},
   "source": [
    "A virtual column i represents the offset of each record in the table – i.e., i is the row number. It is implicitly available in the select phrase."
   ]
  },
  {
   "cell_type": "code",
   "execution_count": 31,
   "metadata": {},
   "outputs": [
    {
     "data": {
      "text/plain": [
       "x c1\r\n",
       "----\r\n",
       "0 a \r\n",
       "1 b \r\n",
       "2 c \r\n"
      ]
     },
     "execution_count": 31,
     "metadata": {},
     "output_type": "execute_result"
    }
   ],
   "source": [
    "select i, c1 from t"
   ]
  },
  {
   "cell_type": "code",
   "execution_count": 32,
   "metadata": {},
   "outputs": [
    {
     "data": {
      "text/plain": [
       "c1 c2\r\n",
       "-----\r\n",
       "a  10\r\n",
       "b  20\r\n"
      ]
     },
     "execution_count": 32,
     "metadata": {},
     "output_type": "execute_result"
    }
   ],
   "source": [
    "select distinct from ([] c1:`a`b`a; c2:10 20 10) / removed duplicates"
   ]
  },
  {
   "cell_type": "markdown",
   "metadata": {},
   "source": [
    "#### 9.3.2.4 select[]"
   ]
  },
  {
   "cell_type": "markdown",
   "metadata": {},
   "source": [
    "You can return the first or last n records in a select by using function parameter syntax after select. A positive integer parameter returns the first records, a negative parameter the last."
   ]
  },
  {
   "cell_type": "code",
   "execution_count": null,
   "metadata": {},
   "outputs": [],
   "source": [
    "\\l C:/Dev/kdb_q/notebooks/q_for_mortals/sp.q"
   ]
  },
  {
   "cell_type": "code",
   "execution_count": 34,
   "metadata": {},
   "outputs": [
    {
     "data": {
      "text/plain": [
       "s | name  status city  \r\n",
       "--| -------------------\r\n",
       "s1| smith 20     london\r\n",
       "s2| jones 10     paris \r\n"
      ]
     },
     "execution_count": 34,
     "metadata": {},
     "output_type": "execute_result"
    },
    {
     "data": {
      "text/plain": [
       "s | name  status city  \r\n",
       "--| -------------------\r\n",
       "s1| smith 20     london\r\n",
       "s2| jones 10     paris \r\n"
      ]
     },
     "execution_count": 34,
     "metadata": {},
     "output_type": "execute_result"
    }
   ],
   "source": [
    "select[2] from s where city<>`athens\n",
    "2#select from s where city<>`athens"
   ]
  },
  {
   "cell_type": "code",
   "execution_count": 35,
   "metadata": {},
   "outputs": [
    {
     "data": {
      "text/plain": [
       "s | name  status city  \r\n",
       "--| -------------------\r\n",
       "s4| clark 20     london\r\n"
      ]
     },
     "execution_count": 35,
     "metadata": {},
     "output_type": "execute_result"
    },
    {
     "data": {
      "text/plain": [
       "s | name  status city  \r\n",
       "--| -------------------\r\n",
       "s4| clark 20     london\r\n"
      ]
     },
     "execution_count": 35,
     "metadata": {},
     "output_type": "execute_result"
    }
   ],
   "source": [
    "select[-1] from s where city<>`athens\n",
    "-1#select from s where city<>`athens"
   ]
  },
  {
   "cell_type": "markdown",
   "metadata": {},
   "source": [
    "The difference is that the # construct requires computing the entire result set and then keeping only the desired rows, whereas select[n] only extracts the desired number of rows. The latter will be faster and consume less memory for large tables."
   ]
  },
  {
   "cell_type": "markdown",
   "metadata": {},
   "source": [
    "This syntax is extended to select[n m] where m is the starting row number and n is the number of rows."
   ]
  },
  {
   "cell_type": "code",
   "execution_count": 36,
   "metadata": {},
   "outputs": [
    {
     "data": {
      "text/plain": [
       "s | name  status city  \r\n",
       "--| -------------------\r\n",
       "s3| blake 30     paris \r\n",
       "s4| clark 20     london\r\n"
      ]
     },
     "execution_count": 36,
     "metadata": {},
     "output_type": "execute_result"
    }
   ],
   "source": [
    "select[2 2] from s where city<>`athens"
   ]
  },
  {
   "cell_type": "markdown",
   "metadata": {},
   "source": [
    "One final extension of the syntax specifies a sorting criterion inside the brackets. For ascending sort, place < before a column name and for descending sort use `>."
   ]
  },
  {
   "cell_type": "code",
   "execution_count": 37,
   "metadata": {},
   "outputs": [
    {
     "data": {
      "text/plain": [
       "s | name  status city  \r\n",
       "--| -------------------\r\n",
       "s1| smith 20     london\r\n",
       "s2| jones 10     paris \r\n",
       "s4| clark 20     london\r\n",
       "s3| blake 30     paris \r\n"
      ]
     },
     "execution_count": 37,
     "metadata": {},
     "output_type": "execute_result"
    }
   ],
   "source": [
    "select[>name] from s where city<>`athens"
   ]
  },
  {
   "cell_type": "markdown",
   "metadata": {},
   "source": [
    "You can combine the two syntax extensions by separating them with a semicolon."
   ]
  },
  {
   "cell_type": "code",
   "execution_count": 38,
   "metadata": {},
   "outputs": [
    {
     "data": {
      "text/plain": [
       "s | name  status city  \r\n",
       "--| -------------------\r\n",
       "s1| smith 20     london\r\n",
       "s2| jones 10     paris \r\n"
      ]
     },
     "execution_count": 38,
     "metadata": {},
     "output_type": "execute_result"
    }
   ],
   "source": [
    "select[2; >name] from s where city<>`athens"
   ]
  },
  {
   "cell_type": "markdown",
   "metadata": {},
   "source": [
    "#### 9.3.3 Filtering with where"
   ]
  },
  {
   "cell_type": "markdown",
   "metadata": {},
   "source": [
    "Recall that a table is logically a list of records."
   ]
  },
  {
   "cell_type": "code",
   "execution_count": 39,
   "metadata": {},
   "outputs": [],
   "source": [
    "t:([] c1:`a`b`c; c2:10 20 30; c3:1.1 2.2 3.3)"
   ]
  },
  {
   "cell_type": "code",
   "execution_count": 40,
   "metadata": {},
   "outputs": [
    {
     "data": {
      "text/plain": [
       "c1 c2 c3 \r\n",
       "---------\r\n",
       "b  20 2.2\r\n",
       "c  30 3.3\r\n"
      ]
     },
     "execution_count": 40,
     "metadata": {},
     "output_type": "execute_result"
    },
    {
     "data": {
      "text/plain": [
       "c1 c2 c3 \r\n",
       "---------\r\n",
       "b  20 2.2\r\n",
       "c  30 3.3\r\n"
      ]
     },
     "execution_count": 40,
     "metadata": {},
     "output_type": "execute_result"
    }
   ],
   "source": [
    "t where t[`c2]>15\n",
    "select from t where c2>15"
   ]
  },
  {
   "cell_type": "markdown",
   "metadata": {},
   "source": [
    "#### 9.3.3.2 The Virtual Column i in where ( pagination )"
   ]
  },
  {
   "cell_type": "markdown",
   "metadata": {},
   "source": [
    "The virtual column i is useful for **paginating** a table. Use within, which returns a boolean indicating whether the left operand is in the closed interval specified in the right operand, to determine the bounds of the page."
   ]
  },
  {
   "cell_type": "code",
   "execution_count": 41,
   "metadata": {},
   "outputs": [
    {
     "data": {
      "text/plain": [
       "c1 c2 c3 \r\n",
       "---------\r\n",
       "a  10 1.1\r\n",
       "b  20 2.2\r\n",
       "c  30 3.3\r\n",
       "a  10 1.1\r\n",
       "b  20 2.2\r\n",
       "c  30 3.3\r\n",
       "a  10 1.1\r\n",
       "b  20 2.2\r\n",
       "c  30 3.3\r\n",
       "a  10 1.1\r\n",
       "b  20 2.2\r\n",
       "c  30 3.3\r\n",
       "a  10 1.1\r\n",
       "b  20 2.2\r\n",
       "c  30 3.3\r\n",
       "a  10 1.1\r\n",
       "b  20 2.2\r\n",
       "c  30 3.3\r\n",
       "a  10 1.1\r\n",
       "b  20 2.2\r\n",
       "..\r\n"
      ]
     },
     "execution_count": 41,
     "metadata": {},
     "output_type": "execute_result"
    }
   ],
   "source": [
    "tbig:100#t\n",
    "tbig"
   ]
  },
  {
   "cell_type": "code",
   "execution_count": 42,
   "metadata": {},
   "outputs": [
    {
     "data": {
      "text/plain": [
       "c1 c2 c3 \r\n",
       "---------\r\n",
       "c  30 3.3\r\n",
       "a  10 1.1\r\n",
       "b  20 2.2\r\n",
       "c  30 3.3\r\n",
       "a  10 1.1\r\n",
       "b  20 2.2\r\n",
       "c  30 3.3\r\n",
       "a  10 1.1\r\n",
       "b  20 2.2\r\n",
       "c  30 3.3\r\n",
       "a  10 1.1\r\n",
       "b  20 2.2\r\n",
       "c  30 3.3\r\n",
       "a  10 1.1\r\n",
       "b  20 2.2\r\n",
       "c  30 3.3\r\n",
       "a  10 1.1\r\n",
       "b  20 2.2\r\n",
       "c  30 3.3\r\n",
       "a  10 1.1\r\n",
       "..\r\n"
      ]
     },
     "execution_count": 42,
     "metadata": {},
     "output_type": "execute_result"
    }
   ],
   "source": [
    "select from tbig where i within 50 99"
   ]
  },
  {
   "cell_type": "markdown",
   "metadata": {},
   "source": [
    "#### 9.3.3.3 Multiple where Subphrases"
   ]
  },
  {
   "cell_type": "code",
   "execution_count": 43,
   "metadata": {},
   "outputs": [
    {
     "data": {
      "text/plain": [
       "1b\r\n"
      ]
     },
     "execution_count": 43,
     "metadata": {},
     "output_type": "execute_result"
    }
   ],
   "source": [
    "r1:select from t where c2>15,c3<3.0\n",
    "r2:select from t where (c2>15)&c3<3.0 / Note that the parentheses are necessary in the second query.\n",
    "r1~r2"
   ]
  },
  {
   "cell_type": "markdown",
   "metadata": {},
   "source": [
    "However, since the where subphrases are sequenced from left-to-right, their order affects the actual processing. As each subphrase is applied, only the records it passes are tested in the next subphrase. The net effect is a progressively narrowed sublist of rows to consider. There is often an optimal order that significantly narrows in the first one or few subphrases, which in turn reduces the amount of processing.\n",
    "\n",
    "Tip\n",
    "\n",
    "**Place the most limiting where subphrase first, followed by others in decreasing strictness.**"
   ]
  },
  {
   "cell_type": "markdown",
   "metadata": {},
   "source": [
    "**Comparing string column**"
   ]
  },
  {
   "cell_type": "code",
   "execution_count": 44,
   "metadata": {},
   "outputs": [],
   "source": [
    "t:([] f:1.1 2.2 3.3; s:(\"abc\";enlist \"d\";\"ef\"))"
   ]
  },
  {
   "cell_type": "code",
   "execution_count": 45,
   "metadata": {},
   "outputs": [
    {
     "data": {
      "text/plain": [
       "1b\r\n"
      ]
     },
     "execution_count": 45,
     "metadata": {},
     "output_type": "execute_result"
    }
   ],
   "source": [
    "\"ef\"~\"ef\""
   ]
  },
  {
   "cell_type": "code",
   "execution_count": 46,
   "metadata": {},
   "outputs": [
    {
     "data": {
      "text/plain": [
       "f   s   \r\n",
       "--------\r\n",
       "3.3 \"ef\"\r\n"
      ]
     },
     "execution_count": 46,
     "metadata": {},
     "output_type": "execute_result"
    },
    {
     "data": {
      "text/plain": [
       "f   s   \r\n",
       "--------\r\n",
       "3.3 \"ef\"\r\n"
      ]
     },
     "execution_count": 46,
     "metadata": {},
     "output_type": "execute_result"
    }
   ],
   "source": [
    "select from t where s~\\:\"ef\" / each-left works\n",
    "select from t where s like \"ef\" / fastest"
   ]
  },
  {
   "cell_type": "markdown",
   "metadata": {},
   "source": [
    "#### 9.3.3.5 fby in where"
   ]
  },
  {
   "cell_type": "markdown",
   "metadata": {},
   "source": [
    "In SQL you would use HAVING, but q is having none of that. Instead use fby in the where phrase. Since it returns the value of the aggregate across each group, you simply compare the target column to the fby result to get a boolean vector with 1b at precisely the records whose fields match the aggregate on the group.\n",
    "\n",
    "Used in a where phrase, fby takes the form\n",
    "\n",
    "(fagg;exprcol) fby c\n",
    "\n",
    "The left operand is a two-item list comprising an aggregate function fagg and a column expression exprcol on which the function will be applied. The right operand c is the column to be grouped."
   ]
  },
  {
   "cell_type": "code",
   "execution_count": 47,
   "metadata": {},
   "outputs": [
    {
     "data": {
      "text/plain": [
       "p | name  color weight city  \r\n",
       "--| -------------------------\r\n",
       "p2| bolt  green 17     paris \r\n",
       "p3| screw blue  17     rome  \r\n",
       "p6| cog   red   19     london\r\n"
      ]
     },
     "execution_count": 47,
     "metadata": {},
     "output_type": "execute_result"
    }
   ],
   "source": [
    "select from p where weight=(max;weight) fby city"
   ]
  },
  {
   "cell_type": "code",
   "execution_count": 48,
   "metadata": {},
   "outputs": [
    {
     "data": {
      "text/plain": [
       "p | name  color weight city\r\n",
       "--| -----------------------\r\n",
       "p3| screw blue  17     rome\r\n"
      ]
     },
     "execution_count": 48,
     "metadata": {},
     "output_type": "execute_result"
    }
   ],
   "source": [
    "select from p where weight=(max;weight) fby city,color=`blue"
   ]
  },
  {
   "cell_type": "markdown",
   "metadata": {},
   "source": [
    "grouping on multiple columns -  encapsulate them in an anonymous table in the right operand of fby."
   ]
  },
  {
   "cell_type": "code",
   "execution_count": 49,
   "metadata": {},
   "outputs": [
    {
     "data": {
      "text/plain": [
       "sym  ex time     price\r\n",
       "----------------------\r\n",
       "IBM  N  12:10:00 82.1 \r\n",
       "IBM  O  12:30:00 81.95\r\n",
       "MSFT N  12:45:00 23.45\r\n"
      ]
     },
     "execution_count": 49,
     "metadata": {},
     "output_type": "execute_result"
    }
   ],
   "source": [
    "t:([]sym:`IBM`IBM`MSFT`IBM`MSFT;\n",
    "    ex:`N`O`N`N`N;\n",
    "    time:12:10:00 12:30:00 12:45:00 12:50:00 13:30:00;\n",
    "    price:82.1 81.95 23.45 82.05 23.40)\n",
    "select from t where price=(max;price) fby ([]sym;ex)"
   ]
  },
  {
   "cell_type": "markdown",
   "metadata": {},
   "source": [
    "#### 9.3.4 Grouping and Aggregation"
   ]
  },
  {
   "cell_type": "markdown",
   "metadata": {},
   "source": [
    "In contrast to SQL, where grouping and aggregation are performed together, in q-sql they are independent. "
   ]
  },
  {
   "cell_type": "markdown",
   "metadata": {},
   "source": [
    "#### 9.3.4.1 Aggregation without Grouping"
   ]
  },
  {
   "cell_type": "markdown",
   "metadata": {},
   "source": [
    "When an aggregate function is applied against a column of simple type in the select phrase, the result is an atom. If all columns in the select phrase are computed with aggregation and there is no grouping, the result will be a table with a single row – e.g., a summary or rollup. While q has many built-in aggregates, you can also define and use your own."
   ]
  },
  {
   "cell_type": "code",
   "execution_count": 50,
   "metadata": {},
   "outputs": [
    {
     "data": {
      "text/plain": [
       "total mean    \r\n",
       "--------------\r\n",
       "3100  258.3333\r\n"
      ]
     },
     "execution_count": 50,
     "metadata": {},
     "output_type": "execute_result"
    }
   ],
   "source": [
    "select total:sum qty, mean:avg qty from sp / no grouping"
   ]
  },
  {
   "cell_type": "code",
   "execution_count": 51,
   "metadata": {},
   "outputs": [
    {
     "data": {
      "text/plain": [
       "total qty                                            \r\n",
       "-----------------------------------------------------\r\n",
       "3100  300 200 400 200 100 100 300 400 200 200 300 400\r\n"
      ]
     },
     "execution_count": 51,
     "metadata": {},
     "output_type": "execute_result"
    }
   ],
   "source": [
    "select total:sum qty, qty from sp / no grouping"
   ]
  },
  {
   "cell_type": "markdown",
   "metadata": {},
   "source": [
    "#### 9.3.4.2 Grouping without Aggregation"
   ]
  },
  {
   "cell_type": "markdown",
   "metadata": {},
   "source": [
    "- The by phrase groups rows having common values in specified column(s), much like GROUP BY in SQL. \n",
    "\n",
    "- The result of a query including a by phrase is a keyed table whose key column(s) are those in the by phrase. This is well-defined because the grouping along like values ensures uniqueness of the keys.\n",
    "\n",
    "- A query that groups without aggregation results in nested columns. One way to think of this is that each group of values is folded into a single field in the result."
   ]
  },
  {
   "cell_type": "code",
   "execution_count": 52,
   "metadata": {},
   "outputs": [],
   "source": [
    "t:([] c1:`a`b`a`b`c; c2:10 20 30 40 50)"
   ]
  },
  {
   "cell_type": "code",
   "execution_count": 53,
   "metadata": {},
   "outputs": [
    {
     "data": {
      "text/plain": [
       "a| 10 30\r\n",
       "b| 20 40\r\n",
       "c| ,50\r\n"
      ]
     },
     "execution_count": 53,
     "metadata": {},
     "output_type": "execute_result"
    },
    {
     "data": {
      "text/plain": [
       "c1| c2   \r\n",
       "--| -----\r\n",
       "a | 10 30\r\n",
       "b | 20 40\r\n",
       "c | ,50  \r\n"
      ]
     },
     "execution_count": 53,
     "metadata": {},
     "output_type": "execute_result"
    }
   ],
   "source": [
    "t[`c2] group t[`c1]\n",
    "select c2 by c1 from t"
   ]
  },
  {
   "cell_type": "markdown",
   "metadata": {},
   "source": [
    "Observe that **ungroup** can be used to reverse the nested result of grouping without aggregation. It is not quite an inverse since it returns the original records ordered on the by column(s)."
   ]
  },
  {
   "cell_type": "code",
   "execution_count": 54,
   "metadata": {},
   "outputs": [
    {
     "data": {
      "text/plain": [
       "c1 c2\r\n",
       "-----\r\n",
       "a  10\r\n",
       "a  30\r\n",
       "b  20\r\n",
       "b  40\r\n",
       "c  50\r\n"
      ]
     },
     "execution_count": 54,
     "metadata": {},
     "output_type": "execute_result"
    }
   ],
   "source": [
    "ungroup  select c2 by c1 from t"
   ]
  },
  {
   "cell_type": "markdown",
   "metadata": {},
   "source": [
    "There are use cases that group on specified column(s) and want all the remaining columns to be nested in the result. "
   ]
  },
  {
   "cell_type": "code",
   "execution_count": 55,
   "metadata": {},
   "outputs": [
    {
     "data": {
      "text/plain": [
       "p | s               qty            \r\n",
       "--| -------------------------------\r\n",
       "p1| `s$`s1`s2       300 300        \r\n",
       "p2| `s$`s1`s2`s3`s4 200 400 200 200\r\n",
       "p3| `s$,`s1         ,400           \r\n",
       "p4| `s$`s1`s4       200 300        \r\n",
       "p5| `s$`s4`s4       100 400        \r\n",
       "p6| `s$,`s1         ,100           \r\n"
      ]
     },
     "execution_count": 55,
     "metadata": {},
     "output_type": "execute_result"
    },
    {
     "data": {
      "text/plain": [
       "p | s               qty            \r\n",
       "--| -------------------------------\r\n",
       "p1| `s$`s1`s2       300 300        \r\n",
       "p2| `s$`s1`s2`s3`s4 200 400 200 200\r\n",
       "p3| `s$,`s1         ,400           \r\n",
       "p4| `s$`s1`s4       200 300        \r\n",
       "p5| `s$`s4`s4       100 400        \r\n",
       "p6| `s$,`s1         ,100           \r\n"
      ]
     },
     "execution_count": 55,
     "metadata": {},
     "output_type": "execute_result"
    },
    {
     "data": {
      "text/plain": [
       "1b\r\n"
      ]
     },
     "execution_count": 55,
     "metadata": {},
     "output_type": "execute_result"
    }
   ],
   "source": [
    "p1:`p xgroup sp\n",
    "p1\n",
    "p2:select s,qty by p from sp\n",
    "p2\n",
    "p1~p2"
   ]
  },
  {
   "cell_type": "code",
   "execution_count": 56,
   "metadata": {},
   "outputs": [
    {
     "data": {
      "text/plain": [
       "p | s               qty            \r\n",
       "--| -------------------------------\r\n",
       "p1| `s$`s1`s2       300 300        \r\n",
       "p2| `s$`s1`s2`s3`s4 200 400 200 200\r\n",
       "p3| `s$,`s1         ,400           \r\n",
       "p4| `s$`s1`s4       200 300        \r\n",
       "p5| `s$`s4`s4       100 400        \r\n",
       "p6| `s$,`s1         ,100           \r\n"
      ]
     },
     "execution_count": 56,
     "metadata": {},
     "output_type": "execute_result"
    }
   ],
   "source": [
    "select s,qty by p from sp"
   ]
  },
  {
   "cell_type": "markdown",
   "metadata": {},
   "source": [
    "#### 9.3.4.3 Grouping with Aggregation"
   ]
  },
  {
   "cell_type": "code",
   "execution_count": 57,
   "metadata": {},
   "outputs": [
    {
     "data": {
      "text/plain": [
       "desk acct| ct pnl \r\n",
       "---------| -------\r\n",
       "a    1   | 2  6.6 \r\n",
       "a    3   | 1  3.3 \r\n",
       "b    2   | 1  -2.2\r\n",
       "b    4   | 2  3.9 \r\n"
      ]
     },
     "execution_count": 57,
     "metadata": {},
     "output_type": "execute_result"
    }
   ],
   "source": [
    "t:([] desk:`a`b`a`b`a`b; acct:`1`2`3`4`1`4; pnl:1.1 -2.2 3.3 4.4 5.5 -.5)\n",
    "select ct:count desk, sum pnl by desk,acct from t\n"
   ]
  },
  {
   "cell_type": "markdown",
   "metadata": {},
   "source": [
    "In contrast to SQL, every column in the by phrase is automatically included in the key column(s) of the result and should not be duplicated in the select phrase."
   ]
  },
  {
   "cell_type": "markdown",
   "metadata": {},
   "source": [
    "A by subphrase can be a q expression, meaning that you can group on computed columns. This is very powerful and is not present in SQL. Following is a useful example that averages the observations of our time series in 100 millisecond buckets."
   ]
  },
  {
   "cell_type": "code",
   "execution_count": 58,
   "metadata": {},
   "outputs": [
    {
     "data": {
      "text/plain": [
       "c1           c2| c3      \r\n",
       "---------------| --------\r\n",
       "00:00:00.000 a | 55.26494\r\n",
       "00:00:00.000 b | 41.81758\r\n",
       "00:00:00.100 a | 48.88826\r\n",
       "00:00:00.100 b | 46.10946\r\n",
       "00:00:00.200 a | 53.72272\r\n",
       "00:00:00.200 b | 51.42873\r\n",
       "00:00:00.300 a | 54.53996\r\n",
       "00:00:00.300 b | 49.50472\r\n",
       "00:00:00.400 a | 51.95785\r\n",
       "00:00:00.400 b | 53.63795\r\n",
       "00:00:00.500 a | 55.24681\r\n",
       "00:00:00.500 b | 58.08108\r\n",
       "00:00:00.600 a | 40.27698\r\n",
       "00:00:00.600 b | 53.36846\r\n",
       "00:00:00.700 a | 46.88679\r\n",
       "00:00:00.700 b | 50.91821\r\n",
       "00:00:00.800 a | 54.62589\r\n",
       "00:00:00.800 b | 58.76686\r\n",
       "00:00:00.900 a | 53.28107\r\n",
       "00:00:00.900 b | 48.06001\r\n",
       "..\r\n"
      ]
     },
     "execution_count": 58,
     "metadata": {},
     "output_type": "execute_result"
    }
   ],
   "source": [
    "t:([] c1:00:00:00.000+til 1000000;c2:1000000?`a`b;c3:1000000?100.)\n",
    "select avg c3 by 100 xbar c1, c2 from t"
   ]
  },
  {
   "cell_type": "code",
   "execution_count": 59,
   "metadata": {},
   "outputs": [
    {
     "data": {
      "text/plain": [
       "p | s  qty\r\n",
       "--| ------\r\n",
       "p1| s2 300\r\n",
       "p2| s4 200\r\n",
       "p3| s1 400\r\n",
       "p4| s4 300\r\n",
       "p5| s4 400\r\n",
       "p6| s1 100\r\n"
      ]
     },
     "execution_count": 59,
     "metadata": {},
     "output_type": "execute_result"
    }
   ],
   "source": [
    "select  by p from sp / equivalent of applying last to all columns"
   ]
  },
  {
   "cell_type": "markdown",
   "metadata": {},
   "source": [
    "### 9.4 The exec Template"
   ]
  },
  {
   "cell_type": "markdown",
   "metadata": {},
   "source": [
    "The syntax of the exec template is identical to that of select.\n",
    "\n",
    "exec <ps> <by pb> from texp <where pw>\n",
    "\n",
    "Whereas select always returns a table, the result type of exec depends on the number of columns in its select phrase. One column yields a list; more than one column yields a dictionary.\n",
    "\n",
    "When more than one column is specified the select phrase, the result is a dictionary mapping column names to the column lists produced. "
   ]
  },
  {
   "cell_type": "code",
   "execution_count": 60,
   "metadata": {},
   "outputs": [],
   "source": [
    "t:([] name:`a`b`c`d`e; state:`NY`FL`OH`NY`HI)"
   ]
  },
  {
   "cell_type": "code",
   "execution_count": 61,
   "metadata": {},
   "outputs": [],
   "source": [
    "/ select name, distinct state from t  / error"
   ]
  },
  {
   "cell_type": "code",
   "execution_count": 62,
   "metadata": {},
   "outputs": [
    {
     "data": {
      "text/plain": [
       "name | `a`b`c`d`e\r\n",
       "state| `NY`FL`OH`HI\r\n"
      ]
     },
     "execution_count": 62,
     "metadata": {},
     "output_type": "execute_result"
    }
   ],
   "source": [
    "exec name, distinct state from t"
   ]
  },
  {
   "cell_type": "code",
   "execution_count": 63,
   "metadata": {},
   "outputs": [
    {
     "data": {
      "text/plain": [
       "name\r\n",
       "----\r\n",
       "a   \r\n",
       "b   \r\n",
       "c   \r\n",
       "d   \r\n",
       "e   \r\n"
      ]
     },
     "execution_count": 63,
     "metadata": {},
     "output_type": "execute_result"
    },
    {
     "data": {
      "text/plain": [
       "`a`b`c`d`e\r\n"
      ]
     },
     "execution_count": 63,
     "metadata": {},
     "output_type": "execute_result"
    }
   ],
   "source": [
    "select name from t\n",
    "exec name from  t / retruns list"
   ]
  },
  {
   "cell_type": "markdown",
   "metadata": {},
   "source": [
    "### 9.5 The update Template"
   ]
  },
  {
   "cell_type": "markdown",
   "metadata": {},
   "source": [
    "#### 9.5.1 Basic update"
   ]
  },
  {
   "cell_type": "markdown",
   "metadata": {},
   "source": [
    "The update template has identical syntax to select.\n",
    "\n",
    "update <pu> <by pb> from texp <where pw>"
   ]
  },
  {
   "cell_type": "code",
   "execution_count": 64,
   "metadata": {},
   "outputs": [
    {
     "data": {
      "text/plain": [
       "c1 c2\r\n",
       "-----\r\n",
       "a  10\r\n",
       "b  20\r\n",
       "c  30\r\n"
      ]
     },
     "execution_count": 64,
     "metadata": {},
     "output_type": "execute_result"
    },
    {
     "data": {
      "text/plain": [
       "`t\r\n"
      ]
     },
     "execution_count": 64,
     "metadata": {},
     "output_type": "execute_result"
    },
    {
     "data": {
      "text/plain": [
       "c1 c2\r\n",
       "-----\r\n",
       "x  10\r\n",
       "y  20\r\n",
       "z  30\r\n"
      ]
     },
     "execution_count": 64,
     "metadata": {},
     "output_type": "execute_result"
    },
    {
     "data": {
      "text/plain": [
       "`t\r\n"
      ]
     },
     "execution_count": 64,
     "metadata": {},
     "output_type": "execute_result"
    },
    {
     "data": {
      "text/plain": [
       "c1 c2 c3\r\n",
       "--------\r\n",
       "x  10 x \r\n",
       "y  20 y \r\n",
       "z  30 z \r\n"
      ]
     },
     "execution_count": 64,
     "metadata": {},
     "output_type": "execute_result"
    }
   ],
   "source": [
    "t:([] c1:`a`b`c; c2:10 20 30)\n",
    "t\n",
    "update c1:`x`y`z from `t\n",
    "t\n",
    "update c3:`x`y`z from `t\n",
    "t"
   ]
  },
  {
   "cell_type": "markdown",
   "metadata": {},
   "source": [
    "#### 9.5.2 update-by"
   ]
  },
  {
   "cell_type": "markdown",
   "metadata": {},
   "source": [
    "When the by phrase is present, the update operation is performed along groups. This is most useful with aggregate and uniform functions. For an aggregate function, the entire group gets the value of the aggregation on the group."
   ]
  },
  {
   "cell_type": "code",
   "execution_count": 65,
   "metadata": {},
   "outputs": [
    {
     "data": {
      "text/plain": [
       "p | name  color weight city  \r\n",
       "--| -------------------------\r\n",
       "p1| nut   red   15     london\r\n",
       "p2| bolt  green 14.5   paris \r\n",
       "p3| screw blue  17     rome  \r\n",
       "p4| screw red   15     london\r\n",
       "p5| cam   blue  14.5   paris \r\n",
       "p6| cog   red   15     london\r\n"
      ]
     },
     "execution_count": 65,
     "metadata": {},
     "output_type": "execute_result"
    }
   ],
   "source": [
    "update avg weight by city from p"
   ]
  },
  {
   "cell_type": "markdown",
   "metadata": {},
   "source": [
    "A uniform function is applied along the group in place. This can be used to compute cumulative volume of orders, or rank, for example."
   ]
  },
  {
   "cell_type": "code",
   "execution_count": 66,
   "metadata": {},
   "outputs": [
    {
     "data": {
      "text/plain": [
       "s  p  qty cumqty\r\n",
       "----------------\r\n",
       "s1 p1 300 300   \r\n",
       "s1 p2 200 500   \r\n",
       "s1 p3 400 900   \r\n",
       "s1 p4 200 1100  \r\n",
       "s4 p5 100 100   \r\n",
       "s1 p6 100 1200  \r\n",
       "s2 p1 300 300   \r\n",
       "s2 p2 400 700   \r\n",
       "s3 p2 200 200   \r\n",
       "s4 p2 200 300   \r\n",
       "s4 p4 300 600   \r\n",
       "s4 p5 400 1000  \r\n"
      ]
     },
     "execution_count": 66,
     "metadata": {},
     "output_type": "execute_result"
    }
   ],
   "source": [
    "update cumqty:sums qty by s from sp"
   ]
  },
  {
   "cell_type": "markdown",
   "metadata": {},
   "source": [
    "### 9.6 The delete Template"
   ]
  },
  {
   "cell_type": "markdown",
   "metadata": {},
   "source": [
    "**delete**, allows either rows or columns to be deleted. Its syntax is a simplified form of select, with the restriction that **either pcols or pw can be present but not both**.\n",
    "\n",
    "**delete pcols from texp where pw**"
   ]
  },
  {
   "cell_type": "code",
   "execution_count": 67,
   "metadata": {},
   "outputs": [
    {
     "data": {
      "text/plain": [
       "c2\r\n",
       "--\r\n",
       "10\r\n",
       "20\r\n",
       "30\r\n"
      ]
     },
     "execution_count": 67,
     "metadata": {},
     "output_type": "execute_result"
    },
    {
     "data": {
      "text/plain": [
       "c1 c2\r\n",
       "-----\r\n",
       "a  10\r\n"
      ]
     },
     "execution_count": 67,
     "metadata": {},
     "output_type": "execute_result"
    }
   ],
   "source": [
    "t:([] c1:`a`b`c; c2:10 20 30)\n",
    "delete c1 from t\n",
    "delete from t where c2>15"
   ]
  },
  {
   "cell_type": "markdown",
   "metadata": {},
   "source": [
    "**Tip**. When you want to select all but a few columns, it is easier to delete the ones you don’t want than list all the ones you do."
   ]
  },
  {
   "cell_type": "code",
   "execution_count": 68,
   "metadata": {},
   "outputs": [
    {
     "data": {
      "text/plain": [
       "1b\r\n"
      ]
     },
     "execution_count": 68,
     "metadata": {},
     "output_type": "execute_result"
    }
   ],
   "source": [
    "t:([] c1:1 2; c2:`a`b; c3:1.1 2.2; c4:2015.01.01 2015.01.02)\n",
    "(select c1, c2, c4 from t)~delete c3 from t"
   ]
  },
  {
   "cell_type": "markdown",
   "metadata": {},
   "source": [
    "### 9.7 Sorting"
   ]
  },
  {
   "cell_type": "markdown",
   "metadata": {},
   "source": [
    "Recall that tables and keyed tables comprise lists of records and therefore have an inherent order. A table or keyed table can be reordered by sorting on any column(s). In contrast to SQL, there is no equivalent to ORDER BY in the select template. Instead, built-in functions that sort tables are applied after select."
   ]
  },
  {
   "cell_type": "markdown",
   "metadata": {},
   "source": [
    "#### 9.7.1 xasc"
   ]
  },
  {
   "cell_type": "code",
   "execution_count": 69,
   "metadata": {},
   "outputs": [
    {
     "data": {
      "text/plain": [
       "c1 c2\r\n",
       "-----\r\n",
       "a  20\r\n",
       "a  30\r\n",
       "b  10\r\n",
       "c  40\r\n"
      ]
     },
     "execution_count": 69,
     "metadata": {},
     "output_type": "execute_result"
    },
    {
     "data": {
      "text/plain": [
       "c1 c2\r\n",
       "-----\r\n",
       "a  20\r\n",
       "b  10\r\n",
       "c  40\r\n",
       "a  30\r\n"
      ]
     },
     "execution_count": 69,
     "metadata": {},
     "output_type": "execute_result"
    },
    {
     "data": {
      "text/plain": [
       "`t\r\n"
      ]
     },
     "execution_count": 69,
     "metadata": {},
     "output_type": "execute_result"
    },
    {
     "data": {
      "text/plain": [
       "c1 c2\r\n",
       "-----\r\n",
       "a  20\r\n",
       "a  30\r\n",
       "b  10\r\n",
       "c  40\r\n"
      ]
     },
     "execution_count": 69,
     "metadata": {},
     "output_type": "execute_result"
    }
   ],
   "source": [
    "t:([] c1:`a`b`c`a; c2:20 10 40 30)\n",
    "`c1`c2 xasc t / sort copy\n",
    "t\n",
    "`c1`c2 xasc `t / sort in-place\n",
    "t"
   ]
  },
  {
   "cell_type": "markdown",
   "metadata": {},
   "source": [
    "The dyadic **xdesc** behaves exactly as xasc, except that the sort is performed in descending order."
   ]
  },
  {
   "cell_type": "markdown",
   "metadata": {},
   "source": [
    "#### 9.7.3 Mixed Sort"
   ]
  },
  {
   "cell_type": "markdown",
   "metadata": {},
   "source": [
    "We point out that xasc and xdesc are stable sorts, meaning that the order of two records having the same sort key value is preserved in the result. This makes it possible to compose ascending and descending sort to obtain mixed sorts. For example, to sort c2 descending within c1 ascending in t above,"
   ]
  },
  {
   "cell_type": "code",
   "execution_count": 70,
   "metadata": {},
   "outputs": [
    {
     "data": {
      "text/plain": [
       "c1 c2\r\n",
       "-----\r\n",
       "a  30\r\n",
       "a  20\r\n",
       "b  10\r\n",
       "c  40\r\n"
      ]
     },
     "execution_count": 70,
     "metadata": {},
     "output_type": "execute_result"
    }
   ],
   "source": [
    "`c1 xasc `c2 xdesc t"
   ]
  },
  {
   "cell_type": "markdown",
   "metadata": {},
   "source": [
    "### 9.8 Renaming and Rearranging Columns"
   ]
  },
  {
   "cell_type": "code",
   "execution_count": 71,
   "metadata": {},
   "outputs": [],
   "source": [
    "t:([] c1:`a`b`c; c2:10 20 30; c3:1.1 2.2 3.3)"
   ]
  },
  {
   "cell_type": "markdown",
   "metadata": {},
   "source": [
    "#### 9.8.1 xcol"
   ]
  },
  {
   "cell_type": "code",
   "execution_count": 72,
   "metadata": {},
   "outputs": [
    {
     "data": {
      "text/plain": [
       "new1 new2 c3 \r\n",
       "-------------\r\n",
       "a    10   1.1\r\n",
       "b    20   2.2\r\n",
       "c    30   3.3\r\n"
      ]
     },
     "execution_count": 72,
     "metadata": {},
     "output_type": "execute_result"
    },
    {
     "data": {
      "text/plain": [
       "c1 c2 c3 \r\n",
       "---------\r\n",
       "a  10 1.1\r\n",
       "b  20 2.2\r\n",
       "c  30 3.3\r\n"
      ]
     },
     "execution_count": 72,
     "metadata": {},
     "output_type": "execute_result"
    }
   ],
   "source": [
    "`new1`new2 xcol t   / renames left-most columns\n",
    "t"
   ]
  },
  {
   "cell_type": "markdown",
   "metadata": {},
   "source": [
    "You can use constructs such as the following to rename isolated columns if your table has many columns and the targeted columns area not left-most."
   ]
  },
  {
   "cell_type": "code",
   "execution_count": 73,
   "metadata": {},
   "outputs": [
    {
     "data": {
      "text/plain": [
       "c1 new2 c3 \r\n",
       "-----------\r\n",
       "a  10   1.1\r\n",
       "b  20   2.2\r\n",
       "c  30   3.3\r\n"
      ]
     },
     "execution_count": 73,
     "metadata": {},
     "output_type": "execute_result"
    }
   ],
   "source": [
    "@[cols[t]; where cols[t]=`c2; :; `new2] xcol t"
   ]
  },
  {
   "cell_type": "code",
   "execution_count": 74,
   "metadata": {},
   "outputs": [
    {
     "data": {
      "text/plain": [
       "new1 c2 new3\r\n",
       "------------\r\n",
       "a    10 1.1 \r\n",
       "b    20 2.2 \r\n",
       "c    30 3.3 \r\n"
      ]
     },
     "execution_count": 74,
     "metadata": {},
     "output_type": "execute_result"
    }
   ],
   "source": [
    "@[cols[t]; where cols[t] in `c1`c3; :; `new1`new3] xcol t"
   ]
  },
  {
   "cell_type": "markdown",
   "metadata": {},
   "source": [
    "#### 9.8.2 xcols"
   ]
  },
  {
   "cell_type": "markdown",
   "metadata": {},
   "source": [
    "rearranges columns. Those which are left operand become first, others order is unchanged."
   ]
  },
  {
   "cell_type": "code",
   "execution_count": 75,
   "metadata": {},
   "outputs": [
    {
     "data": {
      "text/plain": [
       "c1 c2 c3 \r\n",
       "---------\r\n",
       "a  10 1.1\r\n",
       "b  20 2.2\r\n",
       "c  30 3.3\r\n"
      ]
     },
     "execution_count": 75,
     "metadata": {},
     "output_type": "execute_result"
    }
   ],
   "source": [
    "t\n"
   ]
  },
  {
   "cell_type": "code",
   "execution_count": 76,
   "metadata": {},
   "outputs": [
    {
     "data": {
      "text/plain": [
       "c3  c1 c2\r\n",
       "---------\r\n",
       "1.1 a  10\r\n",
       "2.2 b  20\r\n",
       "3.3 c  30\r\n"
      ]
     },
     "execution_count": 76,
     "metadata": {},
     "output_type": "execute_result"
    }
   ],
   "source": [
    "`c3 xcols t"
   ]
  },
  {
   "cell_type": "code",
   "execution_count": 77,
   "metadata": {},
   "outputs": [
    {
     "data": {
      "text/plain": [
       "c3  c2 c1\r\n",
       "---------\r\n",
       "1.1 10 a \r\n",
       "2.2 20 b \r\n",
       "3.3 30 c \r\n"
      ]
     },
     "execution_count": 77,
     "metadata": {},
     "output_type": "execute_result"
    }
   ],
   "source": [
    "`c3`c2 xcols t"
   ]
  },
  {
   "cell_type": "markdown",
   "metadata": {},
   "source": [
    "### 9.9 Joins"
   ]
  },
  {
   "cell_type": "markdown",
   "metadata": {},
   "source": [
    "Joins can also be classified by how key matching is determined. \n",
    "- Most joins are **equijoins**, meaning that the keys must be equal. \n",
    "- In q there are also non-equijoins, called **as of joins**, in which a key is tested for less-than-or-equal against keys in another table."
   ]
  },
  {
   "cell_type": "markdown",
   "metadata": {},
   "source": [
    "#### 9.9.1 Implicit Join"
   ]
  },
  {
   "cell_type": "markdown",
   "metadata": {},
   "source": [
    "Given a primary key table m with key column(s) k and a table d with a foreign key linking to k.\n",
    "A foreign key in q is accomplished with an enumeration over the key column(s) of a keyed table. \n",
    "\n",
    "**A left join is implicit in the following query on the detail table.**\n",
    "\n",
    "select cold, k.colm from d"
   ]
  },
  {
   "cell_type": "code",
   "execution_count": 78,
   "metadata": {},
   "outputs": [
    {
     "data": {
      "text/plain": [
       "sname pname qty\r\n",
       "---------------\r\n",
       "smith nut   300\r\n",
       "smith bolt  200\r\n",
       "smith screw 400\r\n",
       "smith screw 200\r\n",
       "clark cam   100\r\n",
       "smith cog   100\r\n",
       "jones nut   300\r\n",
       "jones bolt  400\r\n",
       "blake bolt  200\r\n",
       "clark bolt  200\r\n",
       "clark screw 300\r\n",
       "clark cam   400\r\n"
      ]
     },
     "execution_count": 78,
     "metadata": {},
     "output_type": "execute_result"
    }
   ],
   "source": [
    "select sname:s.name, pname:p.name, qty from sp"
   ]
  },
  {
   "cell_type": "markdown",
   "metadata": {},
   "source": [
    "Implicit joins extend to the situation in which the targeted keyed table itself has a foreign key to another keyed table."
   ]
  },
  {
   "cell_type": "code",
   "execution_count": 85,
   "metadata": {},
   "outputs": [
    {
     "data": {
      "text/plain": [
       "`s\r\n"
      ]
     },
     "execution_count": 85,
     "metadata": {},
     "output_type": "execute_result"
    },
    {
     "data": {
      "text/plain": [
       "name  qty currency\r\n",
       "------------------\r\n",
       "smith 300 gbp     \r\n",
       "smith 200 gbp     \r\n",
       "smith 400 gbp     \r\n",
       "smith 200 gbp     \r\n",
       "clark 100 gbp     \r\n",
       "smith 100 gbp     \r\n",
       "jones 300 eur     \r\n",
       "jones 400 eur     \r\n",
       "blake 200 eur     \r\n",
       "clark 200 gbp     \r\n",
       "clark 300 gbp     \r\n",
       "clark 400 gbp     \r\n"
      ]
     },
     "execution_count": 85,
     "metadata": {},
     "output_type": "execute_result"
    }
   ],
   "source": [
    "emaster:([eid:1001 1002 1003 1004 1005] currency:`gbp`eur`eur`gbp`eur)\n",
    "update eid:`emaster$1001 1002 1005 1004 1003 from `s\n",
    "select s.name, qty, s.eid.currency from sp"
   ]
  },
  {
   "cell_type": "markdown",
   "metadata": {},
   "source": [
    "#### 9.9.2 Ad hoc Left Join (lj)"
   ]
  },
  {
   "cell_type": "markdown",
   "metadata": {},
   "source": [
    "- The right operand is a **keyed table (target)** and \n",
    "- the left operand is a table or keyed table (source) having either a foreign key to target or column(s) that match the key column(s) of target in name and type. \n",
    "\n",
    "- Observe that when the source table has a foreign key, an ad-hoc left join is equivalent to listing all columns from both tables in an implicit join.\n",
    "\n",
    "- When the tables source and target have duplicate non-key columns, the operation has upsert semantics.\n",
    "That is, the values in the right operand (target) columns prevail over those in the left operand (source). This is different from SQL where the result contains both columns with suffixes to ensure unique names."
   ]
  },
  {
   "cell_type": "code",
   "execution_count": 153,
   "metadata": {},
   "outputs": [
    {
     "data": {
      "text/plain": [
       "k c  d   v  \r\n",
       "------------\r\n",
       "1 10 210    \r\n",
       "2 20 21  200\r\n",
       "3 30 22  300\r\n",
       "4 40 23  400\r\n"
      ]
     },
     "execution_count": 153,
     "metadata": {},
     "output_type": "execute_result"
    }
   ],
   "source": [
    "t:([] k:1 2 3 4; c:10 20 30 40; d:210 220 230 240 )\n",
    "kt:([k:2 3 4 5 3]; v:200 300 400 500 600; d:21 22 23 24 25) / match will happen only on first record where k=3. Second will be ignored\n",
    "t lj kt"
   ]
  },
  {
   "cell_type": "code",
   "execution_count": 154,
   "metadata": {},
   "outputs": [
    {
     "data": {
      "text/plain": [
       "k c  d   v  \r\n",
       "------------\r\n",
       "1 10 210    \r\n",
       "2 20 21  200\r\n",
       "3 30 22  300\r\n",
       "3 30 25  600\r\n",
       "4 40 23  400\r\n"
      ]
     },
     "execution_count": 154,
     "metadata": {},
     "output_type": "execute_result"
    }
   ],
   "source": [
    "(select from (t lj kt) where null v) uj ungroup t ij `k xgroup kt"
   ]
  },
  {
   "cell_type": "markdown",
   "metadata": {},
   "source": [
    "#### 9.9.3 Column Lookup"
   ]
  },
  {
   "cell_type": "markdown",
   "metadata": {},
   "source": [
    "You can perform a column lookup against a keyed table within a query without using a join. The insight is that a keyed table is a dictionary whose key list comprises its key records, so it will perform the lookup provided we put the column in an anonymous table conforming to those key records – see §8.4.5. Here we demonstrate the case where the lookup column names do not natively match the key columns, so we rename columns to match in the anonymous table."
   ]
  },
  {
   "cell_type": "code",
   "execution_count": 80,
   "metadata": {},
   "outputs": [],
   "source": [
    "t:([] k:1 2 3 4; c:10 20 30 40)\n",
    "kt:([k1:2 3 4 5]; v:2.2 3.3 4.4 5.5)\n"
   ]
  },
  {
   "cell_type": "code",
   "execution_count": 81,
   "metadata": {},
   "outputs": [
    {
     "data": {
      "text/plain": [
       "0n 2.2 3.3 4.4\r\n"
      ]
     },
     "execution_count": 81,
     "metadata": {},
     "output_type": "execute_result"
    }
   ],
   "source": [
    "kt[([] k1:t[`k]); `v]  / returns column v of kt for keys in t['k]"
   ]
  },
  {
   "cell_type": "code",
   "execution_count": 82,
   "metadata": {},
   "outputs": [
    {
     "data": {
      "text/plain": [
       "c  v  \r\n",
       "------\r\n",
       "10    \r\n",
       "20 2.2\r\n",
       "30 3.3\r\n",
       "40 4.4\r\n"
      ]
     },
     "execution_count": 82,
     "metadata": {},
     "output_type": "execute_result"
    }
   ],
   "source": [
    "select c, v:kt[([] k1:k); `v] from t"
   ]
  },
  {
   "cell_type": "markdown",
   "metadata": {},
   "source": [
    "Especially for a single column, this is simpler (and more impressive to your colleagues) than the equivalent join."
   ]
  },
  {
   "cell_type": "code",
   "execution_count": 83,
   "metadata": {},
   "outputs": [
    {
     "data": {
      "text/plain": [
       "c  v  \r\n",
       "------\r\n",
       "10    \r\n",
       "20 2.2\r\n",
       "30 3.3\r\n",
       "40 4.4\r\n"
      ]
     },
     "execution_count": 83,
     "metadata": {},
     "output_type": "execute_result"
    }
   ],
   "source": [
    "select c,v from t lj `k xkey select k:k1,v from kt"
   ]
  },
  {
   "cell_type": "markdown",
   "metadata": {},
   "source": [
    "#### 9.9.4 Ad Hoc Inner Join (ij)"
   ]
  },
  {
   "cell_type": "markdown",
   "metadata": {},
   "source": [
    "The dyadic inner-join operator ij performs an inner join between two tables that could have a foreign key relationship.\n",
    "\n",
    "As with lj, the right operand is a keyed table (target) and the left operand is a table or keyed table (source) having column(s) that are either foreign key(s) over target or exactly match the key column(s) of target in name and type. The matching is done via the foreign key or by common column name(s) between source and the key column(s) of target if there is no foreign-key relationship. The result contains the columns from source and target joined along common keys.\n",
    "\n",
    "As with lj, upsert semantics holds for duplicate columns.\n",
    "\n",
    "Works for keyed tables as well.\n"
   ]
  },
  {
   "cell_type": "code",
   "execution_count": 105,
   "metadata": {},
   "outputs": [
    {
     "data": {
      "text/plain": [
       "k c  v  \r\n",
       "--------\r\n",
       "2 20 2.2\r\n",
       "3 30 3.3\r\n",
       "4 40 4.4\r\n"
      ]
     },
     "execution_count": 105,
     "metadata": {},
     "output_type": "execute_result"
    }
   ],
   "source": [
    "t:([] k:1 2 3 4; c:10 20 30 40)\n",
    "kt:([k:2 3 4 5 2]; v:2.2 3.3 4.4 5.5 6.6)\n",
    "t ij kt   / returns only first match from lookup table"
   ]
  },
  {
   "cell_type": "markdown",
   "metadata": {},
   "source": [
    "#### 9.9.5 Equijoin ej"
   ]
  },
  {
   "cell_type": "markdown",
   "metadata": {},
   "source": [
    "The triadic equijoin operator ej corresponds to a SQL inner join between tables in the second and third parameters along specified column names in the first parameter. The right operand does not have to be a keyed table. Unlike ij, all matching records in the right table appear in the result. As with any join, upsert semantics holds on duplicate columns."
   ]
  },
  {
   "cell_type": "code",
   "execution_count": 86,
   "metadata": {},
   "outputs": [
    {
     "data": {
      "text/plain": [
       "k c   v  \r\n",
       "---------\r\n",
       "2 200 2.2\r\n",
       "3 300 3.3\r\n",
       "4 400 4.4\r\n"
      ]
     },
     "execution_count": 86,
     "metadata": {},
     "output_type": "execute_result"
    }
   ],
   "source": [
    "t1:([] k:1 2 3 4; c:10 20 30 40)\n",
    "t2:([] k:2 2 3 4 5; c:200 222 300 400 500; v:2.2 22.22 3.3 4.4 5.5)\n",
    "t1 ij `k xkey t2    / inner join - only 1 matching record from right table"
   ]
  },
  {
   "cell_type": "code",
   "execution_count": 87,
   "metadata": {},
   "outputs": [
    {
     "data": {
      "text/plain": [
       "k c   v    \r\n",
       "-----------\r\n",
       "2 200 2.2  \r\n",
       "2 222 22.22\r\n",
       "3 300 3.3  \r\n",
       "4 400 4.4  \r\n"
      ]
     },
     "execution_count": 87,
     "metadata": {},
     "output_type": "execute_result"
    }
   ],
   "source": [
    "ej[`k;t1;t2] / equijoin - all matching records from right table"
   ]
  },
  {
   "cell_type": "markdown",
   "metadata": {},
   "source": [
    "#### 9.9.6 Plus Join (pj)"
   ]
  },
  {
   "cell_type": "markdown",
   "metadata": {},
   "source": [
    "Plus join pj is a left join that replaces upsert semantics for duplicate column names with addition. This is useful when you have two tables with identical schemas having all non-key columns numeric. For example, you have an organizational hierarchy and you want to roll up numeric results.\n",
    "\n",
    "The operands of pj are the same as for lj with the additional requirement that all non-key columns are numeric. The semantics are that duplicate columns are added along matching keys and missing or null values are treated as zero."
   ]
  },
  {
   "cell_type": "code",
   "execution_count": 89,
   "metadata": {},
   "outputs": [
    {
     "data": {
      "text/plain": [
       "k a   b    c\r\n",
       "------------\r\n",
       "a 110 11.1 1\r\n",
       "b 220 22.2 2\r\n",
       "c 300 30   3\r\n"
      ]
     },
     "execution_count": 89,
     "metadata": {},
     "output_type": "execute_result"
    }
   ],
   "source": [
    "t:([] k:`a`b`c; a:100 200 300; b:10. 20. 30.; c:1 2 3)\n",
    "kt:([k:`a`b] a:10 20; b:1.1 2.2)\n",
    "t pj kt"
   ]
  },
  {
   "cell_type": "markdown",
   "metadata": {},
   "source": [
    "#### 9.9.7 Union Join"
   ]
  },
  {
   "cell_type": "markdown",
   "metadata": {},
   "source": [
    "The equivalent of an ordinary SQL union on tables with matching schemas is simply ,. Indeed, it joins two lists of compatible records."
   ]
  },
  {
   "cell_type": "code",
   "execution_count": 115,
   "metadata": {},
   "outputs": [
    {
     "data": {
      "text/plain": [
       "c1 c2\r\n",
       "-----\r\n",
       "a  1 \r\n",
       "b  2 \r\n",
       "c  3 \r\n",
       "d  4 \r\n"
      ]
     },
     "execution_count": 115,
     "metadata": {},
     "output_type": "execute_result"
    }
   ],
   "source": [
    "t1:([] c1:`a`b; c2:1 2)\n",
    "t2:([] c1:`c`d; c2:3 4)\n",
    "t1,t2"
   ]
  },
  {
   "cell_type": "markdown",
   "metadata": {},
   "source": [
    "Union join deals with different schemas - adds columns.\n",
    "Upsert for keyed tables"
   ]
  },
  {
   "cell_type": "code",
   "execution_count": 116,
   "metadata": {},
   "outputs": [
    {
     "data": {
      "text/plain": [
       "c1 c2 c3 \r\n",
       "---------\r\n",
       "a  10    \r\n",
       "b  20    \r\n",
       "c  30    \r\n",
       "x     8.8\r\n",
       "y     9.9\r\n"
      ]
     },
     "execution_count": 116,
     "metadata": {},
     "output_type": "execute_result"
    }
   ],
   "source": [
    "t1:([] c1:`a`b`c; c2: 10 20 30)\n",
    "t2:([] c1:`x`y; c3:8.8 9.9)\n",
    "t1 uj t2"
   ]
  },
  {
   "cell_type": "code",
   "execution_count": 117,
   "metadata": {},
   "outputs": [
    {
     "data": {
      "text/plain": [
       "c1 c2 c3 \r\n",
       "---------\r\n",
       "a  10    \r\n",
       "b  20    \r\n",
       "c  30    \r\n",
       "x     8.8\r\n",
       "y     9.9\r\n",
       "e  50 5.5\r\n",
       "f  60 6.6\r\n",
       "g  70 7.7\r\n"
      ]
     },
     "execution_count": 117,
     "metadata": {},
     "output_type": "execute_result"
    }
   ],
   "source": [
    "t3:([] c1:`e`f`g; c2:50 60 70; c3:5.5 6.6 7.7)\n",
    "(uj/) (t1; t2; t3)"
   ]
  },
  {
   "cell_type": "markdown",
   "metadata": {},
   "source": [
    "#### 9.9.8 As-of Joins"
   ]
  },
  {
   "cell_type": "markdown",
   "metadata": {},
   "source": [
    "As-of joins are so-named because they most often join tables along time columns to obtain a value in one table that is current as of a time in another table. As-of joins are non-equijoins that match on less-than-or-equal. They are not restricted to time values."
   ]
  },
  {
   "cell_type": "markdown",
   "metadata": {},
   "source": [
    "The fundamental as-of join is the triadic function aj. It joins tables along common columns using most recent values. The syntax of aj is,\n",
    "\n",
    "aj[`c1...`cn;t1;t2]\n",
    "\n",
    "where `c1...`cn is a simple list of symbol column names common to t1 and t2, which are the tables to be joined. There is no requirement for any of the join columns to be keys but the join will be faster on keys. The columns of both tables are brought into the result.\n",
    "\n",
    "The semantics of aj are as follows. The match on all specified columns except the last is by equals. Assuming the records are sequenced by cn in both tables, for a given cn value in t1, the match picks the greatest cn in t2 less than or equal to the given value in t1. Specifically, if the cn columns are sequenced temporal values, for each cn value in t1 the match picks the t2 row whose cn value is in effect “as of” the time in t1."
   ]
  },
  {
   "cell_type": "markdown",
   "metadata": {},
   "source": [
    "The canonical example for aj is matching trades with quotes. To know if a trade represents best execution, you want to compare the trade price to the current quote – i.e., the most recent quote up to and including the time of the trade. When matching the trades and quotes, you clearly want an equi-join on the date and symbol and a non-equijoin on the time."
   ]
  },
  {
   "cell_type": "code",
   "execution_count": 118,
   "metadata": {},
   "outputs": [
    {
     "name": "stdout",
     "output_type": "stream",
     "text": [
      "ti       sym  qty\r\n",
      "-----------------\r\n",
      "10:01:01 msft 100\r\n",
      "10:01:03 ibm  200\r\n",
      "10:01:04 ge   150\r\n",
      "ti       sym  px \r\n",
      "-----------------\r\n",
      "10:01:00 ibm  100\r\n",
      "10:01:01 msft 99 \r\n",
      "10:01:01 msft 101\r\n",
      "10:01:02 ibm  98 \r\n"
     ]
    }
   ],
   "source": [
    "show t:([] ti:10:01:01 10:01:03 10:01:04;sym:`msft`ibm`ge;qty:100 200 150)\n",
    "show q:([] ti:10:01:00 10:01:01 10:01:01 10:01:02;sym:`ibm`msft`msft`ibm;px:100 99 101 98)"
   ]
  },
  {
   "cell_type": "code",
   "execution_count": 119,
   "metadata": {},
   "outputs": [
    {
     "data": {
      "text/plain": [
       "ti       sym  qty px \r\n",
       "---------------------\r\n",
       "10:01:01 msft 100 101\r\n",
       "10:01:03 ibm  200 98 \r\n",
       "10:01:04 ge   150    \r\n"
      ]
     },
     "execution_count": 119,
     "metadata": {},
     "output_type": "execute_result"
    }
   ],
   "source": [
    "aj[`sym`ti;t;q]"
   ]
  },
  {
   "cell_type": "markdown",
   "metadata": {},
   "source": [
    "If you want the time of the matching quote in the result instead of the time of the trade, use **aj0**"
   ]
  },
  {
   "cell_type": "code",
   "execution_count": 120,
   "metadata": {},
   "outputs": [
    {
     "data": {
      "text/plain": [
       "ti       sym  qty px \r\n",
       "---------------------\r\n",
       "10:01:01 msft 100 101\r\n",
       "10:01:02 ibm  200 98 \r\n",
       "10:01:04 ge   150    \r\n"
      ]
     },
     "execution_count": 120,
     "metadata": {},
     "output_type": "execute_result"
    }
   ],
   "source": [
    "aj0[`sym`ti;t;q]"
   ]
  },
  {
   "cell_type": "markdown",
   "metadata": {},
   "source": [
    "The simpler function **asof** performs the same match as aj but with a table against a single record. The result picks out the remaining columns in the matched row of the table."
   ]
  },
  {
   "cell_type": "code",
   "execution_count": 122,
   "metadata": {},
   "outputs": [
    {
     "data": {
      "text/plain": [
       "qty| 200\r\n",
       "px | 160\r\n"
      ]
     },
     "execution_count": 122,
     "metadata": {},
     "output_type": "execute_result"
    }
   ],
   "source": [
    "t:([] ti:10:01:01 10:01:03 10:01:04; sym:`msft`ibm`ge; qty:100 200 150; px:45 160 55)\n",
    "t asof `sym`ti!(`ibm;10:01:03)"
   ]
  },
  {
   "cell_type": "markdown",
   "metadata": {},
   "source": [
    "A list of such dictionary records conforms – i.e., is a table – and asof matches against each record."
   ]
  },
  {
   "cell_type": "code",
   "execution_count": 123,
   "metadata": {},
   "outputs": [
    {
     "data": {
      "text/plain": [
       "qty px \r\n",
       "-------\r\n",
       "100 45 \r\n",
       "200 160\r\n"
      ]
     },
     "execution_count": 123,
     "metadata": {},
     "output_type": "execute_result"
    }
   ],
   "source": [
    "t asof ([] sym:`msft`ibm; ti:10:01:01 10:01:03)"
   ]
  },
  {
   "cell_type": "markdown",
   "metadata": {},
   "source": [
    "An as-of join will determine the state “as of” any point in time."
   ]
  },
  {
   "cell_type": "markdown",
   "metadata": {},
   "source": [
    "#### 9.9.9 Window Join"
   ]
  },
  {
   "cell_type": "markdown",
   "metadata": {},
   "source": [
    "Window joins are a generalization of as-of joins and are specifically geared for analyzing the relationship between trades and quotes in finance. The idea is that you want to investigate the behavior of quotes in a neighborhood of each trade. For example, to determine how well a trade was executed, you need to examine the range of bid and ask prices that were prevalent around the trade time."
   ]
  },
  {
   "cell_type": "code",
   "execution_count": 127,
   "metadata": {},
   "outputs": [
    {
     "name": "stdout",
     "output_type": "stream",
     "text": [
      "sym  time     price\r\n",
      "-------------------\r\n",
      "aapl 09:30:01 100  \r\n",
      "aapl 09:30:04 103  \r\n",
      "aapl 09:30:08 101  \r\n"
     ]
    }
   ],
   "source": [
    "show t:([]sym:3#`aapl;time:09:30:01 09:30:04 09:30:08;price:100 103 101)\n"
   ]
  },
  {
   "cell_type": "code",
   "execution_count": 126,
   "metadata": {},
   "outputs": [
    {
     "name": "stdout",
     "output_type": "stream",
     "text": [
      "sym  time     ask bid\r\n",
      "---------------------\r\n",
      "aapl 09:30:01 101 98 \r\n",
      "aapl 09:30:02 103 99 \r\n",
      "aapl 09:30:03 103 102\r\n",
      "aapl 09:30:04 104 103\r\n",
      "aapl 09:30:05 104 103\r\n",
      "aapl 09:30:08 103 100\r\n",
      "aapl 09:30:09 102 100\r\n",
      "aapl 09:30:10 100 99 \r\n"
     ]
    }
   ],
   "source": [
    "show q:([] sym:8#`aapl;\n",
    "    time:09:30:01+(til 5),7 8 9;\n",
    "    ask:101 103 103 104 104 103 102 100;\n",
    "    bid:98 99 102 103 103 100 100 99)"
   ]
  },
  {
   "cell_type": "code",
   "execution_count": 133,
   "metadata": {},
   "outputs": [
    {
     "data": {
      "text/plain": [
       "09:29:59 09:30:02 09:30:06\r\n",
       "09:30:02 09:30:05 09:30:09\r\n"
      ]
     },
     "execution_count": 133,
     "metadata": {},
     "output_type": "execute_result"
    }
   ],
   "source": [
    "w:-2 1+\\:t `time / each-left for each (-2, 1)\n",
    "w"
   ]
  },
  {
   "cell_type": "markdown",
   "metadata": {},
   "source": [
    "To see all the values in each window, pass the identity function :: in place of the aggregates. The result is similar to grouping without aggregate in a query and is helpful to see what is happening within each window."
   ]
  },
  {
   "cell_type": "code",
   "execution_count": 137,
   "metadata": {},
   "outputs": [
    {
     "data": {
      "text/plain": [
       "sym  time     price ask             bid           \r\n",
       "--------------------------------------------------\r\n",
       "aapl 09:30:01 100   101 103         98 99         \r\n",
       "aapl 09:30:04 103   103 103 104 104 99 102 103 103\r\n",
       "aapl 09:30:08 101   104 103 102     103 100 100   \r\n"
      ]
     },
     "execution_count": 137,
     "metadata": {},
     "output_type": "execute_result"
    },
    {
     "data": {
      "text/plain": [
       "sym  time     price ask bid\r\n",
       "---------------------------\r\n",
       "aapl 09:30:01 100   103 98 \r\n",
       "aapl 09:30:04 103   104 99 \r\n",
       "aapl 09:30:08 101   104 100\r\n"
      ]
     },
     "execution_count": 137,
     "metadata": {},
     "output_type": "execute_result"
    }
   ],
   "source": [
    "wj[w;`sym`time;t;(q;(::;`ask);(::;`bid))]\n",
    "wj[w;`sym`time;t;(q;(max;`ask);(min;`bid))]"
   ]
  },
  {
   "cell_type": "markdown",
   "metadata": {},
   "source": [
    "**wj** includes quotes that arrive within window [] + quote which was prevailing on entry to the window\n",
    "\n",
    "**wj1** includes quotes that arrive only within window []"
   ]
  },
  {
   "cell_type": "code",
   "execution_count": 138,
   "metadata": {},
   "outputs": [
    {
     "data": {
      "text/plain": [
       "sym  time     price ask             bid           \r\n",
       "--------------------------------------------------\r\n",
       "aapl 09:30:01 100   101 103         98 99         \r\n",
       "aapl 09:30:04 103   103 103 104 104 99 102 103 103\r\n",
       "aapl 09:30:08 101   103 102         100 100       \r\n"
      ]
     },
     "execution_count": 138,
     "metadata": {},
     "output_type": "execute_result"
    }
   ],
   "source": [
    "wj1[w;`sym`time;t;(q;(::;`ask);(::;`bid))]"
   ]
  },
  {
   "cell_type": "markdown",
   "metadata": {},
   "source": [
    "### 9.10 Parameterized Queries"
   ]
  },
  {
   "cell_type": "markdown",
   "metadata": {},
   "source": [
    "Parameterized queries with templates have restrictions:\n",
    "\n",
    "- A column cannot be passed as a parameter since columns are part of the syntactic sugar of the template. They only become symbols under the covers.\n",
    "\n",
    "- Multiple parameters cannot be implicit – i.e., they must be declared explicitly. Although this seems to work for a single parameter, we recommend making all parameters explicit."
   ]
  },
  {
   "cell_type": "code",
   "execution_count": 139,
   "metadata": {},
   "outputs": [],
   "source": [
    "t:([] c1:`a`b`c; c2:10 20 30; c3:1.1 2.2 3.3)"
   ]
  },
  {
   "cell_type": "code",
   "execution_count": 140,
   "metadata": {},
   "outputs": [
    {
     "data": {
      "text/plain": [
       "c1 c2 c3 \r\n",
       "---------\r\n",
       "b  20 2.2\r\n",
       "c  30 3.3\r\n"
      ]
     },
     "execution_count": 140,
     "metadata": {},
     "output_type": "execute_result"
    }
   ],
   "source": [
    "select from t where c2>15"
   ]
  },
  {
   "cell_type": "code",
   "execution_count": 142,
   "metadata": {},
   "outputs": [
    {
     "data": {
      "text/plain": [
       "c1 c2 c3 \r\n",
       "---------\r\n",
       "b  20 2.2\r\n",
       "c  30 3.3\r\n"
      ]
     },
     "execution_count": 142,
     "metadata": {},
     "output_type": "execute_result"
    }
   ],
   "source": [
    "proc:{[sc] select from t where c2>sc}\n",
    "proc 15\n"
   ]
  },
  {
   "cell_type": "code",
   "execution_count": 144,
   "metadata": {},
   "outputs": [
    {
     "data": {
      "text/plain": [
       "c1 c2 c3 \r\n",
       "---------\r\n",
       "c  30 3.3\r\n"
      ]
     },
     "execution_count": 144,
     "metadata": {},
     "output_type": "execute_result"
    }
   ],
   "source": [
    "proc2:{[nms;sc] select from t where c1 in nms, c2>sc}\n",
    "proc2[`a`c; 15]"
   ]
  },
  {
   "cell_type": "markdown",
   "metadata": {},
   "source": [
    "- You can pass a table as a parameter to a template, either by value of by name."
   ]
  },
  {
   "cell_type": "markdown",
   "metadata": {},
   "source": [
    "You can effectively parameterize column names in two ways, only one of which is good practice. \n",
    "- First, you can mimic a common technique from SQL in which the **query is created dynamically**: build the query text in a string and then invoke the interpreter programmatically using **value**. This is comparatively slow. Worse, it exposes your application to injection attacks, since any q expression that appears inside the text will be executed.\n",
    "\n",
    "- The preferred method is to **use the functional form for queries** – see §9.12 – which is fast and secure. In functional form, all columns are referred to by symbolic name, so column names can be passed as symbols. In fact, any component of a query can be passed as an argument in functional form."
   ]
  },
  {
   "cell_type": "markdown",
   "metadata": {},
   "source": [
    "### 9.11 Views"
   ]
  },
  {
   "cell_type": "markdown",
   "metadata": {},
   "source": [
    "A q-sql view is a named table expression created as an alias with the double-colon operator **::**. It is common to use the templates in views but this is not a limitation.\n",
    "\n",
    "In the following example, contrast u, which is a q variable that is assigned the result of a query, to the view (alias) v that is the query expression itself."
   ]
  },
  {
   "cell_type": "code",
   "execution_count": 146,
   "metadata": {},
   "outputs": [
    {
     "data": {
      "text/plain": [
       "c1 c2\r\n",
       "-----\r\n",
       "b  20\r\n",
       "c  30\r\n"
      ]
     },
     "execution_count": 146,
     "metadata": {},
     "output_type": "execute_result"
    },
    {
     "data": {
      "text/plain": [
       "c1 c2\r\n",
       "-----\r\n",
       "b  20\r\n",
       "c  30\r\n"
      ]
     },
     "execution_count": 146,
     "metadata": {},
     "output_type": "execute_result"
    }
   ],
   "source": [
    "t:([] c1:`a`b`c; c2:10 20 30)\n",
    "u:select from t where c2>15\n",
    "v::select from t where c2>15\n",
    "u\n",
    "v"
   ]
  },
  {
   "cell_type": "code",
   "execution_count": 148,
   "metadata": {},
   "outputs": [
    {
     "data": {
      "text/plain": [
       "`t\r\n"
      ]
     },
     "execution_count": 148,
     "metadata": {},
     "output_type": "execute_result"
    },
    {
     "data": {
      "text/plain": [
       "c1 c2\r\n",
       "-----\r\n",
       "a  10\r\n",
       "b  15\r\n",
       "c  30\r\n"
      ]
     },
     "execution_count": 148,
     "metadata": {},
     "output_type": "execute_result"
    },
    {
     "data": {
      "text/plain": [
       "c1 c2\r\n",
       "-----\r\n",
       "b  20\r\n",
       "c  30\r\n"
      ]
     },
     "execution_count": 148,
     "metadata": {},
     "output_type": "execute_result"
    },
    {
     "data": {
      "text/plain": [
       "c1 c2\r\n",
       "-----\r\n",
       "c  30\r\n"
      ]
     },
     "execution_count": 148,
     "metadata": {},
     "output_type": "execute_result"
    }
   ],
   "source": [
    "update c2:15 from `t where c1=`b\n",
    "t\n",
    "u   / unchanged\n",
    "v   / changed as underlying table data has changed\n"
   ]
  },
  {
   "cell_type": "markdown",
   "metadata": {},
   "source": [
    "To find the underlying query of a view, or any alias, apply the function **view** to the symbol alias name."
   ]
  },
  {
   "cell_type": "code",
   "execution_count": 149,
   "metadata": {},
   "outputs": [
    {
     "data": {
      "text/plain": [
       "\"select from t where c2>15\"\r\n"
      ]
     },
     "execution_count": 149,
     "metadata": {},
     "output_type": "execute_result"
    }
   ],
   "source": [
    "view `v"
   ]
  },
  {
   "cell_type": "code",
   "execution_count": 150,
   "metadata": {},
   "outputs": [
    {
     "data": {
      "text/plain": [
       ",\"a\"\r\n"
      ]
     },
     "execution_count": 150,
     "metadata": {},
     "output_type": "execute_result"
    }
   ],
   "source": [
    "a:42\n",
    "b::a\n",
    "view `b"
   ]
  },
  {
   "cell_type": "code",
   "execution_count": 152,
   "metadata": {},
   "outputs": [
    {
     "data": {
      "text/plain": [
       "`b`v`view\r\n"
      ]
     },
     "execution_count": 152,
     "metadata": {},
     "output_type": "execute_result"
    }
   ],
   "source": [
    "views `. / all views in namespace"
   ]
  },
  {
   "cell_type": "markdown",
   "metadata": {},
   "source": [
    "### 9.12 Functional Forms"
   ]
  },
  {
   "cell_type": "markdown",
   "metadata": {},
   "source": [
    "The function **parse** can be applied to a string containing a template query to produce a parse tree whose items (nearly) work in the equivalent functional form. A complication is that the operators are displayed in k form instead of q."
   ]
  },
  {
   "cell_type": "markdown",
   "metadata": {},
   "source": [
    "The functional forms of the four templates select, exec, update and delete are powerful because they allow all constituents to be parameterized. They can be used for any query but are especially handy for queries that are generated or completed programmatically. The q interpreter parses the syntactic sugar of the templates into their equivalent functional forms, so there is no performance difference."
   ]
  },
  {
   "cell_type": "markdown",
   "metadata": {},
   "source": [
    "**We recommend writing table operations in fundamental or template form unless you anticipate needing to parameterize column names.**"
   ]
  },
  {
   "cell_type": "markdown",
   "metadata": {},
   "source": [
    "There are two functional forms, one for select and exec, the other for update and delete. The types of the arguments passed determine the overload. The forms are,"
   ]
  },
  {
   "cell_type": "markdown",
   "metadata": {},
   "source": [
    "?[t;c;b;a] / select and exec\n",
    "\n",
    "![t;c;b;a] / update and delete"
   ]
  },
  {
   "cell_type": "markdown",
   "metadata": {},
   "source": [
    "where\n",
    "\n",
    "- t is a table or the name of a table\n",
    "- a is a dictionary of aggregates\n",
    "- b is a dictionary of groupbys or a flag controlling other aspects of the query\n",
    "- c is a list of constraints.\n",
    "The expressions in a, b and c can involve columns of t and also any variables that are in scope. The rules for expression interpretation are:\n",
    "\n",
    "\n",
    "- Columns are always represented by their symbolic names\n",
    "- Consequently, any literal symbols, or lists of symbols, appearing in the expressions must be distinguished. This is done by enlisting them. Really."
   ]
  },
  {
   "cell_type": "code",
   "execution_count": 31,
   "metadata": {},
   "outputs": [],
   "source": [
    "t:([] c1:`a`b`a`c`a`b`c; c2:10*1+til 7; c3:1.1*1+til 7)\n",
    "ft:{([] c1:`a`b`a`c`a`b`c; c2:10*1+til 7; c3:1.1*1+til 7)} /function returning table"
   ]
  },
  {
   "cell_type": "markdown",
   "metadata": {},
   "source": [
    "#### 9.12.1 Functional select"
   ]
  },
  {
   "cell_type": "code",
   "execution_count": 5,
   "metadata": {},
   "outputs": [
    {
     "data": {
      "text/plain": [
       "1b\r\n"
      ]
     },
     "execution_count": 5,
     "metadata": {},
     "output_type": "execute_result"
    },
    {
     "data": {
      "text/plain": [
       "c1 c2 c3 \r\n",
       "---------\r\n",
       "a  10 1.1\r\n",
       "b  20 2.2\r\n",
       "a  30 3.3\r\n",
       "c  40 4.4\r\n",
       "a  50 5.5\r\n",
       "b  60 6.6\r\n",
       "c  70 7.7\r\n"
      ]
     },
     "execution_count": 5,
     "metadata": {},
     "output_type": "execute_result"
    },
    {
     "data": {
      "text/plain": [
       "c1 c2 c3 \r\n",
       "---------\r\n",
       "a  10 1.1\r\n",
       "b  20 2.2\r\n",
       "a  30 3.3\r\n",
       "c  40 4.4\r\n",
       "a  50 5.5\r\n",
       "b  60 6.6\r\n",
       "c  70 7.7\r\n"
      ]
     },
     "execution_count": 5,
     "metadata": {},
     "output_type": "execute_result"
    }
   ],
   "source": [
    "?[t; (); 0b; ()]~select from t\n",
    "?[`t; (); 0b; ()]       / table van be passed by name\n",
    "?[ft[]; (); 0b; ()]     / or parameterized as a result of any q expr"
   ]
  },
  {
   "cell_type": "code",
   "execution_count": 4,
   "metadata": {},
   "outputs": [
    {
     "data": {
      "text/plain": [
       "{([] c1:`a`b`a`c`a`b`c; c2:10*1+til 7; c3:1.1*1+til 7)}\r\n"
      ]
     },
     "execution_count": 4,
     "metadata": {},
     "output_type": "execute_result"
    },
    {
     "data": {
      "text/plain": [
       "c1 c2 c3 \r\n",
       "---------\r\n",
       "a  10 1.1\r\n",
       "b  20 2.2\r\n",
       "a  30 3.3\r\n",
       "c  40 4.4\r\n",
       "a  50 5.5\r\n",
       "b  60 6.6\r\n",
       "c  70 7.7\r\n"
      ]
     },
     "execution_count": 4,
     "metadata": {},
     "output_type": "execute_result"
    }
   ],
   "source": [
    "ft\n",
    "ft[]"
   ]
  },
  {
   "cell_type": "markdown",
   "metadata": {},
   "source": [
    "**Constraints**\n",
    "\n",
    "The constraint parameter must be a list of q parse trees, one item for each subphrase in the where phrase. The parse tree for each subphrase can be obtained by converting the expression fully to prefix form and then transforming each function into a list with it followed by all its arguments. \n",
    "**Remember, columns names become symbols and literal symbols get enlisted.**"
   ]
  },
  {
   "cell_type": "code",
   "execution_count": 6,
   "metadata": {},
   "outputs": [
    {
     "data": {
      "text/plain": [
       "c1 c2 c3 \r\n",
       "---------\r\n",
       "c  40 4.4\r\n",
       "b  60 6.6\r\n",
       "c  70 7.7\r\n"
      ]
     },
     "execution_count": 6,
     "metadata": {},
     "output_type": "execute_result"
    }
   ],
   "source": [
    "select from t where c2>35,c1 in `b`c"
   ]
  },
  {
   "cell_type": "code",
   "execution_count": 7,
   "metadata": {},
   "outputs": [
    {
     "data": {
      "text/plain": [
       "c1 c2 c3 \r\n",
       "---------\r\n",
       "c  40 4.4\r\n",
       "b  60 6.6\r\n",
       "c  70 7.7\r\n"
      ]
     },
     "execution_count": 7,
     "metadata": {},
     "output_type": "execute_result"
    }
   ],
   "source": [
    "?[t; ((>;`c2;35); (in;`c1;enlist `b`c)); 0b; ()]"
   ]
  },
  {
   "cell_type": "markdown",
   "metadata": {},
   "source": [
    "**Aggregation without grouping**\n",
    "\n",
    "The aggregate parameter is a dictionary whose keys are column names and whose value list is a list of parse trees, one for each subphrase of the aggregate phrase. Again, column names are symbols, and literal symbols get enlisted.\n",
    "\n",
    "Tip\n",
    "\n",
    "While q will assign default columns names in the templates, you must explicitly provide all columns names in functional form."
   ]
  },
  {
   "cell_type": "code",
   "execution_count": 8,
   "metadata": {},
   "outputs": [
    {
     "data": {
      "text/plain": [
       "c2 c3 \r\n",
       "------\r\n",
       "70 5.5\r\n"
      ]
     },
     "execution_count": 8,
     "metadata": {},
     "output_type": "execute_result"
    }
   ],
   "source": [
    "select max c2, c2 wavg c3 from t"
   ]
  },
  {
   "cell_type": "code",
   "execution_count": 9,
   "metadata": {},
   "outputs": [
    {
     "data": {
      "text/plain": [
       "maxc2 wtavg\r\n",
       "-----------\r\n",
       "70    5.5  \r\n"
      ]
     },
     "execution_count": 9,
     "metadata": {},
     "output_type": "execute_result"
    }
   ],
   "source": [
    "?[t; (); 0b; `maxc2`wtavg!((max;`c2); (wavg;`c2;`c3))]"
   ]
  },
  {
   "cell_type": "code",
   "execution_count": 32,
   "metadata": {},
   "outputs": [
    {
     "data": {
      "text/plain": [
       "c2 c3 \r\n",
       "------\r\n",
       "10 1.1\r\n",
       "20 2.2\r\n",
       "30 3.3\r\n",
       "40 4.4\r\n",
       "50 5.5\r\n",
       "60 6.6\r\n",
       "70 7.7\r\n"
      ]
     },
     "execution_count": 32,
     "metadata": {},
     "output_type": "execute_result"
    }
   ],
   "source": [
    "?[t; (); 0b; `c2`c3!(`c2,`c3)]"
   ]
  },
  {
   "cell_type": "markdown",
   "metadata": {},
   "source": [
    "**Grouping without Aggregation**\n",
    "\n",
    "As with the aggregate parameter, we construct a dictionary with column names and parse trees of the by subphrases. \n",
    "In this particular example, we demonstrate how to handle the case of grouping on a single column. Recall that a singleton dictionary requires the key and value to be enlisted – this enlist is separate from enlisting literal symbols in functional form."
   ]
  },
  {
   "cell_type": "code",
   "execution_count": 11,
   "metadata": {},
   "outputs": [
    {
     "data": {
      "text/plain": [
       "c1| c2 c3 \r\n",
       "--| ------\r\n",
       "a | 50 5.5\r\n",
       "b | 60 6.6\r\n",
       "c | 70 7.7\r\n"
      ]
     },
     "execution_count": 11,
     "metadata": {},
     "output_type": "execute_result"
    }
   ],
   "source": [
    "select by c1 from t  / equivalent of last"
   ]
  },
  {
   "cell_type": "code",
   "execution_count": 12,
   "metadata": {},
   "outputs": [
    {
     "data": {
      "text/plain": [
       "c1| c2 c3 \r\n",
       "--| ------\r\n",
       "a | 50 5.5\r\n",
       "b | 60 6.6\r\n",
       "c | 70 7.7\r\n"
      ]
     },
     "execution_count": 12,
     "metadata": {},
     "output_type": "execute_result"
    }
   ],
   "source": [
    "?[t; (); (enlist `c1)!enlist `c1; ()]"
   ]
  },
  {
   "cell_type": "markdown",
   "metadata": {},
   "source": [
    "**Constraints + Grouping + Aggregation**\n",
    "\n",
    "We find code to be more readable if you separately construct the three parameters as variables and pass these in to the functional form."
   ]
  },
  {
   "cell_type": "code",
   "execution_count": 13,
   "metadata": {},
   "outputs": [
    {
     "data": {
      "text/plain": [
       "c1| c2 c3 \r\n",
       "--| ------\r\n",
       "b | 60 6.6\r\n",
       "c | 70 6.5\r\n"
      ]
     },
     "execution_count": 13,
     "metadata": {},
     "output_type": "execute_result"
    }
   ],
   "source": [
    "select max c2, c2 wavg c3 by c1 from t where c2>35,c1 in `b`c"
   ]
  },
  {
   "cell_type": "code",
   "execution_count": 14,
   "metadata": {},
   "outputs": [],
   "source": [
    "c:((>;`c2;35); (in;`c1;enlist `b`c))\n",
    "b:(enlist `c1)!enlist `c1\n",
    "a:`maxc2`wtavg!((max;`c2); (wavg;`c2;`c3))\n",
    "?[t;c;b;a]"
   ]
  },
  {
   "cell_type": "markdown",
   "metadata": {},
   "source": [
    "**Distinct**\n",
    "\n",
    "In this case set the by parameter to 1b"
   ]
  },
  {
   "cell_type": "code",
   "execution_count": 15,
   "metadata": {},
   "outputs": [
    {
     "data": {
      "text/plain": [
       "c1 c2\r\n",
       "-----\r\n",
       "a  1 \r\n",
       "b  1 \r\n",
       "c  2 \r\n",
       "b  2 \r\n"
      ]
     },
     "execution_count": 15,
     "metadata": {},
     "output_type": "execute_result"
    }
   ],
   "source": [
    "t:([] c1:`a`b`a`c`b`c; c2:1 1 1 2 2 2; c3:10 20 30 40 50 60)\n",
    "select distinct c1,c2 from t"
   ]
  },
  {
   "cell_type": "code",
   "execution_count": 16,
   "metadata": {},
   "outputs": [
    {
     "data": {
      "text/plain": [
       "c1 c2\r\n",
       "-----\r\n",
       "a  1 \r\n",
       "b  1 \r\n",
       "c  2 \r\n",
       "b  2 \r\n"
      ]
     },
     "execution_count": 16,
     "metadata": {},
     "output_type": "execute_result"
    }
   ],
   "source": [
    "?[t; (); 1b; `c1`c2!`c1`c2]"
   ]
  },
  {
   "cell_type": "markdown",
   "metadata": {},
   "source": [
    "**select[n]**"
   ]
  },
  {
   "cell_type": "code",
   "execution_count": null,
   "metadata": {},
   "outputs": [],
   "source": [
    "The extended form select[n] adds a fifth parameter to the functional form"
   ]
  },
  {
   "cell_type": "code",
   "execution_count": 18,
   "metadata": {},
   "outputs": [],
   "source": [
    "t:([] c1:`a`b`c; c2:10 20 30)"
   ]
  },
  {
   "cell_type": "code",
   "execution_count": 20,
   "metadata": {},
   "outputs": [
    {
     "data": {
      "text/plain": [
       "c1 c2\r\n",
       "-----\r\n",
       "a  10\r\n",
       "b  20\r\n"
      ]
     },
     "execution_count": 20,
     "metadata": {},
     "output_type": "execute_result"
    },
    {
     "data": {
      "text/plain": [
       "c1 c2\r\n",
       "-----\r\n",
       "a  10\r\n",
       "b  20\r\n"
      ]
     },
     "execution_count": 20,
     "metadata": {},
     "output_type": "execute_result"
    }
   ],
   "source": [
    "select[2] from t\n",
    "?[t;();0b;();2]"
   ]
  },
  {
   "cell_type": "markdown",
   "metadata": {},
   "source": [
    "**select[>ci]**"
   ]
  },
  {
   "cell_type": "markdown",
   "metadata": {},
   "source": [
    "The extended form select[>ci] adds two additional parameters to the functional form. The first is the initial value for the comparison and the second is a list with the k form – seriously! – of the comparison operator for the sort along with the column name for the sort."
   ]
  },
  {
   "cell_type": "code",
   "execution_count": 22,
   "metadata": {},
   "outputs": [
    {
     "data": {
      "text/plain": [
       "c1 c2\r\n",
       "-----\r\n",
       "a  10\r\n",
       "b  20\r\n",
       "c  30\r\n"
      ]
     },
     "execution_count": 22,
     "metadata": {},
     "output_type": "execute_result"
    }
   ],
   "source": [
    "select[>c1] c1,c2 from t"
   ]
  },
  {
   "cell_type": "code",
   "execution_count": 23,
   "metadata": {},
   "outputs": [
    {
     "data": {
      "text/plain": [
       "c1 c2\r\n",
       "-----\r\n",
       "c  30\r\n",
       "b  20\r\n",
       "a  10\r\n"
      ]
     },
     "execution_count": 23,
     "metadata": {},
     "output_type": "execute_result"
    }
   ],
   "source": [
    "?[t;();0b;`c1`c2!`c1`c2; 0W; (>:;`c1)]"
   ]
  },
  {
   "cell_type": "markdown",
   "metadata": {},
   "source": [
    "#### 9.12.2 Functional exec"
   ]
  },
  {
   "cell_type": "markdown",
   "metadata": {},
   "source": [
    "The functional form for exec on a single result column depends on whether you want a list or dictionary to be returned. \n",
    "- Assuming there is no grouping, use the empty list for the by parameter. \n",
    "- For a list result, specify the aggregate as a parse tree; \n",
    "- for a dictionary result, specify a dictionary mapping the result name to its parse tree."
   ]
  },
  {
   "cell_type": "code",
   "execution_count": 24,
   "metadata": {},
   "outputs": [],
   "source": [
    "t:([] c1:`a`b`c`a; c2:10 20 30 40; c3:1.1 2.2 3.3 4.4)"
   ]
  },
  {
   "cell_type": "code",
   "execution_count": 25,
   "metadata": {},
   "outputs": [
    {
     "data": {
      "text/plain": [
       "`a`b`c\r\n"
      ]
     },
     "execution_count": 25,
     "metadata": {},
     "output_type": "execute_result"
    },
    {
     "data": {
      "text/plain": [
       "`a`b`c\r\n"
      ]
     },
     "execution_count": 25,
     "metadata": {},
     "output_type": "execute_result"
    }
   ],
   "source": [
    "/ no grouping, list returned\n",
    "exec distinct c1 from t\n",
    "?[t; (); (); (distinct; `c1)]"
   ]
  },
  {
   "cell_type": "code",
   "execution_count": 27,
   "metadata": {},
   "outputs": [
    {
     "data": {
      "text/plain": [
       "c1| a b c\r\n"
      ]
     },
     "execution_count": 27,
     "metadata": {},
     "output_type": "execute_result"
    },
    {
     "data": {
      "text/plain": [
       "c1| a b c\r\n"
      ]
     },
     "execution_count": 27,
     "metadata": {},
     "output_type": "execute_result"
    }
   ],
   "source": [
    "/ no grouping, single column, dictionary returned\n",
    "exec c1:distinct c1 from t\n",
    "?[t; (); (); (enlist `c1)!enlist (distinct; `c1)]"
   ]
  },
  {
   "cell_type": "code",
   "execution_count": 34,
   "metadata": {},
   "outputs": [
    {
     "data": {
      "text/plain": [
       "c1| `a`b`c\r\n",
       "c2| 10 20 30 40 50 60 70\r\n"
      ]
     },
     "execution_count": 34,
     "metadata": {},
     "output_type": "execute_result"
    },
    {
     "data": {
      "text/plain": [
       "c1| `a`b`c\r\n",
       "c2| 10 20 30 40 50 60 70\r\n"
      ]
     },
     "execution_count": 34,
     "metadata": {},
     "output_type": "execute_result"
    }
   ],
   "source": [
    "/ no grouping, multiple columns, dictionary returned\n",
    "exec distinct c1, c2 from t\n",
    "?[t; (); (); `c1`c2!((distinct; `c1); `c2)]"
   ]
  },
  {
   "cell_type": "code",
   "execution_count": 35,
   "metadata": {},
   "outputs": [
    {
     "data": {
      "text/plain": [
       "a| 10 30 50\r\n",
       "b| 20 60\r\n",
       "c| 40 70\r\n"
      ]
     },
     "execution_count": 35,
     "metadata": {},
     "output_type": "execute_result"
    },
    {
     "data": {
      "text/plain": [
       "a| 10 30 50\r\n",
       "b| 20 60\r\n",
       "c| 40 70\r\n"
      ]
     },
     "execution_count": 35,
     "metadata": {},
     "output_type": "execute_result"
    }
   ],
   "source": [
    "/To group on a single column, specify its symbol name in the by parameter.\n",
    "exec c2 by c1 from t\n",
    "?[t; (); `c1; `c2]"
   ]
  },
  {
   "cell_type": "markdown",
   "metadata": {},
   "source": [
    "#### 9.12.3 Functional update"
   ]
  },
  {
   "cell_type": "markdown",
   "metadata": {},
   "source": [
    "The syntax of functional form of update is identical to that of select except that ! is used in place of ?. "
   ]
  },
  {
   "cell_type": "markdown",
   "metadata": {},
   "source": [
    "In the following examples you will need to keep track of the **different uses of enlist:**\n",
    "\n",
    "- making a list of parse trees from a single parse expression\n",
    "- creating singleton dictionaries\n",
    "- distinguishing literal symbols from column names."
   ]
  },
  {
   "cell_type": "code",
   "execution_count": 41,
   "metadata": {},
   "outputs": [
    {
     "data": {
      "text/plain": [
       "c1 c2\r\n",
       "-----\r\n",
       "a  10\r\n",
       "b  20\r\n",
       "c  30\r\n",
       "a  40\r\n",
       "b  50\r\n"
      ]
     },
     "execution_count": 41,
     "metadata": {},
     "output_type": "execute_result"
    }
   ],
   "source": [
    "t:([] c1:`a`b`c`a`b; c2:10 20 30 40 50)\n",
    "t"
   ]
  },
  {
   "cell_type": "code",
   "execution_count": 37,
   "metadata": {},
   "outputs": [
    {
     "data": {
      "text/plain": [
       "c1 c2 \r\n",
       "------\r\n",
       "a  100\r\n",
       "b  20 \r\n",
       "c  30 \r\n",
       "a  100\r\n",
       "b  50 \r\n"
      ]
     },
     "execution_count": 37,
     "metadata": {},
     "output_type": "execute_result"
    }
   ],
   "source": [
    "update c2:100 from t where c1=`a"
   ]
  },
  {
   "cell_type": "code",
   "execution_count": 38,
   "metadata": {},
   "outputs": [],
   "source": [
    "c:enlist (=;`c1;enlist `a)\n",
    "b:0b\n",
    "a:(enlist `c2)!enlist 100"
   ]
  },
  {
   "cell_type": "code",
   "execution_count": 39,
   "metadata": {},
   "outputs": [
    {
     "data": {
      "text/plain": [
       "c1 c2 \r\n",
       "------\r\n",
       "a  100\r\n",
       "b  20 \r\n",
       "c  30 \r\n",
       "a  100\r\n",
       "b  50 \r\n"
      ]
     },
     "execution_count": 39,
     "metadata": {},
     "output_type": "execute_result"
    }
   ],
   "source": [
    "![t;c;b;a]"
   ]
  },
  {
   "cell_type": "code",
   "execution_count": 40,
   "metadata": {},
   "outputs": [
    {
     "data": {
      "text/plain": [
       "c1 c2\r\n",
       "-----\r\n",
       "a  10\r\n",
       "b  20\r\n",
       "c  30\r\n",
       "a  50\r\n",
       "b  70\r\n"
      ]
     },
     "execution_count": 40,
     "metadata": {},
     "output_type": "execute_result"
    }
   ],
   "source": [
    "update c2:sums c2 by c1 from t"
   ]
  },
  {
   "cell_type": "code",
   "execution_count": 43,
   "metadata": {},
   "outputs": [
    {
     "data": {
      "text/plain": [
       "`t\r\n"
      ]
     },
     "execution_count": 43,
     "metadata": {},
     "output_type": "execute_result"
    }
   ],
   "source": [
    "![`t; (); (enlist `c1)!enlist `c1; (enlist `c2)!enlist(sums; `c2)]"
   ]
  },
  {
   "cell_type": "markdown",
   "metadata": {},
   "source": [
    "#### 9.12.4 Functional delete"
   ]
  },
  {
   "cell_type": "markdown",
   "metadata": {},
   "source": [
    "The syntax of functional delete is a simplified form of functional update.\n",
    "\n",
    "![t;c;0b;a]\n",
    "\n",
    "where \n",
    "- t is a table, or the name of a table, \n",
    "- c is a list of parse trees for where subphrases and \n",
    "- a is a list of column names. \n",
    "\n",
    "Either c or a, but not both, must be present. \n",
    "- If c is present, it specifies which rows are to be deleted. In this case you must specify a as an empty list of symbols.\n",
    "- If a is present it is a list of symbol column names to be deleted. "
   ]
  },
  {
   "cell_type": "code",
   "execution_count": 46,
   "metadata": {},
   "outputs": [
    {
     "data": {
      "text/plain": [
       "c1 c2\r\n",
       "-----\r\n",
       "a  10\r\n",
       "b  20\r\n",
       "c  30\r\n",
       "a  40\r\n",
       "b  50\r\n"
      ]
     },
     "execution_count": 46,
     "metadata": {},
     "output_type": "execute_result"
    }
   ],
   "source": [
    "t:([] c1:`a`b`c`a`b; c2:10 20 30 40 50)\n",
    "t"
   ]
  },
  {
   "cell_type": "code",
   "execution_count": 49,
   "metadata": {},
   "outputs": [
    {
     "data": {
      "text/plain": [
       "c1\r\n",
       "--\r\n",
       "a \r\n",
       "c \r\n",
       "a \r\n"
      ]
     },
     "execution_count": 50,
     "metadata": {},
     "output_type": "execute_result"
    },
    {
     "data": {
      "text/plain": [
       "c1\r\n",
       "--\r\n",
       "a \r\n",
       "c \r\n",
       "a \r\n"
      ]
     },
     "execution_count": 50,
     "metadata": {},
     "output_type": "execute_result"
    },
    {
     "ename": "\u001b[0;31mtype\u001b[0m",
     "evalue": "\u001b[0;31mtype\u001b[0m",
     "output_type": "error",
     "traceback": [
      "\u001b[0;31mevaluation error:\n\u001b[0m",
      "\u001b[0;31mtype\u001b[0m",
      "\u001b[0;31m\u001b[0m",
      "\u001b[0;31m  [0]  ![t;enlist (=;`c1;enlist `b);0b;()]\r\n       ^\r\n\u001b[0m"
     ]
    }
   ],
   "source": [
    "delete from t where c1=`b\n",
    "![t;enlist (=;`c1;enlist `b);0b;`symbol$()]"
   ]
  },
  {
   "cell_type": "code",
   "execution_count": 49,
   "metadata": {},
   "outputs": [
    {
     "data": {
      "text/plain": [
       "c1\r\n",
       "--\r\n",
       "a \r\n",
       "b \r\n",
       "c \r\n",
       "a \r\n",
       "b \r\n"
      ]
     },
     "execution_count": 49,
     "metadata": {},
     "output_type": "execute_result"
    },
    {
     "data": {
      "text/plain": [
       "`t\r\n"
      ]
     },
     "execution_count": 49,
     "metadata": {},
     "output_type": "execute_result"
    },
    {
     "data": {
      "text/plain": [
       "c1\r\n",
       "--\r\n",
       "a \r\n",
       "b \r\n",
       "c \r\n",
       "a \r\n",
       "b \r\n"
      ]
     },
     "execution_count": 49,
     "metadata": {},
     "output_type": "execute_result"
    }
   ],
   "source": [
    "delete c2 from t\n",
    "![`t;();0b;enlist `c2]\n",
    "t"
   ]
  },
  {
   "cell_type": "markdown",
   "metadata": {},
   "source": [
    "### 9.13 Examples"
   ]
  },
  {
   "cell_type": "code",
   "execution_count": 5,
   "metadata": {},
   "outputs": [],
   "source": [
    "mktrades:{[tickers; sz]\n",
    "  dt:2015.01.01+sz?31;\n",
    "  tm:sz?24:00:00.000;\n",
    "  sym:sz?tickers;\n",
    "  qty:10*1+sz?1000;\n",
    "  px:90.0+(sz?2001)%100;\n",
    "  t:([] dt; tm; sym; qty; px);\n",
    "  t:`dt`tm xasc t;\n",
    "  t:update px:6*px from t where sym=`goog;\n",
    "  t:update px:2*px from t where sym=`ibm;\n",
    "  t}\n",
    "trades:mktrades[`aapl`goog`ibm; 10000000]"
   ]
  },
  {
   "cell_type": "code",
   "execution_count": 11,
   "metadata": {},
   "outputs": [
    {
     "data": {
      "text/plain": [
       "dt         tm           sym  qty  px    \r\n",
       "----------------------------------------\r\n",
       "2015.01.01 00:00:00.141 ibm  1000 192.34\r\n",
       "2015.01.01 00:00:00.425 goog 390  599.4 \r\n",
       "2015.01.01 00:00:00.902 goog 9240 620.52\r\n",
       "2015.01.01 00:00:01.425 aapl 9770 91.21 \r\n",
       "2015.01.01 00:00:02.868 aapl 6620 107.63\r\n",
       "2015.01.01 00:00:02.870 ibm  2240 218.12\r\n",
       "2015.01.01 00:00:03.286 aapl 3920 95.07 \r\n",
       "2015.01.01 00:00:03.638 goog 9610 549.9 \r\n",
       "2015.01.01 00:00:03.671 ibm  4350 188.1 \r\n",
       "2015.01.01 00:00:04.199 aapl 9390 109.32\r\n",
       "2015.01.01 00:00:04.586 ibm  4870 198.18\r\n",
       "2015.01.01 00:00:04.723 ibm  5180 195.26\r\n",
       "2015.01.01 00:00:05.586 goog 1100 593.34\r\n",
       "2015.01.01 00:00:05.715 ibm  9820 212.2 \r\n",
       "2015.01.01 00:00:06.098 aapl 8120 94.78 \r\n",
       "2015.01.01 00:00:06.249 goog 7600 560.88\r\n",
       "2015.01.01 00:00:06.261 ibm  7390 205.32\r\n",
       "2015.01.01 00:00:06.464 ibm  9860 181.24\r\n",
       "2015.01.01 00:00:06.753 aapl 710  94.97 \r\n",
       "2015.01.01 00:00:07.017 aapl 2020 107.07\r\n",
       "..\r\n"
      ]
     },
     "execution_count": 11,
     "metadata": {},
     "output_type": "execute_result"
    }
   ],
   "source": [
    "trades"
   ]
  },
  {
   "cell_type": "code",
   "execution_count": 3,
   "metadata": {},
   "outputs": [
    {
     "data": {
      "text/plain": [
       "`instr\r\n"
      ]
     },
     "execution_count": 3,
     "metadata": {},
     "output_type": "execute_result"
    },
    {
     "data": {
      "text/plain": [
       "`instr\r\n"
      ]
     },
     "execution_count": 3,
     "metadata": {},
     "output_type": "execute_result"
    },
    {
     "data": {
      "text/plain": [
       "`instr\r\n"
      ]
     },
     "execution_count": 3,
     "metadata": {},
     "output_type": "execute_result"
    },
    {
     "data": {
      "text/plain": [
       "`instr\r\n"
      ]
     },
     "execution_count": 3,
     "metadata": {},
     "output_type": "execute_result"
    },
    {
     "data": {
      "text/plain": [
       "sym | name                            industry         \r\n",
       "----| -------------------------------------------------\r\n",
       "ibm | International Business Machines Computer Services\r\n",
       "msft| Microsoft                       Software         \r\n",
       "goog| Google                          Search           \r\n",
       "aapl| Apple                           Electronics      \r\n"
      ]
     },
     "execution_count": 3,
     "metadata": {},
     "output_type": "execute_result"
    }
   ],
   "source": [
    "instr:([sym:`symbol$()] name:`symbol$(); industry:`symbol$())\n",
    "`instr upsert (`ibm; `$\"International Business Machines\"; `$\"Computer Services\")\n",
    "`instr upsert (`msft; `$\"Microsoft\"; `$\"Software\")\n",
    "`instr upsert (`goog; `$\"Google\"; `$\"Search\")\n",
    "`instr upsert (`aapl; `$\"Apple\"; `$\"Electronics\")\n",
    "instr"
   ]
  },
  {
   "cell_type": "code",
   "execution_count": 6,
   "metadata": {},
   "outputs": [
    {
     "data": {
      "text/plain": [
       "c  | t f a\r\n",
       "---| -----\r\n",
       "dt | d   s\r\n",
       "tm | t    \r\n",
       "sym| s    \r\n",
       "qty| j    \r\n",
       "px | f    \r\n"
      ]
     },
     "execution_count": 6,
     "metadata": {},
     "output_type": "execute_result"
    },
    {
     "data": {
      "text/plain": [
       "`trades\r\n"
      ]
     },
     "execution_count": 6,
     "metadata": {},
     "output_type": "execute_result"
    },
    {
     "data": {
      "text/plain": [
       "c  | t f     a\r\n",
       "---| ---------\r\n",
       "dt | d       s\r\n",
       "tm | t        \r\n",
       "sym| s instr  \r\n",
       "qty| j        \r\n",
       "px | f        \r\n"
      ]
     },
     "execution_count": 6,
     "metadata": {},
     "output_type": "execute_result"
    }
   ],
   "source": [
    "meta trades\n",
    "update `instr$sym from `trades  / making instr FK\n",
    "meta trades"
   ]
  },
  {
   "cell_type": "markdown",
   "metadata": {},
   "source": [
    "We find the high, low and close over one-minute intervals for Google."
   ]
  },
  {
   "cell_type": "code",
   "execution_count": 7,
   "metadata": {},
   "outputs": [
    {
     "data": {
      "text/plain": [
       "dt         minute| hi     lo     open   close \r\n",
       "-----------------| ---------------------------\r\n",
       "2015.01.01 00:00 | 658.74 542.46 599.4  657.96\r\n",
       "2015.01.01 00:01 | 658.2  542.1  627.66 617.16\r\n",
       "2015.01.01 00:02 | 657.54 540.36 638.64 608.22\r\n",
       "2015.01.01 00:03 | 659.76 540.24 549.06 598.8 \r\n",
       "2015.01.01 00:04 | 658.92 543.9  653.94 594.54\r\n",
       "2015.01.01 00:05 | 656.88 541.32 654.9  612.3 \r\n",
       "2015.01.01 00:06 | 650.46 540.48 601.44 611.22\r\n",
       "2015.01.01 00:07 | 659.22 540    622.08 619.62\r\n",
       "2015.01.01 00:08 | 657.06 544.02 566.76 643.68\r\n",
       "2015.01.01 00:09 | 659.7  544.38 617.94 659.7 \r\n",
       "2015.01.01 00:10 | 657.72 545.64 608.64 583.02\r\n",
       "2015.01.01 00:11 | 655.86 541.32 618.48 557.4 \r\n",
       "2015.01.01 00:12 | 654.42 541.44 615.54 628.86\r\n",
       "2015.01.01 00:13 | 658.02 542.82 657.24 604.2 \r\n",
       "2015.01.01 00:14 | 658.62 540.84 551.76 578.34\r\n",
       "2015.01.01 00:15 | 659.46 540.42 652.26 593.1 \r\n",
       "2015.01.01 00:16 | 658.92 540    551.22 555.42\r\n",
       "2015.01.01 00:17 | 659.04 540.18 581.7  634.86\r\n",
       "2015.01.01 00:18 | 659.76 541.14 615.72 642.6 \r\n",
       "2015.01.01 00:19 | 657.6  540.42 627.42 641.1 \r\n",
       "..\r\n"
      ]
     },
     "execution_count": 7,
     "metadata": {},
     "output_type": "execute_result"
    }
   ],
   "source": [
    "select hi:max px,lo:min px,open:first px, close:last px by dt,tm.minute from trades where sym=`goog"
   ]
  },
  {
   "cell_type": "markdown",
   "metadata": {},
   "source": [
    "**Daily VWAP**"
   ]
  },
  {
   "cell_type": "code",
   "execution_count": 8,
   "metadata": {},
   "outputs": [
    {
     "data": {
      "text/plain": [
       "dt        | vwap    \r\n",
       "----------| --------\r\n",
       "2015.01.01| 199.9572\r\n",
       "2015.01.02| 200.0544\r\n",
       "2015.01.03| 199.9884\r\n",
       "2015.01.04| 199.9906\r\n",
       "2015.01.05| 199.9701\r\n",
       "2015.01.06| 200.0659\r\n",
       "2015.01.07| 199.9902\r\n",
       "2015.01.08| 199.967 \r\n",
       "2015.01.09| 199.9984\r\n",
       "2015.01.10| 199.9598\r\n",
       "2015.01.11| 199.9733\r\n",
       "2015.01.12| 199.9704\r\n",
       "2015.01.13| 199.9974\r\n",
       "2015.01.14| 200.0424\r\n",
       "2015.01.15| 200.0508\r\n",
       "2015.01.16| 200.0404\r\n",
       "2015.01.17| 199.9596\r\n",
       "2015.01.18| 199.9784\r\n",
       "2015.01.19| 200.0056\r\n",
       "2015.01.20| 199.993 \r\n",
       "..\r\n"
      ]
     },
     "execution_count": 8,
     "metadata": {},
     "output_type": "execute_result"
    }
   ],
   "source": [
    "select vwap:qty wavg px by dt from trades where sym=`ibm"
   ]
  },
  {
   "cell_type": "markdown",
   "metadata": {},
   "source": [
    "**100ms VWAP**"
   ]
  },
  {
   "cell_type": "code",
   "execution_count": 9,
   "metadata": {},
   "outputs": [
    {
     "data": {
      "text/plain": [
       "dt         tm          | vwap    \r\n",
       "-----------------------| --------\r\n",
       "2015.01.01 00:00:00.100| 192.34  \r\n",
       "2015.01.01 00:00:02.800| 218.12  \r\n",
       "2015.01.01 00:00:03.600| 188.1   \r\n",
       "2015.01.01 00:00:04.500| 198.18  \r\n",
       "2015.01.01 00:00:04.700| 195.26  \r\n",
       "2015.01.01 00:00:05.700| 212.2   \r\n",
       "2015.01.01 00:00:06.200| 205.32  \r\n",
       "2015.01.01 00:00:06.400| 181.24  \r\n",
       "2015.01.01 00:00:09.400| 213.34  \r\n",
       "2015.01.01 00:00:09.800| 198.2643\r\n",
       "2015.01.01 00:00:09.900| 210.54  \r\n",
       "2015.01.01 00:00:10.100| 184.98  \r\n",
       "2015.01.01 00:00:10.500| 190.82  \r\n",
       "2015.01.01 00:00:13.300| 192.58  \r\n",
       "2015.01.01 00:00:13.500| 182.7   \r\n",
       "2015.01.01 00:00:13.700| 209.28  \r\n",
       "2015.01.01 00:00:15.300| 212.5   \r\n",
       "2015.01.01 00:00:15.500| 194.42  \r\n",
       "2015.01.01 00:00:16.000| 197.04  \r\n",
       "2015.01.01 00:00:17.600| 185.4   \r\n",
       "..\r\n"
      ]
     },
     "execution_count": 9,
     "metadata": {},
     "output_type": "execute_result"
    }
   ],
   "source": [
    "select vwap:qty wavg px by dt,100 xbar tm from trades where sym=`ibm"
   ]
  },
  {
   "cell_type": "markdown",
   "metadata": {},
   "source": [
    "We use fby to select records attaining the maximum price each day for each sym."
   ]
  },
  {
   "cell_type": "code",
   "execution_count": 12,
   "metadata": {},
   "outputs": [
    {
     "data": {
      "text/plain": [
       "px \r\n",
       "---\r\n",
       "110\r\n",
       "220\r\n",
       "660\r\n"
      ]
     },
     "execution_count": 12,
     "metadata": {},
     "output_type": "execute_result"
    }
   ],
   "source": [
    "select from trades where px=(max;px) fby sym"
   ]
  },
  {
   "cell_type": "markdown",
   "metadata": {},
   "source": [
    "#### operations on nested columns"
   ]
  },
  {
   "cell_type": "markdown",
   "metadata": {},
   "source": [
    "**Denormalizing**\n",
    "\n",
    "- grouping without aggregation using select\n",
    "- using xgroup\n",
    "\n",
    "The difference is that xgroup does not automatically sort on the result key column."
   ]
  },
  {
   "cell_type": "code",
   "execution_count": 15,
   "metadata": {},
   "outputs": [
    {
     "data": {
      "text/plain": [
       "1b\r\n"
      ]
     },
     "execution_count": 15,
     "metadata": {},
     "output_type": "execute_result"
    }
   ],
   "source": [
    "dntrades:select dt,tm,qty,px by sym from trades\n",
    "dntrades~`sym xasc `sym xgroup trades"
   ]
  },
  {
   "cell_type": "code",
   "execution_count": 16,
   "metadata": {},
   "outputs": [
    {
     "data": {
      "text/plain": [
       "sym | dt                                                                     ..\r\n",
       "----| -----------------------------------------------------------------------..\r\n",
       "aapl| 2015.01.01 2015.01.01 2015.01.01 2015.01.01 2015.01.01 2015.01.01 2015...\r\n",
       "goog| 2015.01.01 2015.01.01 2015.01.01 2015.01.01 2015.01.01 2015.01.01 2015...\r\n",
       "ibm | 2015.01.01 2015.01.01 2015.01.01 2015.01.01 2015.01.01 2015.01.01 2015...\r\n"
      ]
     },
     "execution_count": 16,
     "metadata": {},
     "output_type": "execute_result"
    }
   ],
   "source": [
    "dntrades"
   ]
  },
  {
   "cell_type": "code",
   "execution_count": 20,
   "metadata": {},
   "outputs": [
    {
     "data": {
      "text/plain": [
       "sym | dt                    tm                        qty       px           \r\n",
       "----| -----------------------------------------------------------------------\r\n",
       "aapl| 2015.01.01 2015.01.01 00:00:01.425 00:00:02.868 9770 6620 91.21  107.63\r\n",
       "goog| 2015.01.01 2015.01.01 00:00:00.425 00:00:00.902 390  9240 599.4  620.52\r\n",
       "ibm | 2015.01.01 2015.01.01 00:00:00.141 00:00:02.870 1000 2240 192.34 218.12\r\n"
      ]
     },
     "execution_count": 20,
     "metadata": {},
     "output_type": "execute_result"
    }
   ],
   "source": [
    "select 2#dt,2#tm,2#qty,2#px by sym from trades / to make structure more evident"
   ]
  },
  {
   "cell_type": "markdown",
   "metadata": {},
   "source": [
    "Structure of denormalised table is key column and multiple columns which are  nested lists. In such a table with compound columns – i.e., lists of simple lists of the same type – you will need adverbs for column operations. Lots of adverbs."
   ]
  },
  {
   "cell_type": "code",
   "execution_count": 21,
   "metadata": {},
   "outputs": [
    {
     "data": {
      "text/plain": [
       "sym  cnt     avgpx   \r\n",
       "---------------------\r\n",
       "aapl 3333109 100.0047\r\n",
       "goog 3334279 600.0015\r\n",
       "ibm  3332612 200.0041\r\n"
      ]
     },
     "execution_count": 21,
     "metadata": {},
     "output_type": "execute_result"
    }
   ],
   "source": [
    "select sym,cnt:count each dt,avgpx:avg each px from dntrades"
   ]
  },
  {
   "cell_type": "markdown",
   "metadata": {},
   "source": [
    "To find the volume-weighted average price by we use the each-both adverb ' with the dyadic wavg."
   ]
  },
  {
   "cell_type": "code",
   "execution_count": 22,
   "metadata": {},
   "outputs": [
    {
     "data": {
      "text/plain": [
       "sym  vwap    \r\n",
       "-------------\r\n",
       "aapl 100.0082\r\n",
       "goog 599.996 \r\n",
       "ibm  200.0074\r\n"
      ]
     },
     "execution_count": 22,
     "metadata": {},
     "output_type": "execute_result"
    }
   ],
   "source": [
    "select sym,vwap:qty wavg' px from dntrades"
   ]
  },
  {
   "cell_type": "markdown",
   "metadata": {},
   "source": [
    "**Profit of the ideal transaction over the month for each symbol.** This is the maximum amount of money that could be made with complete foreknowledge of the market. In other words, find the largest profit obtainable by buying at some traded price and selling at the highest subsequently traded price. To solve this, we reverse the perspective. For each traded price, we look at the minimum of prices that preceded it. The largest such difference is our answer. The maximum draw down is dual."
   ]
  },
  {
   "cell_type": "code",
   "execution_count": 23,
   "metadata": {},
   "outputs": [
    {
     "data": {
      "text/plain": [
       "sym | px \r\n",
       "----| ---\r\n",
       "aapl| 20 \r\n",
       "goog| 120\r\n",
       "ibm | 40 \r\n"
      ]
     },
     "execution_count": 23,
     "metadata": {},
     "output_type": "execute_result"
    }
   ],
   "source": [
    "select max px-mins px by sym from trades"
   ]
  },
  {
   "cell_type": "code",
   "execution_count": 24,
   "metadata": {},
   "outputs": [
    {
     "data": {
      "text/plain": [
       "sym | px  \r\n",
       "----| ----\r\n",
       "aapl| -20 \r\n",
       "goog| -120\r\n",
       "ibm | -40 \r\n"
      ]
     },
     "execution_count": 24,
     "metadata": {},
     "output_type": "execute_result"
    }
   ],
   "source": [
    "select min px-maxs px by sym from trades"
   ]
  },
  {
   "cell_type": "markdown",
   "metadata": {},
   "source": [
    "### 9.14. Pivot table"
   ]
  },
  {
   "cell_type": "code",
   "execution_count": 1,
   "metadata": {},
   "outputs": [
    {
     "name": "stdout",
     "output_type": "stream",
     "text": [
      "k p  v  \r\n",
      "--------\r\n",
      "1 a1 100\r\n",
      "2 a2 200\r\n",
      "3 a1 300\r\n",
      "2 a3 400\r\n",
      "3 a2 500\r\n"
     ]
    }
   ],
   "source": [
    "show t:([]k:1 2 3 2 3; p:`a1`a2`a1`a3`a2; v:100 200 300 400 500)\n"
   ]
  },
  {
   "cell_type": "markdown",
   "metadata": {},
   "source": [
    "1. Collect the unique values of the pivot column p into a list P."
   ]
  },
  {
   "cell_type": "code",
   "execution_count": 2,
   "metadata": {},
   "outputs": [],
   "source": [
    "P:exec distinct p from t"
   ]
  },
  {
   "cell_type": "markdown",
   "metadata": {},
   "source": [
    "2. Write a query that extracts the key-value pairs for p and v grouped by k."
   ]
  },
  {
   "cell_type": "code",
   "execution_count": 4,
   "metadata": {},
   "outputs": [
    {
     "data": {
      "text/plain": [
       "`a1 100\r\n",
       "`a2 200\r\n",
       "`a1 300\r\n",
       "`a3 400\r\n",
       "`a2 500\r\n"
      ]
     },
     "execution_count": 4,
     "metadata": {},
     "output_type": "execute_result"
    }
   ],
   "source": [
    "t[`p],'t[`v]"
   ]
  },
  {
   "cell_type": "code",
   "execution_count": 7,
   "metadata": {},
   "outputs": [
    {
     "data": {
      "text/plain": [
       "k| v                    \r\n",
       "-| ---------------------\r\n",
       "1| ,(`a1;100)           \r\n",
       "2| ((`a2;200);(`a3;400))\r\n",
       "3| ((`a1;300);(`a2;500))\r\n"
      ]
     },
     "execution_count": 7,
     "metadata": {},
     "output_type": "execute_result"
    },
    {
     "data": {
      "text/plain": [
       "k| v             \r\n",
       "-| --------------\r\n",
       "1| (,`a1)!,100   \r\n",
       "2| `a2`a3!200 400\r\n",
       "3| `a1`a2!300 500\r\n"
      ]
     },
     "execution_count": 7,
     "metadata": {},
     "output_type": "execute_result"
    }
   ],
   "source": [
    "select (p,'v) by k from t / table with list of pairs\n",
    "select p!v by k from t    / table with dictionaries"
   ]
  },
  {
   "cell_type": "code",
   "execution_count": 6,
   "metadata": {},
   "outputs": [
    {
     "data": {
      "text/plain": [
       "1| (,`a1)!,100\r\n",
       "2| `a2`a3!200 400\r\n",
       "3| `a1`a2!300 500\r\n"
      ]
     },
     "execution_count": 6,
     "metadata": {},
     "output_type": "execute_result"
    }
   ],
   "source": [
    "exec p!v by k from t / dictionary of dictionaries"
   ]
  },
  {
   "cell_type": "markdown",
   "metadata": {},
   "source": [
    "3. Enhance the previous query to produce a keyed table by rectangularizing the dictionaries by filling missing values using P#. Magic happens. Observe that we need to name the resulting key column explicitly."
   ]
  },
  {
   "cell_type": "code",
   "execution_count": 25,
   "metadata": {},
   "outputs": [
    {
     "data": {
      "text/plain": [
       "a1| 1\r\n",
       "a2| \r\n",
       "a3| 3\r\n"
      ]
     },
     "execution_count": 25,
     "metadata": {},
     "output_type": "execute_result"
    }
   ],
   "source": [
    "P#`a1`a3!1 3  / P is the list of unique values in column P; adds missing values "
   ]
  },
  {
   "cell_type": "code",
   "execution_count": 46,
   "metadata": {},
   "outputs": [
    {
     "data": {
      "text/plain": [
       "k| a1  a2  a3 \r\n",
       "-| -----------\r\n",
       "1| 100        \r\n",
       "2|     200 400\r\n",
       "3| 300 500    \r\n"
      ]
     },
     "execution_count": 46,
     "metadata": {},
     "output_type": "execute_result"
    }
   ],
   "source": [
    "exec P#p!v by k:k from t"
   ]
  },
  {
   "cell_type": "markdown",
   "metadata": {},
   "source": [
    "4. Write the query to extract the unique values of the pivot column in functional form."
   ]
  },
  {
   "cell_type": "code",
   "execution_count": 26,
   "metadata": {},
   "outputs": [],
   "source": [
    "P:?[t; (); (); (distinct; `p)]"
   ]
  },
  {
   "cell_type": "markdown",
   "metadata": {},
   "source": [
    "5. Convert the pivot query to functional form."
   ]
  },
  {
   "cell_type": "code",
   "execution_count": 27,
   "metadata": {},
   "outputs": [
    {
     "data": {
      "text/plain": [
       "k| a1  a2  a3 \r\n",
       "-| -----------\r\n",
       "1| 100        \r\n",
       "2|     200 400\r\n",
       "3| 300 500    \r\n"
      ]
     },
     "execution_count": 27,
     "metadata": {},
     "output_type": "execute_result"
    }
   ],
   "source": [
    "?[t;(); (1#`k)!1#`k; (#;`P;(!;`p;`v))]"
   ]
  },
  {
   "cell_type": "markdown",
   "metadata": {},
   "source": [
    "6. Place the previous functional forms in a function that takes the table and the column names as parameters and returns the pivot result."
   ]
  },
  {
   "cell_type": "code",
   "execution_count": 28,
   "metadata": {},
   "outputs": [
    {
     "data": {
      "text/plain": [
       "k| a1  a2  a3 \r\n",
       "-| -----------\r\n",
       "1| 100        \r\n",
       "2|     200 400\r\n",
       "3| 300 500    \r\n"
      ]
     },
     "execution_count": 28,
     "metadata": {},
     "output_type": "execute_result"
    }
   ],
   "source": [
    "dopivot:{[t; kn; pn; vn]\n",
    "  P:?[t; (); (); (distinct; pn)];\n",
    "  ?[t;(); (1#kn)!1#kn; (#;`P;(!;pn;vn))]}\n",
    "dopivot[t;`k;`p;`v]"
   ]
  },
  {
   "cell_type": "markdown",
   "metadata": {},
   "source": [
    "7. Write an expression that converts the fields of the pivot column to valid names when they are not – e.g., integers. In general, producing unique, valid names is a non-trivial exercise. Find a solution that (at least) works on tn below."
   ]
  },
  {
   "cell_type": "code",
   "execution_count": 30,
   "metadata": {},
   "outputs": [
    {
     "name": "stdout",
     "output_type": "stream",
     "text": [
      "k p   v  \r\n",
      "---------\r\n",
      "1 `a1 100\r\n",
      "2 2   200\r\n",
      "3 `a1 300\r\n",
      "2 3   400\r\n",
      "3 2   500\r\n"
     ]
    }
   ],
   "source": [
    "show tn:([] k:1 2 3 2 3; p:(`a1;2;`a1;3;2); v:100 200 300 400 500)\n"
   ]
  },
  {
   "cell_type": "code",
   "execution_count": 31,
   "metadata": {},
   "outputs": [],
   "source": [
    "mkNames:{\n",
    "  x:(::),x;       / added dummy element so it becomes list?\n",
    "  x:1_x:@[x; where not 10h=type each x; string];   / converted each value to string\n",
    "  `$@[x; where not any x[;0] within/: (\"AZ\";\"az\"); \"X_\",]} / if first char is not letter add X_\n"
   ]
  },
  {
   "cell_type": "code",
   "execution_count": 32,
   "metadata": {},
   "outputs": [],
   "source": [
    "dopivot:{[t; kn; pn; vn]\n",
    "  t:![t; (); 0b; (1#pn)!enlist (`mkNames; pn)];  / apply mkNames to all  values in column\n",
    "  P:?[t; (); (); (distinct; pn)];\n",
    "  ?[t;(); (1#kn)!1#kn; (#;`P;(!;pn;vn))]}\n"
   ]
  },
  {
   "cell_type": "code",
   "execution_count": 33,
   "metadata": {},
   "outputs": [
    {
     "data": {
      "text/plain": [
       "k| a1  X_2 X_3\r\n",
       "-| -----------\r\n",
       "1| 100        \r\n",
       "2|     200 400\r\n",
       "3| 300 500    \r\n"
      ]
     },
     "execution_count": 33,
     "metadata": {},
     "output_type": "execute_result"
    }
   ],
   "source": [
    "dopivot[tn;`k;`p;`v]"
   ]
  },
  {
   "cell_type": "code",
   "execution_count": 36,
   "metadata": {},
   "outputs": [
    {
     "data": {
      "text/plain": [
       "::\r\n",
       "`a1\r\n",
       "3\r\n",
       "`a7\r\n"
      ]
     },
     "execution_count": 36,
     "metadata": {},
     "output_type": "execute_result"
    }
   ],
   "source": [
    "x:(`a1;3;`a7)\n",
    "x:(::),x\n",
    "x"
   ]
  },
  {
   "cell_type": "code",
   "execution_count": 38,
   "metadata": {},
   "outputs": [
    {
     "data": {
      "text/plain": [
       "0 1 2 3\r\n"
      ]
     },
     "execution_count": 38,
     "metadata": {},
     "output_type": "execute_result"
    }
   ],
   "source": [
    "where not 10h=type each x"
   ]
  },
  {
   "cell_type": "code",
   "execution_count": 41,
   "metadata": {},
   "outputs": [
    {
     "data": {
      "text/plain": [
       "\"a1\"\r\n",
       ",\"3\"\r\n",
       "\"a7\"\r\n"
      ]
     },
     "execution_count": 41,
     "metadata": {},
     "output_type": "execute_result"
    }
   ],
   "source": [
    "1_x:@[x; where not 10h=type each x; string]"
   ]
  },
  {
   "cell_type": "markdown",
   "metadata": {},
   "source": [
    "8. Next, we generalize to the case when there are multiple entries in v for a single key value. For example, applied to tr below, our current dopivot misses the 1000 value in v."
   ]
  },
  {
   "cell_type": "code",
   "execution_count": 43,
   "metadata": {},
   "outputs": [
    {
     "name": "stdout",
     "output_type": "stream",
     "text": [
      "k p  v   \r\n",
      "---------\r\n",
      "1 a1 100 \r\n",
      "2 a2 200 \r\n",
      "3 a1 300 \r\n",
      "2 a3 400 \r\n",
      "3 a2 500 \r\n",
      "1 a1 1000\r\n"
     ]
    }
   ],
   "source": [
    "/ 2 values for (1;a1): 100 and 1000\n",
    "show tr:([]k:1 2 3 2 3 1; p:`a1`a2`a1`a3`a2`a1; v:100 200 300 400 500 1000)"
   ]
  },
  {
   "cell_type": "markdown",
   "metadata": {},
   "source": [
    "We would like to apply an aggregate function such as sum to obtain,"
   ]
  },
  {
   "cell_type": "code",
   "execution_count": 47,
   "metadata": {},
   "outputs": [],
   "source": [
    "dopivot:{[t; agg; kn; pn; vn]\n",
    "  t:![t; (); 0b; (1#pn)!enlist (`mkNames; pn)];  / apply mkNames to all  alues in column\n",
    "  t:?[t; (); (kn,pn)!kn,pn; (1#vn)!enlist (agg;vn)];\n",
    "  P:?[t; (); (); (distinct; pn)];\n",
    "  ?[t;(); (1#kn)!1#kn; (#;`P;(!;pn;vn))]}"
   ]
  },
  {
   "cell_type": "code",
   "execution_count": 48,
   "metadata": {},
   "outputs": [
    {
     "data": {
      "text/plain": [
       "k| a1   a2  a3 \r\n",
       "-| ------------\r\n",
       "1| 1100        \r\n",
       "2|      200 400\r\n",
       "3| 300  500    \r\n"
      ]
     },
     "execution_count": 48,
     "metadata": {},
     "output_type": "execute_result"
    }
   ],
   "source": [
    "dopivot[tr;sum;`k;`p;`v]"
   ]
  },
  {
   "cell_type": "markdown",
   "metadata": {},
   "source": [
    "9. We would like to handle the case of compound keys – e.g., k1 and k2 in tk below."
   ]
  },
  {
   "cell_type": "code",
   "execution_count": 49,
   "metadata": {},
   "outputs": [
    {
     "name": "stdout",
     "output_type": "stream",
     "text": [
      "k1 k2 p  v    \r\n",
      "--------------\r\n",
      "1  10 a1 100  \r\n",
      "2  20 a2 200  \r\n",
      "3  30 a1 300  \r\n",
      "2  40 a3 400  \r\n",
      "3  50 a2 500  \r\n",
      "1  60 a1 1000 \r\n",
      "1  10 a1 10000\r\n"
     ]
    }
   ],
   "source": [
    "k1:1 2 3 2 3 1 1\n",
    "k2:10 20 30 40 50 60 10\n",
    "p:`a1`a2`a1`a3`a2`a1`a1\n",
    "v:100 200 300 400 500 1000 10000\n",
    "show tk:([]k1:k1; k2:k2; p:p; v:v)"
   ]
  },
  {
   "cell_type": "markdown",
   "metadata": {},
   "source": [
    "Modify dopivot to take a list of key column names and test it on tk."
   ]
  },
  {
   "cell_type": "code",
   "execution_count": 50,
   "metadata": {},
   "outputs": [
    {
     "data": {
      "text/plain": [
       "k1 k2| a1    a2  a3 \r\n",
       "-----| -------------\r\n",
       "1  10| 10100        \r\n",
       "1  60| 1000         \r\n",
       "2  20|       200    \r\n",
       "2  40|           400\r\n",
       "3  30| 300          \r\n",
       "3  50|       500    \r\n"
      ]
     },
     "execution_count": 50,
     "metadata": {},
     "output_type": "execute_result"
    }
   ],
   "source": [
    "dopivot:{[t; agg; ks; pn; vn]\n",
    "  ks,:();\n",
    "  t:![t; (); 0b; (1#pn)!enlist (`mkNames; pn)];\n",
    "  t:?[t; (); (ks,pn)!ks,pn; (1#vn)!enlist (agg;vn)];\n",
    "  P:?[t; (); (); (distinct; pn)];\n",
    "  ?[t;(); ks!ks; (#;`P;(!;pn;vn))]}\n",
    "dopivot[tk;sum;`k1`k2;`p;`v]"
   ]
  },
  {
   "cell_type": "markdown",
   "metadata": {},
   "source": [
    "10. Modify dopivot to accept a string argument representing a valid where phrase for the input table and use it to constrain the pivot. Test it against tk with the phrase k1<>2."
   ]
  },
  {
   "cell_type": "code",
   "execution_count": 51,
   "metadata": {},
   "outputs": [
    {
     "data": {
      "text/plain": [
       "k1 k2| a1    a2 \r\n",
       "-----| ---------\r\n",
       "1  10| 10100    \r\n",
       "1  60| 1000     \r\n",
       "3  30| 300      \r\n",
       "3  50|       500\r\n"
      ]
     },
     "execution_count": 51,
     "metadata": {},
     "output_type": "execute_result"
    }
   ],
   "source": [
    "dopivot:{[t; agg; wh; ks; pn; vn]\n",
    "  ks,:();\n",
    "  c:enlist parse wh;\n",
    "  t:?[t; c; 0b; (cols t)!cols t];\n",
    "  t:![t; (); 0b; (1#pn)!enlist (`mkNames; pn)];\n",
    "  t:?[t; (); (ks,pn)!ks,pn; (1#vn)!enlist (agg;vn)];\n",
    "  P:?[t; (); (); (distinct; pn)];\n",
    "  ?[t; (); ks!ks; (#;`P;(!;pn;vn))]}\n",
    "dopivot[tk;sum;\"k1<>2\";`k1`k2;`p;`v]"
   ]
  },
  {
   "cell_type": "markdown",
   "metadata": {},
   "source": [
    "11. Finally, modify dopivot to accept an empty list in the aggregate or the where parameters. In the former case, use first as the default aggregate; in the latter, perform no constraint. Test against tk with empty list arguments for both."
   ]
  },
  {
   "cell_type": "code",
   "execution_count": 52,
   "metadata": {},
   "outputs": [
    {
     "data": {
      "text/plain": [
       "k1 k2| a1   a2  a3 \r\n",
       "-----| ------------\r\n",
       "1  10| 100         \r\n",
       "1  60| 1000        \r\n",
       "2  20|      200    \r\n",
       "2  40|          400\r\n",
       "3  30| 300         \r\n",
       "3  50|      500    \r\n"
      ]
     },
     "execution_count": 52,
     "metadata": {},
     "output_type": "execute_result"
    }
   ],
   "source": [
    "dopivot:{[t; agg; wh; ks; pn; vn]\n",
    "  ks,:();\n",
    "  agg:first agg,first;\n",
    "  c:$[count wh; enlist parse wh; ()];\n",
    "  t:?[t; c; 0b; (cols t)!cols t];\n",
    "  t:![t; (); 0b; (1#pn)!enlist (`mkNames; pn)];\n",
    "  t:?[t; (); (ks,pn)!ks,pn; (1#vn)!enlist (agg;vn)];\n",
    "  P:?[t; (); (); (distinct; pn)];\n",
    "  ?[t; (); ks!ks; (#;`P;(!;pn;vn))]}\n",
    "dopivot[tk;();\"\";`k1`k2;`p;`v]"
   ]
  },
  {
   "cell_type": "code",
   "execution_count": 53,
   "metadata": {},
   "outputs": [
    {
     "data": {
      "text/plain": [
       "date      | aapl    ibm     intc   \r\n",
       "----------| -----------------------\r\n",
       "2015.01.01| 1693065 1668499 1700074\r\n",
       "2015.01.02| 1667313 1686058 1680353\r\n",
       "2015.01.03| 1679478 1682674 1689045\r\n",
       "2015.01.04| 1703002 1682709 1668598\r\n",
       "2015.01.05| 1683069 1688756 1693817\r\n",
       "2015.01.06| 1678786 1674017 1679108\r\n",
       "2015.01.07| 1685413 1690676 1680870\r\n",
       "2015.01.08| 1675548 1692420 1688387\r\n",
       "2015.01.09| 1680614 1663857 1667443\r\n",
       "2015.01.10| 1680781 1690581 1678134\r\n"
      ]
     },
     "execution_count": 53,
     "metadata": {},
     "output_type": "execute_result"
    }
   ],
   "source": [
    "t:`date xasc ([] date:2015.01.01+1000000?10; sym:1000000?`aapl`ibm`intc; qty:1+1000000?100)\n",
    "dopivot[t; sum; \"\"; `date; `sym; `qty] / ymmv"
   ]
  },
  {
   "cell_type": "code",
   "execution_count": null,
   "metadata": {},
   "outputs": [],
   "source": []
  }
 ],
 "metadata": {
  "kernelspec": {
   "display_name": "Q (kdb+)",
   "language": "q",
   "name": "qpk"
  },
  "language_info": {
   "file_extension": ".q",
   "mimetype": "text/x-q",
   "name": "q",
   "version": "3.6.0"
  }
 },
 "nbformat": 4,
 "nbformat_minor": 2
}

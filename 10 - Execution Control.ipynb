{
 "cells": [
  {
   "cell_type": "markdown",
   "metadata": {},
   "source": [
    "### 10.1.1 Basic Conditional Evaluation ( $ )"
   ]
  },
  {
   "cell_type": "markdown",
   "metadata": {},
   "source": [
    "**$[exprcond; exprtrue; exprfalse]**\n",
    "\n",
    "Here exprcond is an expression that evaluates to a boolean atom. Analogous to C, the result of exprcond can be any type whose underlying value is an integer. The result of the conditional is the evaluation of exprtrue when exprcond is not zero and exprfalse if it is zero."
   ]
  },
  {
   "cell_type": "code",
   "execution_count": 1,
   "metadata": {},
   "outputs": [
    {
     "data": {
      "text/plain": [
       "42\r\n"
      ]
     },
     "execution_count": 1,
     "metadata": {},
     "output_type": "execute_result"
    }
   ],
   "source": [
    "$[1b;42;9*6]"
   ]
  },
  {
   "cell_type": "markdown",
   "metadata": {},
   "source": [
    "Although evaluation of function arguments in q is eager, evaluation of the expressions in the conditional is short circuited, meaning that only the one selected for return is evaluated. Again in a fresh q session,"
   ]
  },
  {
   "cell_type": "code",
   "execution_count": 1,
   "metadata": {},
   "outputs": [
    {
     "data": {
      "text/plain": [
       "42\r\n"
      ]
     },
     "execution_count": 2,
     "metadata": {},
     "output_type": "execute_result"
    },
    {
     "data": {
      "text/plain": [
       "42\r\n"
      ]
     },
     "execution_count": 2,
     "metadata": {},
     "output_type": "execute_result"
    },
    {
     "ename": "\u001b[0;31mb\u001b[0m",
     "evalue": "\u001b[0;31mb\u001b[0m",
     "output_type": "error",
     "traceback": [
      "\u001b[0;31mevaluation error:\n\u001b[0m",
      "\u001b[0;31mb\u001b[0m",
      "\u001b[0;31m\u001b[0m",
      "\u001b[0;31m  [0]  b\r\n       ^\r\n\u001b[0m"
     ]
    }
   ],
   "source": [
    "$[1b;a:42;b:43]\n",
    "a\n",
    "b"
   ]
  },
  {
   "cell_type": "markdown",
   "metadata": {},
   "source": [
    "Observe that a test for zero in exprcond is redundant: remove that test and reverse the order of the second and third arguments."
   ]
  },
  {
   "cell_type": "code",
   "execution_count": 3,
   "metadata": {},
   "outputs": [
    {
     "data": {
      "text/plain": [
       "1.1\r\n"
      ]
     },
     "execution_count": 3,
     "metadata": {},
     "output_type": "execute_result"
    },
    {
     "data": {
      "text/plain": [
       "1.1\r\n"
      ]
     },
     "execution_count": 3,
     "metadata": {},
     "output_type": "execute_result"
    }
   ],
   "source": [
    "z:0\n",
    "$[z=0;1.1;-1.1]\n",
    "$[z;-1.1;1.1]"
   ]
  },
  {
   "cell_type": "markdown",
   "metadata": {},
   "source": [
    "### 10.1.2 Extended Conditional Evaluation ( $ )"
   ]
  },
  {
   "cell_type": "markdown",
   "metadata": {},
   "source": [
    "**Sequence of expressions rather than 1 expression**"
   ]
  },
  {
   "cell_type": "markdown",
   "metadata": {},
   "source": [
    "A similar effect can be achieved in q using an extended form of conditional evaluation with $.\n",
    "\n",
    "$[exprcond; [exprtrue1; …]; [exprfalse1; …]]"
   ]
  },
  {
   "cell_type": "code",
   "execution_count": 4,
   "metadata": {},
   "outputs": [
    {
     "data": {
      "text/plain": [
       "`Everything\r\n"
      ]
     },
     "execution_count": 4,
     "metadata": {},
     "output_type": "execute_result"
    }
   ],
   "source": [
    "v:42\n",
    "$[v=42; [a:6;b:7;`Everything]; [a:`Life;b:`the;c:`Universe;a,b,c]]"
   ]
  },
  {
   "cell_type": "markdown",
   "metadata": {},
   "source": [
    "**cascading form of if-else in which multiple tests  are made**"
   ]
  },
  {
   "cell_type": "markdown",
   "metadata": {},
   "source": [
    "A similar effect can be achieved in q with another extended form of conditional execution.\n",
    "\n",
    "$[exprcond1;exprtrue1; …;exprcondn;exprtruen;exprfalse]"
   ]
  },
  {
   "cell_type": "markdown",
   "metadata": {},
   "source": [
    "Any condition other than the first is only evaluated if all those prior to it have evaluated to zero. Otherwise put, a condition evaluating to non-zero short-circuits the evaluation of subsequent ones."
   ]
  },
  {
   "cell_type": "markdown",
   "metadata": {},
   "source": [
    "**multi-level conditions**"
   ]
  },
  {
   "cell_type": "markdown",
   "metadata": {},
   "source": [
    "Finally, the previous extended form of conditional execution can be further extended by substituting a bracketed sequence of expressions for any exprtrue or exprfalse.\n",
    "\n",
    "\n",
    "$[expr_cond1;[expr_true11; …]; …;\n",
    "    expr_condn;[expr_truen1; …];\n",
    "    [expr_false1; …]]"
   ]
  },
  {
   "cell_type": "markdown",
   "metadata": {},
   "source": [
    "### 10.1.3 Vector Conditional Evaluation ( ? )"
   ]
  },
  {
   "cell_type": "markdown",
   "metadata": {},
   "source": [
    "#### Triadic vector-conditional evaluation ? has the form,\n",
    "\n",
    "?[vb;exprtrue;exprfalse]\n",
    "\n",
    "where vb is a simple boolean list and exprtrue and exprfalse are of the same type and are either atoms or vectors that conform to vb. The result conforms to vb and selects from exprtrue in positions where vb is 1b and exprfalse in positions where vb has 0b. **All arguments of vector-conditional are fully executed. In other words, there is no short circuiting of evaluation.**"
   ]
  },
  {
   "cell_type": "code",
   "execution_count": 13,
   "metadata": {},
   "outputs": [
    {
     "data": {
      "text/plain": [
       "0 1 2 3 4 5 6 7 8 9\r\n"
      ]
     },
     "execution_count": 13,
     "metadata": {},
     "output_type": "execute_result"
    },
    {
     "data": {
      "text/plain": [
       "0 1 2 0 1 2 0 1 2 0\r\n"
      ]
     },
     "execution_count": 13,
     "metadata": {},
     "output_type": "execute_result"
    }
   ],
   "source": [
    "L:til 10\n",
    "L\n",
    "L mod 3"
   ]
  },
  {
   "cell_type": "code",
   "execution_count": 14,
   "metadata": {},
   "outputs": [
    {
     "data": {
      "text/plain": [
       "42 1 2 42 4 5 42 7 8 42\r\n"
      ]
     },
     "execution_count": 14,
     "metadata": {},
     "output_type": "execute_result"
    }
   ],
   "source": [
    "?[0<>L mod 3; L; 42]"
   ]
  },
  {
   "cell_type": "markdown",
   "metadata": {},
   "source": [
    "Vector conditional is especially useful with table columns."
   ]
  },
  {
   "cell_type": "code",
   "execution_count": 15,
   "metadata": {},
   "outputs": [
    {
     "data": {
      "text/plain": [
       "c1  c2 c3  mix\r\n",
       "--------------\r\n",
       "1.1 10 100 10 \r\n",
       "2.2 20 200 200\r\n",
       "3.3 30 300 300\r\n"
      ]
     },
     "execution_count": 15,
     "metadata": {},
     "output_type": "execute_result"
    }
   ],
   "source": [
    "t:([] c1:1.1 2.2 3.3; c2:10 20 30; c3:100 200 300)\n",
    "update mix:?[c1>2.0; c3; c2] from t"
   ]
  },
  {
   "cell_type": "markdown",
   "metadata": {},
   "source": [
    "### 10.1.4 if"
   ]
  },
  {
   "cell_type": "markdown",
   "metadata": {},
   "source": [
    "The imperative if statement conditionally evaluates a sequence of expressions. It is not a function and does not return a value. It has the form,\n",
    "\n",
    "if[exprcond;expr1; …;exprn]\n",
    "\n",
    "The exprcond is evaluated and if it is non-zero the expressions expr1 thru exprn are evaluated in left-to-right order. As with other conditionals, the brackets do not create lexical scope, so variables defined in the body exist in the same scope as the if."
   ]
  },
  {
   "cell_type": "code",
   "execution_count": null,
   "metadata": {},
   "outputs": [],
   "source": [
    "Here is an example that creates two global variables and modifies one."
   ]
  },
  {
   "cell_type": "code",
   "execution_count": 16,
   "metadata": {},
   "outputs": [],
   "source": [
    "a:42\n",
    "b:98.6"
   ]
  },
  {
   "cell_type": "code",
   "execution_count": 17,
   "metadata": {},
   "outputs": [],
   "source": [
    "if[a=42;x:6;y:7;b:a*b]"
   ]
  },
  {
   "cell_type": "code",
   "execution_count": 19,
   "metadata": {},
   "outputs": [
    {
     "data": {
      "text/plain": [
       "6\r\n"
      ]
     },
     "execution_count": 19,
     "metadata": {},
     "output_type": "execute_result"
    },
    {
     "data": {
      "text/plain": [
       "7\r\n"
      ]
     },
     "execution_count": 19,
     "metadata": {},
     "output_type": "execute_result"
    },
    {
     "data": {
      "text/plain": [
       "4141.2\r\n"
      ]
     },
     "execution_count": 19,
     "metadata": {},
     "output_type": "execute_result"
    }
   ],
   "source": [
    "x\n",
    "y\n",
    "b"
   ]
  },
  {
   "cell_type": "markdown",
   "metadata": {},
   "source": [
    "**Well-written q code rarely needs if. One example of legitimate use is pre-checking function arguments to abort execution for bad values.**"
   ]
  },
  {
   "cell_type": "markdown",
   "metadata": {},
   "source": [
    "### 10.1.5 do ( ~for)"
   ]
  },
  {
   "cell_type": "markdown",
   "metadata": {},
   "source": [
    "The imperative do statement allows repeated execution of a block of statements. It has the form,\n",
    "\n",
    "do[exprcount;expr1; …;exprn]\n",
    "\n",
    "where exprcount must evaluate to an non-negative integer. The expressions expr1 thru exprn are evaluated exprcount times in left-to-right order. Note that do is a statement, not a function, and does not have an explicit result.\n",
    "\n"
   ]
  },
  {
   "cell_type": "markdown",
   "metadata": {},
   "source": [
    "The following expression is a loopy computation of n factorial. It iterates n - 1 times, decrementing the factor f on each pass."
   ]
  },
  {
   "cell_type": "code",
   "execution_count": 20,
   "metadata": {},
   "outputs": [
    {
     "data": {
      "text/plain": [
       "120\r\n"
      ]
     },
     "execution_count": 20,
     "metadata": {},
     "output_type": "execute_result"
    }
   ],
   "source": [
    "n:5\n",
    "do[-1+f:r:n; r*:f-:1] / do not do this!\n",
    "r"
   ]
  },
  {
   "cell_type": "markdown",
   "metadata": {},
   "source": [
    "**The best recommendation about usage of do is: Don’t!**"
   ]
  },
  {
   "cell_type": "markdown",
   "metadata": {},
   "source": [
    "The only legitimate use of do that the author has encountered is to time the execution of a q expression that runs too quickly for the timer to get an accurate reading, but this has been obviated by the enhanced \\t command."
   ]
  },
  {
   "cell_type": "code",
   "execution_count": 21,
   "metadata": {},
   "outputs": [
    {
     "data": {
      "text/plain": [
       "8\r\n"
      ]
     },
     "execution_count": 21,
     "metadata": {},
     "output_type": "execute_result"
    },
    {
     "data": {
      "text/plain": [
       "329\r\n"
      ]
     },
     "execution_count": 21,
     "metadata": {},
     "output_type": "execute_result"
    },
    {
     "data": {
      "text/plain": [
       "337\r\n"
      ]
     },
     "execution_count": 21,
     "metadata": {},
     "output_type": "execute_result"
    }
   ],
   "source": [
    "\\t v*v:til 1000000\n",
    "\\t do[100; v*v:til 1000000]\n",
    "\\t:100 v*v:til 1000000"
   ]
  },
  {
   "cell_type": "markdown",
   "metadata": {},
   "source": [
    "### 10.1.6 while"
   ]
  },
  {
   "cell_type": "markdown",
   "metadata": {},
   "source": [
    "The imperative while statement is an iterator of the form,\n",
    "\n",
    "while[exprcond;expr1; …;exprn]\n",
    "\n",
    "where exprcond is evaluated and the expressions expr1 thru exprn are evaluated repeatedly in left-to-right order as long as exprcond is non-zero. The while statement is not a function, does not have an explicit result and does not introduce lexical scope."
   ]
  },
  {
   "cell_type": "markdown",
   "metadata": {},
   "source": [
    "Here is loopy factorial redone with while."
   ]
  },
  {
   "cell_type": "code",
   "execution_count": 22,
   "metadata": {},
   "outputs": [],
   "source": [
    "f:r:n:5"
   ]
  },
  {
   "cell_type": "code",
   "execution_count": 23,
   "metadata": {},
   "outputs": [
    {
     "data": {
      "text/plain": [
       "120\r\n"
      ]
     },
     "execution_count": 23,
     "metadata": {},
     "output_type": "execute_result"
    }
   ],
   "source": [
    "while[f-:1;r*:f] / do not do this either!\n",
    "r"
   ]
  },
  {
   "cell_type": "markdown",
   "metadata": {},
   "source": [
    "#### 10.1.7 Return and Signal"
   ]
  },
  {
   "cell_type": "markdown",
   "metadata": {},
   "source": [
    "Normal function application evaluates each expression in the function body in sequence and terminates after the last one. There are two mechanisms for ending the execution early: \n",
    "- one indicates successful completion \n",
    "- and the other signals abrupt termination.\n",
    "\n",
    "**To terminate function application immediately and return a normal value, use an empty assignment – that is, : with the return value to its right and no variable to its left.** \n",
    "\n",
    "For example, in the following instrumented function, application is terminated and the result is returned in the fourth expression. The final expression is never evaluated."
   ]
  },
  {
   "cell_type": "code",
   "execution_count": 24,
   "metadata": {},
   "outputs": [
    {
     "name": "stdout",
     "output_type": "stream",
     "text": [
      "\"Begin\"\n"
     ]
    },
    {
     "data": {
      "text/plain": [
       "20\r\n"
      ]
     },
     "execution_count": 24,
     "metadata": {},
     "output_type": "execute_result"
    }
   ],
   "source": [
    "f:{0N!\"Begin\"; a:x; b:y; :a*b; \"End\"}\n",
    "f[4;5]"
   ]
  },
  {
   "cell_type": "markdown",
   "metadata": {},
   "source": [
    "**To abort function execution immediately with an exception, use signal, which is single-quote ', with an error message to its right.** The error message can be provided as a symbol or string.\n",
    "\n",
    "You too can return pithy error messages. For example, in the following function, execution will be aborted in the fourth expression. The final expression that assigns c is never evaluated."
   ]
  },
  {
   "cell_type": "code",
   "execution_count": 24,
   "metadata": {},
   "outputs": [
    {
     "name": "stdout",
     "output_type": "stream",
     "text": [
      "\"Begin\"\n"
     ]
    },
    {
     "ename": "\u001b[0;31mEnd\u001b[0m",
     "evalue": "\u001b[0;31mEnd\u001b[0m",
     "output_type": "error",
     "traceback": [
      "\u001b[0;31mevaluation error:\n\u001b[0m",
      "\u001b[0;31mEnd\u001b[0m",
      "\u001b[0;31m\u001b[0m",
      "\u001b[0;31m  [0]  g[4;5]\r\n       ^\r\n\u001b[0m"
     ]
    }
   ],
   "source": [
    "g:{0N!\"Begin\"; a:x; b:y; '\"End\"; c:b}\n",
    "g[4;5]"
   ]
  },
  {
   "cell_type": "markdown",
   "metadata": {},
   "source": [
    "A legitimate use of the if statement is to terminate execution with an exception. The following snippet would typically reside inside a function body."
   ]
  },
  {
   "cell_type": "code",
   "execution_count": 24,
   "metadata": {},
   "outputs": [
    {
     "ename": "\u001b[0;31mBad a\u001b[0m",
     "evalue": "\u001b[0;31mBad a\u001b[0m",
     "output_type": "error",
     "traceback": [
      "\u001b[0;31mevaluation error:\n\u001b[0m",
      "\u001b[0;31mBad a\u001b[0m",
      "\u001b[0;31m\u001b[0m",
      "\u001b[0;31m  [0]  if[a<50; '\"Bad a\"];\r\n                 ^\r\n\u001b[0m"
     ]
    }
   ],
   "source": [
    "if[a<50; '\"Bad a\"];"
   ]
  },
  {
   "cell_type": "markdown",
   "metadata": {},
   "source": [
    "#### 10.1.8 Protected Evaluation ( ~ try-catch)"
   ]
  },
  {
   "cell_type": "markdown",
   "metadata": {},
   "source": [
    "Q provides a try-catch capability using triadic forms of function application. Triadic @ is used for monadic functions and triadic . is used for multivalent functions. The syntax is the same for both.\n",
    "\n",
    "@[fmon;a;exprfail]\n",
    "\n",
    ".[fmul;Largs;exprfail]\n",
    "\n",
    "Here fmon is a monadic function, a is single argument, fmul is a multivalent function, Largs is a list of arguments, and exprfail is an expression or function. In both forms, the function is applied to its argument(s). Upon successful application, protected evaluation returns the result of the application. Should an exception arise, exprfail is applied to the resulting error string."
   ]
  },
  {
   "cell_type": "markdown",
   "metadata": {},
   "source": [
    "You can use protected evaluation to log error messages from exceptions that would otherwise crash your program."
   ]
  },
  {
   "cell_type": "code",
   "execution_count": 25,
   "metadata": {},
   "outputs": [
    {
     "data": {
      "text/plain": [
       "42\r\n"
      ]
     },
     "execution_count": 25,
     "metadata": {},
     "output_type": "execute_result"
    },
    {
     "name": "stdout",
     "output_type": "stream",
     "text": [
      "\"type\"\r\n"
     ]
    }
   ],
   "source": [
    "prod:{x*y}\n",
    ".[prod; (6;7); show]\n",
    ".[prod; (6;`7); show]"
   ]
  },
  {
   "cell_type": "markdown",
   "metadata": {},
   "source": [
    "### 10.2 Debugging"
   ]
  },
  {
   "cell_type": "markdown",
   "metadata": {},
   "source": [
    "#### Simplest technique"
   ]
  },
  {
   "cell_type": "markdown",
   "metadata": {},
   "source": [
    "Let’s get real. **Say you want to set a breakpoint in your q program. Easy: just insert a line that you know will fail – use an undefined name.** For example, to pause execution before the last expression in the function f below, insert any undefined name there – “break” is commonly used."
   ]
  },
  {
   "cell_type": "code",
   "execution_count": 0,
   "metadata": {},
   "outputs": [
    {
     "ename": "\u001b[0;31mbreak\u001b[0m",
     "evalue": "\u001b[0;31mbreak\u001b[0m",
     "output_type": "error",
     "traceback": [
      "\u001b[0;31mevaluation error:\n\u001b[0m",
      "\u001b[0;31mbreak\u001b[0m",
      "\u001b[0;31m\u001b[0m",
      "\u001b[0;31m  [1]  f:{a:x*x; b:y*y; break; a+b}\r\n                        ^\r\n\u001b[0m",
      "\u001b[0;31m  [0]  f[3;4]\r\n       ^\r\n\u001b[0m"
     ]
    }
   ],
   "source": [
    "f:{a:x*x; b:y*y; a+b}\n",
    "f:{a:x*x; b:y*y; break; a+b}\n",
    "f[3;4]"
   ]
  },
  {
   "cell_type": "markdown",
   "metadata": {},
   "source": [
    "**In a q session, you can tell that execution has been suspended by the extra parenthesis at the q prompt.** At this point, you have the full power of the q console available to inspect the current state of your program."
   ]
  },
  {
   "cell_type": "markdown",
   "metadata": {},
   "source": [
    "**Once you have finished your inspection and debugging, you should either return from the function with a value or abort execution using \\ .** In either case, the extra ) at the q prompt will disappear."
   ]
  },
  {
   "cell_type": "markdown",
   "metadata": {},
   "source": [
    ":\n",
    "or\n",
    "\\"
   ]
  },
  {
   "cell_type": "markdown",
   "metadata": {},
   "source": [
    "#### More complex technique"
   ]
  },
  {
   "cell_type": "markdown",
   "metadata": {},
   "source": [
    "A slightly more sophisticated technique allows you to continue execution after the break. Here we cause the break one level lower. A forced return entered at the console completes the breakpoint execution and continues execution of f.\n",
    "\n",
    "(Examples work in real q console, not sure how is this different from the simplest one)"
   ]
  },
  {
   "cell_type": "code",
   "execution_count": 0,
   "metadata": {},
   "outputs": [
    {
     "ename": "\u001b[0;31mbreak\u001b[0m",
     "evalue": "\u001b[0;31mbreak\u001b[0m",
     "output_type": "error",
     "traceback": [
      "\u001b[0;31mevaluation error:\n\u001b[0m",
      "\u001b[0;31mbreak\u001b[0m",
      "\u001b[0;31m\u001b[0m",
      "\u001b[0;31m  [2]  breakpoint:{break}\r\n                  ^\r\n\u001b[0m",
      "\u001b[0;31m  [1]  f:{a:x*x; b:y*y; breakpoint[]; a+b}\r\n                        ^\r\n\u001b[0m",
      "\u001b[0;31m  [0]  f[3;4]\r\n       ^\r\n\u001b[0m"
     ]
    }
   ],
   "source": [
    "breakpoint:{break}\n",
    "f:{a:x*x; b:y*y; breakpoint[]; a+b}\n",
    "f[3;4]"
   ]
  },
  {
   "cell_type": "markdown",
   "metadata": {},
   "source": [
    "#### debug zs function"
   ]
  },
  {
   "cell_type": "code",
   "execution_count": 1,
   "metadata": {},
   "outputs": [],
   "source": [
    "zs:{`d`P`L`G`D!(system\"d\"),v[1 2 3],enlist last v:value x}"
   ]
  },
  {
   "cell_type": "markdown",
   "metadata": {},
   "source": [
    "This function takes another function as its argument and returns a dictionary with entries for the current directory, function parameters, local variables referenced, global variables referenced and the function definition."
   ]
  },
  {
   "cell_type": "code",
   "execution_count": 3,
   "metadata": {},
   "outputs": [
    {
     "data": {
      "text/plain": [
       "d| `.\r\n",
       "P| ,`x\r\n",
       "L| ,`a\r\n",
       "G| ``b\r\n",
       "D| \"{a:6; x+a*b}\"\r\n"
      ]
     },
     "execution_count": 3,
     "metadata": {},
     "output_type": "execute_result"
    }
   ],
   "source": [
    "b:7\n",
    "f:{a:6; x+a*b}\n",
    "zs f"
   ]
  },
  {
   "cell_type": "markdown",
   "metadata": {},
   "source": [
    "A good place to start with zs when you have suspended execution is with the system variable .z.s that holds the suspended function itself."
   ]
  },
  {
   "cell_type": "markdown",
   "metadata": {},
   "source": [
    "### 10.3 Scripts"
   ]
  },
  {
   "cell_type": "markdown",
   "metadata": {},
   "source": [
    "A script is a q program stored in a text file with an extension of .q (or .k if you are writing k code). A script can contain any q expressions or commands. The contents of the script are parsed and evaluated sequentially from top to bottom. Global entities created during execution of the script exist in the workspace after the script is loaded and executed."
   ]
  },
  {
   "cell_type": "markdown",
   "metadata": {},
   "source": [
    "#### 10.3.1 Creating and Loading a Script (\\l)"
   ]
  },
  {
   "cell_type": "markdown",
   "metadata": {},
   "source": [
    "A script can be loaded at any time during a session using the \\l command, called load.\n",
    "\n",
    "\\l /q4m/trades.q\n",
    "\n",
    "You can have q load a script on startup by placing its name after the call to the q executable on the operating system command line.\n",
    "\n",
    "$q /q4m/trades.q"
   ]
  },
  {
   "cell_type": "markdown",
   "metadata": {},
   "source": [
    "#### 10.3.2 Blocks"
   ]
  },
  {
   "cell_type": "markdown",
   "metadata": {},
   "source": [
    "You can comment out a block of code (i.e., multiple lines) in a script by surrounding it with matching / and \\ with each at the beginning of its own line. \n",
    "\n",
    "An unmatched \\ at the beginning of a line exits the script."
   ]
  },
  {
   "cell_type": "code",
   "execution_count": 4,
   "metadata": {},
   "outputs": [
    {
     "data": {
      "text/plain": [
       "5\r\n"
      ]
     },
     "execution_count": 4,
     "metadata": {},
     "output_type": "execute_result"
    }
   ],
   "source": [
    "/\n",
    "sadsddsa\n",
    "afsadas\n",
    "addm\n",
    "\\\n",
    "a:5\n",
    "a"
   ]
  },
  {
   "cell_type": "markdown",
   "metadata": {},
   "source": [
    "**Multi-line expressions are permitted in a script but they have a special form.**\n",
    "\n",
    "- The first line must not be indented – i.e., it begins at the left of the line with no initial whitespace.\n",
    "- Any continuation lines must be indented, meaning that there is at least one whitespace character at the beginning of the line.\n",
    "- In particular, if you put the closing brace to a function definition on its own line, it must be indented. Do not use the common C style of aligning the closing brace with the function name.\n",
    "- Empty lines and comment lines (beginning with /) are permitted anywhere.\n",
    "- Table definition and function definition provide nice opportunities for splitting across multiple lines:\n",
    "\n",
    "\n",
    "\n",
    "- A table can have line breaks after a closing square bracket ] or after a semicolon separator ;\n",
    "- A function can have line breaks after a closing square bracket ] or after a comma separator ,."
   ]
  },
  {
   "cell_type": "markdown",
   "metadata": {},
   "source": [
    "#### 10.3.3 Passing Parameters"
   ]
  },
  {
   "cell_type": "markdown",
   "metadata": {},
   "source": [
    "Parameters are passed to a q script at q startup similarly to argv command line parameters in C. Specifically, the system variable **.z.x** comprises a list of strings, each containing the character representation of an argument present on the command line that invoked the script. "
   ]
  },
  {
   "cell_type": "code",
   "execution_count": 10,
   "metadata": {},
   "outputs": [],
   "source": [
    "mktrades:{[tickers; sz]\n",
    "  dt:2015.01.01+sz?31;\n",
    "  tm:sz?24:00:00.000;\n",
    "  sym:sz?tickers;\n",
    "  qty:10*1+sz?1000;\n",
    "  px:90.0+(sz?2001)%100;\n",
    "  t:([] dt; tm; sym; qty; px);\n",
    "  t:`dt`tm xasc t;\n",
    "  t:update px:6*px from t where sym=`goog;\n",
    "  t:update px:2*px from t where sym=`ibm;\n",
    "  t}\n",
    "\n",
    "size:\"I\"$.z.x 0\n",
    "\n",
    "trades:mktrades[`aapl`goog`ibm; size]"
   ]
  },
  {
   "cell_type": "markdown",
   "metadata": {},
   "source": [
    "q /q4m/trades.q 2000000"
   ]
  },
  {
   "cell_type": "markdown",
   "metadata": {},
   "source": [
    "As of this writing (Sep 2015), parameters can be passed when a script is loaded at q startup but not when a script is loaded with \\l or system “l”."
   ]
  }
 ],
 "metadata": {
  "kernelspec": {
   "display_name": "Q (kdb+)",
   "language": "q",
   "name": "qpk"
  },
  "language_info": {
   "file_extension": ".q",
   "mimetype": "text/x-q",
   "name": "q",
   "version": "3.6.0"
  }
 },
 "nbformat": 4,
 "nbformat_minor": 2
}

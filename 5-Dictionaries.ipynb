{
 "cells": [
  {
   "cell_type": "markdown",
   "metadata": {},
   "source": [
    "### 5.1 Dictionary Basics"
   ]
  },
  {
   "cell_type": "markdown",
   "metadata": {},
   "source": [
    "A **dictionary** is an association between a list of keys and a list of values. Logically it can also be considered as key-value pairs but it is stored physically as a pair of lists.\n",
    "**Not necessary unique keys!**"
   ]
  },
  {
   "cell_type": "markdown",
   "metadata": {},
   "source": [
    "Dictionary creation uses the ! operator – read \"bang\" – in contrast with the syntactic form for lists.\n",
    "\n",
    "**keys!values**\n",
    "\n",
    "All dictionaries have type 99h."
   ]
  },
  {
   "cell_type": "code",
   "execution_count": 1,
   "metadata": {},
   "outputs": [
    {
     "data": {
      "text/plain": [
       "10| 1.1\r\n",
       "20| 2.2\r\n",
       "30| 3.3\r\n"
      ]
     },
     "execution_count": 1,
     "metadata": {},
     "output_type": "execute_result"
    }
   ],
   "source": [
    "10 20 30!1.1 2.2 3.3\n"
   ]
  },
  {
   "cell_type": "markdown",
   "metadata": {},
   "source": [
    "A dictionary can be decomposed into its key and value lists using the primitives **key** and **value**. The common number of keys or values is returned by **count**."
   ]
  },
  {
   "cell_type": "code",
   "execution_count": 2,
   "metadata": {},
   "outputs": [
    {
     "data": {
      "text/plain": [
       "`a`b`c\r\n"
      ]
     },
     "execution_count": 2,
     "metadata": {},
     "output_type": "execute_result"
    },
    {
     "data": {
      "text/plain": [
       "100 200 300\r\n"
      ]
     },
     "execution_count": 2,
     "metadata": {},
     "output_type": "execute_result"
    },
    {
     "data": {
      "text/plain": [
       "3\r\n"
      ]
     },
     "execution_count": 2,
     "metadata": {},
     "output_type": "execute_result"
    }
   ],
   "source": [
    "d:`a`b`c!100 200 300\n",
    "key d\n",
    "value d\n",
    "count d"
   ]
  },
  {
   "cell_type": "markdown",
   "metadata": {},
   "source": [
    "When you know that the keys are unique you can apply the `u# attribute to the keys. This will effectively cause the dictionary to be a hash table with the attendant improvement in lookup speed over the default linear lookup."
   ]
  },
  {
   "cell_type": "code",
   "execution_count": 3,
   "metadata": {},
   "outputs": [
    {
     "data": {
      "text/plain": [
       "10| 1.1\r\n",
       "20| 2.2\r\n",
       "30| 3.3\r\n"
      ]
     },
     "execution_count": 3,
     "metadata": {},
     "output_type": "execute_result"
    }
   ],
   "source": [
    "s:(`u#10 20 30)!1.1 2.2 3.3\n",
    "s"
   ]
  },
  {
   "cell_type": "markdown",
   "metadata": {},
   "source": [
    "The order of the items in the key and value lists is significant, just as positional order is significant for lists. Although the I/O assignments and the associated mappings are equivalent regardless of order, differently ordered dictionaries are not identical."
   ]
  },
  {
   "cell_type": "code",
   "execution_count": 6,
   "metadata": {},
   "outputs": [
    {
     "data": {
      "text/plain": [
       "0b\r\n"
      ]
     },
     "execution_count": 6,
     "metadata": {},
     "output_type": "execute_result"
    },
    {
     "data": {
      "text/plain": [
       "a| 1\r\n",
       "b| 0\r\n",
       "c| 1\r\n"
      ]
     },
     "execution_count": 6,
     "metadata": {},
     "output_type": "execute_result"
    }
   ],
   "source": [
    "(`a`b`c!10 20 30)~`a`c`b!10 30 20\n",
    "(`a`b`c!10 20 30)=`a`c`b!10 30 20 / element-wise comparison"
   ]
  },
  {
   "cell_type": "markdown",
   "metadata": {},
   "source": [
    "#### 5.1.2 Empty and Singleton Dictionaries"
   ]
  },
  {
   "cell_type": "markdown",
   "metadata": {},
   "source": [
    "##### empty dictionary"
   ]
  },
  {
   "cell_type": "code",
   "execution_count": 7,
   "metadata": {},
   "outputs": [
    {
     "data": {
      "text/plain": []
     },
     "execution_count": 7,
     "metadata": {},
     "output_type": "execute_result"
    }
   ],
   "source": [
    "()!()  / general empty dictionary"
   ]
  },
  {
   "cell_type": "code",
   "execution_count": 9,
   "metadata": {},
   "outputs": [
    {
     "data": {
      "text/plain": []
     },
     "execution_count": 9,
     "metadata": {},
     "output_type": "execute_result"
    }
   ],
   "source": [
    "(`symbol$())!`float$() / typed empty disctionary"
   ]
  },
  {
   "cell_type": "markdown",
   "metadata": {},
   "source": [
    "##### singleton dictionary"
   ]
  },
  {
   "cell_type": "code",
   "execution_count": null,
   "metadata": {},
   "outputs": [],
   "source": [
    "Because both the keys and values are required to be lists, you must enlist atoms for a singleton dictionary."
   ]
  },
  {
   "cell_type": "code",
   "execution_count": 12,
   "metadata": {},
   "outputs": [
    {
     "data": {
      "text/plain": [
       "x| 42\r\n"
      ]
     },
     "execution_count": 12,
     "metadata": {},
     "output_type": "execute_result"
    },
    {
     "data": {
      "text/plain": [
       "`x!42\r\n"
      ]
     },
     "execution_count": 12,
     "metadata": {},
     "output_type": "execute_result"
    }
   ],
   "source": [
    "(enlist `x)!enlist 42  / singleton dictionary\n",
    "`x!42                  / not a dictionary"
   ]
  },
  {
   "cell_type": "markdown",
   "metadata": {},
   "source": [
    "#### 5.1.3 Lookup"
   ]
  },
  {
   "cell_type": "code",
   "execution_count": 15,
   "metadata": {},
   "outputs": [
    {
     "data": {
      "text/plain": [
       "20\r\n"
      ]
     },
     "execution_count": 15,
     "metadata": {},
     "output_type": "execute_result"
    },
    {
     "data": {
      "text/plain": [
       "20\r\n"
      ]
     },
     "execution_count": 15,
     "metadata": {},
     "output_type": "execute_result"
    },
    {
     "data": {
      "text/plain": [
       "0N\r\n"
      ]
     },
     "execution_count": 15,
     "metadata": {},
     "output_type": "execute_result"
    }
   ],
   "source": [
    "d:`a`b`c!10 20 30\n",
    "d[`b]  / brackets indexing\n",
    "d `b   / juxtaposition indexing\n",
    "d[`x]  / lookup of a value that doesn't exist produces null"
   ]
  },
  {
   "cell_type": "code",
   "execution_count": 17,
   "metadata": {},
   "outputs": [
    {
     "data": {
      "text/plain": [
       "10 30\r\n"
      ]
     },
     "execution_count": 17,
     "metadata": {},
     "output_type": "execute_result"
    },
    {
     "data": {
      "text/plain": [
       "10 30\r\n"
      ]
     },
     "execution_count": 17,
     "metadata": {},
     "output_type": "execute_result"
    }
   ],
   "source": [
    "d[`a`c]    / indexing is extended item-wise to a simple list of keys.\n",
    "d (`a; `c)"
   ]
  },
  {
   "cell_type": "markdown",
   "metadata": {},
   "source": [
    "#### 5.1.4 Reverse Lookup with Find ?"
   ]
  },
  {
   "cell_type": "markdown",
   "metadata": {},
   "source": [
    "? on a dictionary performs reverse lookup by mapping a value item to the first key associated to it."
   ]
  },
  {
   "cell_type": "code",
   "execution_count": 27,
   "metadata": {},
   "outputs": [
    {
     "data": {
      "text/plain": [
       "a| 10\r\n",
       "b| 20\r\n",
       "c| 30\r\n",
       "a| 20\r\n"
      ]
     },
     "execution_count": 27,
     "metadata": {},
     "output_type": "execute_result"
    },
    {
     "data": {
      "text/plain": [
       "`b\r\n"
      ]
     },
     "execution_count": 27,
     "metadata": {},
     "output_type": "execute_result"
    }
   ],
   "source": [
    "d:`a`b`c`a!10 20 30 20\n",
    "d\n",
    "d?20"
   ]
  },
  {
   "cell_type": "markdown",
   "metadata": {},
   "source": [
    "#### 5.1.5 Dictionary vs. List"
   ]
  },
  {
   "cell_type": "code",
   "execution_count": 23,
   "metadata": {},
   "outputs": [
    {
     "data": {
      "text/plain": [
       "0b\r\n"
      ]
     },
     "execution_count": 23,
     "metadata": {},
     "output_type": "execute_result"
    }
   ],
   "source": [
    "L:10 20 30\n",
    "d:0 1 2!10 20 30\n",
    "L~d"
   ]
  },
  {
   "cell_type": "markdown",
   "metadata": {},
   "source": [
    "The two are not the same. A major difference is that dictionaries can be extended via assignment and a list cannot."
   ]
  },
  {
   "cell_type": "markdown",
   "metadata": {},
   "source": [
    "#### 5.1.6 Non-unique Keys and Values"
   ]
  },
  {
   "cell_type": "code",
   "execution_count": 29,
   "metadata": {},
   "outputs": [
    {
     "data": {
      "text/plain": [
       "10\r\n"
      ]
     },
     "execution_count": 29,
     "metadata": {},
     "output_type": "execute_result"
    },
    {
     "data": {
      "text/plain": [
       "`b\r\n"
      ]
     },
     "execution_count": 29,
     "metadata": {},
     "output_type": "execute_result"
    },
    {
     "data": {
      "text/plain": [
       "`b`a\r\n"
      ]
     },
     "execution_count": 29,
     "metadata": {},
     "output_type": "execute_result"
    }
   ],
   "source": [
    "ddup:`a`b`a`c!10 20 30 20   / non-unique keys are tolerated\n",
    "ddup[`a]                    / lookup returns only first value\n",
    "ddup?20                     / reverse lookup returns only first value\n",
    "where 20=d                  / list of all keys for given value"
   ]
  },
  {
   "cell_type": "markdown",
   "metadata": {},
   "source": [
    "#### 5.1.7 Non-simple Keys and Values"
   ]
  },
  {
   "cell_type": "markdown",
   "metadata": {},
   "source": [
    "Neither the key nor value lists of a dictionary are required to be atoms or uniform. Either can be nested lists.\n",
    "Be forewarned that an irregular key or value list – i.e., items do not conform – will confound lookup or reverse lookup, respectively."
   ]
  },
  {
   "cell_type": "code",
   "execution_count": 31,
   "metadata": {},
   "outputs": [
    {
     "data": {
      "text/plain": [
       "10\r\n"
      ]
     },
     "execution_count": 31,
     "metadata": {},
     "output_type": "execute_result"
    }
   ],
   "source": [
    "dwhackey:(1 2; 3 4 5; 6; 7 8)!10 20 30 40 / atom 6 is whack\n",
    "dwhackey 1 2"
   ]
  },
  {
   "cell_type": "code",
   "execution_count": 32,
   "metadata": {},
   "outputs": [
    {
     "data": {
      "text/plain": [
       "0N\r\n"
      ]
     },
     "execution_count": 32,
     "metadata": {},
     "output_type": "execute_result"
    }
   ],
   "source": [
    "dwhackey 6 / returns null as atom 6 doesnt conform"
   ]
  },
  {
   "cell_type": "markdown",
   "metadata": {},
   "source": [
    "### 5.2 Operations on Dictionaries"
   ]
  },
  {
   "cell_type": "markdown",
   "metadata": {},
   "source": [
    "#### 5.2.1 Amend and Upsert"
   ]
  },
  {
   "cell_type": "markdown",
   "metadata": {},
   "source": [
    "As with lists, the items of a dictionary can be modified via assignment to a key."
   ]
  },
  {
   "cell_type": "code",
   "execution_count": 33,
   "metadata": {},
   "outputs": [],
   "source": [
    "d:`a`b`c!10 20 30\n",
    "d[`b]:42            / amend"
   ]
  },
  {
   "cell_type": "markdown",
   "metadata": {},
   "source": [
    "**In contrast to lists, dictionaries can be extended via assignment.**"
   ]
  },
  {
   "cell_type": "code",
   "execution_count": 35,
   "metadata": {},
   "outputs": [
    {
     "data": {
      "text/plain": [
       "a| 10\r\n",
       "b| 42\r\n",
       "c| 30\r\n",
       "x| 66\r\n"
      ]
     },
     "execution_count": 35,
     "metadata": {},
     "output_type": "execute_result"
    }
   ],
   "source": [
    "d[`x]:66\n",
    "d"
   ]
  },
  {
   "cell_type": "markdown",
   "metadata": {},
   "source": [
    "**d[k]:v** <br>\n",
    "It updates the existing key-value association when k is in key d, or inserts (appends) a new key-value association when k is not in key d.\n",
    "This update/insert behavior is called **upsert** semantics. Because tables and keyed tables are dictionaries, upsert semantics pervade kdb+."
   ]
  },
  {
   "cell_type": "markdown",
   "metadata": {},
   "source": [
    "#### 5.2.2 Extracting a Sub-Dictionary"
   ]
  },
  {
   "cell_type": "markdown",
   "metadata": {},
   "source": [
    "Dictionary lookup on a key or a list of keys returns the associated values. It is possible to extract both keys and values using an overload of the **take operator #**. The left operand is a list of keys, the right operand is the source dictionary and the result is a sub-dictionary for the specified keys. "
   ]
  },
  {
   "cell_type": "code",
   "execution_count": 37,
   "metadata": {},
   "outputs": [
    {
     "data": {
      "text/plain": [
       "10 30\r\n"
      ]
     },
     "execution_count": 37,
     "metadata": {},
     "output_type": "execute_result"
    },
    {
     "data": {
      "text/plain": [
       "a| 10\r\n",
       "c| 30\r\n"
      ]
     },
     "execution_count": 37,
     "metadata": {},
     "output_type": "execute_result"
    }
   ],
   "source": [
    "d:`a`b`c!10 20 30\n",
    "vlist:d `a`c   / list of values corresponding to keys\n",
    "vlist\n",
    "\n",
    "subd:`a`c#d    / subdictionary\n",
    "subd"
   ]
  },
  {
   "cell_type": "markdown",
   "metadata": {},
   "source": [
    "In the event of duplicate keys, only the first is extracted. <br>\n",
    "This operation works with non-simple keys."
   ]
  },
  {
   "cell_type": "markdown",
   "metadata": {},
   "source": [
    "#### 5.2.3 Removing Entries"
   ]
  },
  {
   "cell_type": "markdown",
   "metadata": {},
   "source": [
    "The adjoint operation to # is **_**, which removes key-value pairs. Its syntax is the same – i.e., a list of keys as the left operand and a dictionary on the right – and it returns the dictionary obtained by removing the key-value pairs for the specified keys."
   ]
  },
  {
   "cell_type": "code",
   "execution_count": 41,
   "metadata": {},
   "outputs": [
    {
     "data": {
      "text/plain": [
       "b| 20\r\n"
      ]
     },
     "execution_count": 41,
     "metadata": {},
     "output_type": "execute_result"
    },
    {
     "data": {
      "text/plain": [
       "a| 10\r\n",
       "c| 30\r\n"
      ]
     },
     "execution_count": 41,
     "metadata": {},
     "output_type": "execute_result"
    },
    {
     "data": {
      "text/plain": [
       "b| 20\r\n"
      ]
     },
     "execution_count": 41,
     "metadata": {},
     "output_type": "execute_result"
    },
    {
     "data": {
      "text/plain": [
       "\"(`symbol$())!`long$()\"\r\n"
      ]
     },
     "execution_count": 41,
     "metadata": {},
     "output_type": "execute_result"
    }
   ],
   "source": [
    "d:`a`b`c!10 20 30\n",
    "`a`c _ d\n",
    "`b _ d\n",
    "`a`c cut d    / cut is same as _\n",
    "-3!`a`b`c _ d / empty typed dictionary\n"
   ]
  },
  {
   "cell_type": "markdown",
   "metadata": {},
   "source": [
    "#### 5.2.4 Basic Operations on Dictionaries"
   ]
  },
  {
   "cell_type": "markdown",
   "metadata": {},
   "source": [
    "##### Monadic"
   ]
  },
  {
   "cell_type": "markdown",
   "metadata": {},
   "source": [
    " applying a function to a dictionary effectively applies it to the value list."
   ]
  },
  {
   "cell_type": "code",
   "execution_count": 44,
   "metadata": {},
   "outputs": [
    {
     "data": {
      "text/plain": [
       "a| -10\r\n",
       "b| -20\r\n",
       "c| -30\r\n"
      ]
     },
     "execution_count": 44,
     "metadata": {},
     "output_type": "execute_result"
    },
    {
     "data": {
      "text/plain": [
       "a| 20\r\n",
       "b| 40\r\n",
       "c| 60\r\n"
      ]
     },
     "execution_count": 44,
     "metadata": {},
     "output_type": "execute_result"
    },
    {
     "data": {
      "text/plain": [
       "a| 0\r\n",
       "b| 1\r\n",
       "c| 0\r\n"
      ]
     },
     "execution_count": 44,
     "metadata": {},
     "output_type": "execute_result"
    }
   ],
   "source": [
    "d:`a`b`c!10 20 30\n",
    "neg d\n",
    "2*d\n",
    "d=20"
   ]
  },
  {
   "cell_type": "code",
   "execution_count": 45,
   "metadata": {},
   "outputs": [
    {
     "data": {
      "text/plain": [
       "a| 100\r\n",
       "b| 400\r\n",
       "c| 900\r\n"
      ]
     },
     "execution_count": 45,
     "metadata": {},
     "output_type": "execute_result"
    }
   ],
   "source": [
    "f:{x*x}\n",
    "f d"
   ]
  },
  {
   "cell_type": "markdown",
   "metadata": {},
   "source": [
    "##### Dyadic"
   ]
  },
  {
   "cell_type": "markdown",
   "metadata": {},
   "source": [
    "When the domains ( lists of keys ) of two dictionary maps are identical, performing a dyadic operation is also straightforward: do it value-with-value along the keys. For example, to add two dictionaries with a common list of keys, add their corresponding values."
   ]
  },
  {
   "cell_type": "code",
   "execution_count": 47,
   "metadata": {},
   "outputs": [
    {
     "data": {
      "text/plain": [
       "a| 11\r\n",
       "b| 22\r\n",
       "c| 33\r\n"
      ]
     },
     "execution_count": 47,
     "metadata": {},
     "output_type": "execute_result"
    }
   ],
   "source": [
    "d1:`a`b`c!1 2 3\n",
    "d2:`a`b`c!10 20 30\n",
    "d1+d2"
   ]
  },
  {
   "cell_type": "markdown",
   "metadata": {},
   "source": [
    "When the domains ( lists of keys ) of two dictionary maps are different, \n",
    "- for common keys dyadic function will be applied to corresponding values\n",
    "- for missed keys value the only existing value will be used"
   ]
  },
  {
   "cell_type": "code",
   "execution_count": 48,
   "metadata": {},
   "outputs": [
    {
     "data": {
      "text/plain": [
       "a| 11\r\n",
       "b| 22\r\n",
       "d| 3\r\n",
       "c| 30\r\n"
      ]
     },
     "execution_count": 48,
     "metadata": {},
     "output_type": "execute_result"
    }
   ],
   "source": [
    "d1:`a`b`d!1 2 3\n",
    "d2:`a`b`c!10 20 30\n",
    "d1+d2"
   ]
  },
  {
   "cell_type": "markdown",
   "metadata": {},
   "source": [
    "#### 5.2.5 Join ,"
   ]
  },
  {
   "cell_type": "markdown",
   "metadata": {},
   "source": [
    "**The join operator ,** merges two dictionaries. "
   ]
  },
  {
   "cell_type": "markdown",
   "metadata": {},
   "source": [
    "When no common keys:"
   ]
  },
  {
   "cell_type": "code",
   "execution_count": 49,
   "metadata": {},
   "outputs": [
    {
     "data": {
      "text/plain": [
       "a| 10\r\n",
       "b| 20\r\n",
       "c| 30\r\n",
       "x| 40\r\n",
       "y| 50\r\n"
      ]
     },
     "execution_count": 49,
     "metadata": {},
     "output_type": "execute_result"
    }
   ],
   "source": [
    "d1:`a`b`c!10 20 30\n",
    "d2:`x`y!40 50\n",
    "d1,d2"
   ]
  },
  {
   "cell_type": "markdown",
   "metadata": {},
   "source": [
    "When there are common keys, , since q is right-to-left, **the value of the right operand prevails over that of the left.** <br>\n",
    "Entire right operand is upserted into the left operand. <br>\n",
    " join is not commutative: order matters."
   ]
  },
  {
   "cell_type": "code",
   "execution_count": 50,
   "metadata": {},
   "outputs": [
    {
     "data": {
      "text/plain": [
       "a| 100\r\n",
       "b| 200\r\n",
       "c| 300\r\n"
      ]
     },
     "execution_count": 50,
     "metadata": {},
     "output_type": "execute_result"
    }
   ],
   "source": [
    "d1:`a`b`c!10 20 30\n",
    "d2:`a`b`c!100 200 300\n",
    "d1,d2"
   ]
  },
  {
   "cell_type": "markdown",
   "metadata": {},
   "source": [
    "#### 5.2.6 Coalesce ^"
   ]
  },
  {
   "cell_type": "markdown",
   "metadata": {},
   "source": [
    "The coalesce operator is related to , in that it employs upsert semantics to merge two dictionaries. **The difference with , is that right values prevail over left except for nulls in the right.**"
   ]
  },
  {
   "cell_type": "code",
   "execution_count": 51,
   "metadata": {},
   "outputs": [
    {
     "data": {
      "text/plain": [
       "a| 10\r\n",
       "b| 200\r\n",
       "c| 30\r\n",
       "d| 400\r\n"
      ]
     },
     "execution_count": 51,
     "metadata": {},
     "output_type": "execute_result"
    }
   ],
   "source": [
    "d1:`a`b`c!10 0N 30\n",
    "d2:`b`c`d!200 0N 400\n",
    "d1^d2"
   ]
  },
  {
   "cell_type": "markdown",
   "metadata": {},
   "source": [
    "#### 5.2.7 Arithmetic And Relational Operations"
   ]
  },
  {
   "cell_type": "markdown",
   "metadata": {},
   "source": [
    "Following the general pattern, when an arithmetic operation is performed on dictionaries, the operation is performed on the common domain elements and the identity element implied elsewhere. Of course the value lists must have proper types for the operation."
   ]
  },
  {
   "cell_type": "markdown",
   "metadata": {},
   "source": [
    "For equality and comparison operations on dictionaries, the indicated operation is performed over the common keys. On disjoint keys, the appropriate null is effectively substituted for missing values. Due to all nulls being equal, a null value on a disjoint key ( key present only in 1 of 2 dictionaries ) will report 1b under equality test."
   ]
  },
  {
   "cell_type": "code",
   "execution_count": 52,
   "metadata": {},
   "outputs": [
    {
     "data": {
      "text/plain": [
       "a| 0\r\n",
       "b| 1\r\n",
       "c| 0\r\n",
       "d| 0\r\n"
      ]
     },
     "execution_count": 52,
     "metadata": {},
     "output_type": "execute_result"
    }
   ],
   "source": [
    "(`a`b`c!10 20 30)=`b`c`d!20 300 400"
   ]
  },
  {
   "cell_type": "code",
   "execution_count": 53,
   "metadata": {},
   "outputs": [
    {
     "data": {
      "text/plain": [
       "a| 1\r\n",
       "b| 1\r\n",
       "c| 0\r\n",
       "d| 1\r\n"
      ]
     },
     "execution_count": 53,
     "metadata": {},
     "output_type": "execute_result"
    }
   ],
   "source": [
    "(`a`b`c!0N 20 30)=`b`c`d!20 300 0N / key `a is disjoint with null value in left dict"
   ]
  },
  {
   "cell_type": "markdown",
   "metadata": {},
   "source": [
    "### 5.3 Column Dictionaries"
   ]
  },
  {
   "cell_type": "markdown",
   "metadata": {},
   "source": [
    "**Column dictionary** is dictionary which maps simple list of symbols to a rectangular list of lists.\n",
    "\n",
    "Interpreting each symbol as a name and the corresponding list as a vector of column values, we call such a list a column dictionary. A general column dictionary has the form,\n",
    "\n",
    "c1...cn!(v1;...;vn)\n",
    "\n",
    "where each ci is a symbol and the vi are lists with common length (count). Such a dictionary associates the name ci with the value list vi.\n"
   ]
  },
  {
   "cell_type": "code",
   "execution_count": 6,
   "metadata": {},
   "outputs": [
    {
     "data": {
      "text/plain": [
       "name| Dent Beeblebrox Prefect\r\n",
       "iq  | 42   98         126    \r\n"
      ]
     },
     "execution_count": 6,
     "metadata": {},
     "output_type": "execute_result"
    },
    {
     "data": {
      "text/plain": [
       "`Dent`Beeblebrox`Prefect\r\n"
      ]
     },
     "execution_count": 6,
     "metadata": {},
     "output_type": "execute_result"
    },
    {
     "data": {
      "text/plain": [
       "`Beeblebrox\r\n"
      ]
     },
     "execution_count": 6,
     "metadata": {},
     "output_type": "execute_result"
    },
    {
     "data": {
      "text/plain": [
       "`Beeblebrox\r\n"
      ]
     },
     "execution_count": 6,
     "metadata": {},
     "output_type": "execute_result"
    },
    {
     "data": {
      "text/plain": [
       "name| `Prefect\r\n",
       "iq  | 126\r\n"
      ]
     },
     "execution_count": 6,
     "metadata": {},
     "output_type": "execute_result"
    }
   ],
   "source": [
    "travelers:`name`iq!(`Dent`Beeblebrox`Prefect;42 98 126)\n",
    "travelers\n",
    "travelers[`name]\n",
    "travelers[`name][1]\n",
    "travelers[`name; 1]    /    indexing-at-depth\n",
    "travelers[; 2]         /    slicing, returns dictionary "
   ]
  },
  {
   "cell_type": "markdown",
   "metadata": {},
   "source": [
    "To summarize.\n",
    "\n",
    "- A column dictionary can be viewed as a two-dimensional entity with retrieval by name in the first dimension and by position within column in the second.\n",
    "- Specifying only a name retrieves the corresponding column, which can then be indexed by position.\n",
    "- Specifying only a column index retrieves a slice dictionary that maps the names to the associated values across that column index.\n",
    "\n",
    "This data structure has potential but there is a hitch: the indexing is backwards. That is, columns are retrieved in the first slot. Normally in two-dimensional data structures, columns are retrieved in the second slot."
   ]
  },
  {
   "cell_type": "code",
   "execution_count": 9,
   "metadata": {},
   "outputs": [
    {
     "data": {
      "text/plain": [
       "`c!1 2 3\r\n"
      ]
     },
     "execution_count": 9,
     "metadata": {},
     "output_type": "execute_result"
    },
    {
     "data": {
      "text/plain": [
       "c| 1 2 3\r\n"
      ]
     },
     "execution_count": 9,
     "metadata": {},
     "output_type": "execute_result"
    }
   ],
   "source": [
    "`c!1 2 3\n",
    "(enlist `c)!enlist 1 2 3  / second enlist produces list of lists, each with 1 element"
   ]
  },
  {
   "cell_type": "code",
   "execution_count": 25,
   "metadata": {},
   "outputs": [
    {
     "data": {
      "text/plain": [
       "10 20 30\r\n"
      ]
     },
     "execution_count": 25,
     "metadata": {},
     "output_type": "execute_result"
    },
    {
     "data": {
      "text/plain": [
       "10\r\n"
      ]
     },
     "execution_count": 25,
     "metadata": {},
     "output_type": "execute_result"
    },
    {
     "data": {
      "text/plain": [
       "20\r\n"
      ]
     },
     "execution_count": 25,
     "metadata": {},
     "output_type": "execute_result"
    },
    {
     "data": {
      "text/plain": [
       "10 20 30\r\n"
      ]
     },
     "execution_count": 25,
     "metadata": {},
     "output_type": "execute_result"
    },
    {
     "data": {
      "text/plain": [
       "20\r\n"
      ]
     },
     "execution_count": 25,
     "metadata": {},
     "output_type": "execute_result"
    }
   ],
   "source": [
    "d:enlist 10 20 30   / workd for each atom in list\n",
    "d[0]\n",
    "d[0][0]\n",
    "d[0][1]\n"
   ]
  },
  {
   "cell_type": "markdown",
   "metadata": {},
   "source": [
    "### 5.4 Flipping a Column Dictionary"
   ]
  },
  {
   "cell_type": "code",
   "execution_count": 26,
   "metadata": {},
   "outputs": [
    {
     "data": {
      "text/plain": [
       "c1| a  b  c \r\n",
       "c2| 10 20 30\r\n"
      ]
     },
     "execution_count": 26,
     "metadata": {},
     "output_type": "execute_result"
    }
   ],
   "source": [
    "dc:`c1`c2!(`a`b`c; 10 20 30)\n",
    "dc"
   ]
  },
  {
   "cell_type": "code",
   "execution_count": 27,
   "metadata": {},
   "outputs": [
    {
     "data": {
      "text/plain": [
       "c1 c2\r\n",
       "-----\r\n",
       "a  10\r\n",
       "b  20\r\n",
       "c  30\r\n"
      ]
     },
     "execution_count": 27,
     "metadata": {},
     "output_type": "execute_result"
    }
   ],
   "source": [
    "t:flip dc\n",
    "t"
   ]
  },
  {
   "cell_type": "code",
   "execution_count": 28,
   "metadata": {},
   "outputs": [
    {
     "data": {
      "text/plain": [
       "c1| 111b\r\n",
       "c2| 111b\r\n"
      ]
     },
     "execution_count": 28,
     "metadata": {},
     "output_type": "execute_result"
    }
   ],
   "source": [
    "dc = flip flip dc"
   ]
  },
  {
   "cell_type": "code",
   "execution_count": 29,
   "metadata": {},
   "outputs": [
    {
     "data": {
      "text/plain": [
       "`b\r\n"
      ]
     },
     "execution_count": 29,
     "metadata": {},
     "output_type": "execute_result"
    },
    {
     "data": {
      "text/plain": [
       "`b\r\n"
      ]
     },
     "execution_count": 29,
     "metadata": {},
     "output_type": "execute_result"
    }
   ],
   "source": [
    "dc[`c1;1]\n",
    "t[1;`c1]"
   ]
  },
  {
   "cell_type": "code",
   "execution_count": 31,
   "metadata": {},
   "outputs": [
    {
     "data": {
      "text/plain": [
       "c1| `a\r\n",
       "c2| 10\r\n"
      ]
     },
     "execution_count": 31,
     "metadata": {},
     "output_type": "execute_result"
    },
    {
     "data": {
      "text/plain": [
       "c1| `b\r\n",
       "c2| 20\r\n"
      ]
     },
     "execution_count": 31,
     "metadata": {},
     "output_type": "execute_result"
    },
    {
     "data": {
      "text/plain": [
       "c1| `c\r\n",
       "c2| 30\r\n"
      ]
     },
     "execution_count": 31,
     "metadata": {},
     "output_type": "execute_result"
    }
   ],
   "source": [
    "t[0]\n",
    "t[1]\n",
    "t[2]"
   ]
  },
  {
   "cell_type": "markdown",
   "metadata": {},
   "source": [
    "We summarize our findings about the transpose of a column dictionary,\n",
    "\n",
    "- It is a two-dimensional data structure that uses an integer index in the first slot and a column name symbol in the second slot.\n",
    "- Specifying only an integer in the first slot retrieves a section dictionary across that index\n",
    "- Specifying only a column name in the second slot retrieves that column.\n",
    "- Specifying both an integer and a column name retrieves the \"field\" at that index in that column.\n",
    "- It can be viewed as a list of section dictionaries."
   ]
  },
  {
   "cell_type": "markdown",
   "metadata": {},
   "source": [
    "Unlike the case of transposing rectangular lists, transposing a column dictionary does not physically re-arrange data.\n",
    "A transposed column dictionary is stored in column order.\n",
    "\n",
    "Instead, the result is a logical adjustment – meaning that the slots in indexing at depth are reversed."
   ]
  },
  {
   "cell_type": "code",
   "execution_count": null,
   "metadata": {},
   "outputs": [],
   "source": []
  },
  {
   "cell_type": "code",
   "execution_count": null,
   "metadata": {},
   "outputs": [],
   "source": []
  },
  {
   "cell_type": "code",
   "execution_count": null,
   "metadata": {},
   "outputs": [],
   "source": []
  },
  {
   "cell_type": "code",
   "execution_count": null,
   "metadata": {},
   "outputs": [],
   "source": []
  },
  {
   "cell_type": "code",
   "execution_count": null,
   "metadata": {},
   "outputs": [],
   "source": []
  },
  {
   "cell_type": "code",
   "execution_count": null,
   "metadata": {},
   "outputs": [],
   "source": []
  },
  {
   "cell_type": "code",
   "execution_count": null,
   "metadata": {},
   "outputs": [],
   "source": []
  },
  {
   "cell_type": "code",
   "execution_count": null,
   "metadata": {},
   "outputs": [],
   "source": []
  },
  {
   "cell_type": "code",
   "execution_count": null,
   "metadata": {},
   "outputs": [],
   "source": []
  },
  {
   "cell_type": "code",
   "execution_count": null,
   "metadata": {},
   "outputs": [],
   "source": []
  }
 ],
 "metadata": {
  "kernelspec": {
   "display_name": "Q (kdb+)",
   "language": "q",
   "name": "qpk"
  },
  "language_info": {
   "file_extension": ".q",
   "mimetype": "text/x-q",
   "name": "q",
   "version": "3.6.0"
  }
 },
 "nbformat": 4,
 "nbformat_minor": 2
}
